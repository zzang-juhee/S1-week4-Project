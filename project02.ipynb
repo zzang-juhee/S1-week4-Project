{
  "nbformat": 4,
  "nbformat_minor": 0,
  "metadata": {
    "colab": {
      "name": "project02.ipynb",
      "provenance": []
    },
    "kernelspec": {
      "name": "python3",
      "display_name": "Python 3"
    },
    "language_info": {
      "name": "python"
    }
  },
  "cells": [
    {
      "cell_type": "markdown",
      "metadata": {
        "id": "RktotKjp_QMx"
      },
      "source": [
        "# Project #2\n",
        "\n",
        "### E-Commerce Shipping Data\n",
        "Product Shipment Delivered on time or not? To Meet E-Commerce Customer Demand"
      ]
    },
    {
      "cell_type": "markdown",
      "metadata": {
        "id": "NeDRuYc6_4XQ"
      },
      "source": [
        "###Context\n",
        "\n",
        "An international e-commerce company based wants to discover key insights from their customer database. They want to use some of the most advanced machine learning techniques to study their customers. The company sells electronic products."
      ]
    },
    {
      "cell_type": "markdown",
      "metadata": {
        "id": "kpyS18vq__We"
      },
      "source": [
        "## Content\n",
        "\n",
        "- The dataset used for model building contained 10999 observations of 12 variables.\n",
        "- The data contains the following information:\n",
        "\n",
        "1. ID: ID Number of Customers.\n",
        "2. Warehouse block: The Company have big Warehouse which is divided in to block such as A,B,C,D,E.\n",
        "3. Mode of shipment:The Company Ships the products in multiple way such as Ship, Flight and Road.\n",
        "4. Customer care calls: The number of calls made from enquiry for enquiry of the shipment.\n",
        "5. Customer rating: The company has rated from every customer. 1 is the lowest (Worst), 5 is the highest (Best).\n",
        "6. Cost of the product: Cost of the Product in US Dollars.\n",
        "7. Prior purchases: The Number of Prior Purchase.\n",
        "8. Product importance: The company has categorized the product in the various parameter such as low, medium, high.\n",
        "9. Gender: Male and Female.\n",
        "10. Discount offered: Discount offered on that specific product.\n",
        "11. Weight in gms: It is the weight in grams.\n",
        "12. Reached on time: It is the target variable, where 1 Indicates that the product has NOT reached on time and 0 indicates it has reached on time.\n",
        "\n",
        "### 변수 설명\n",
        "1. ID : 고객들의 ID\n",
        "2. Warehouse block : 회사는 A, B, C, D, E와 같이 블록으로 나누어 진 큰 창고를 가지고 있음\n",
        "3. Mode of shipment : 회사는 선박, 비행 및 도로와 같은 다양한 방법으로 제품을 배송함\n",
        "4. Customer care calls : 배송 조회 문의 전화 건수\n",
        "5. Customer rating : 회사의 고객평가점수 - 1은 최저 (최악), 5는 최고\n",
        "6. Cost of the product : 제품의 비용(미국 달러)\n",
        "7. Prior purchases : 이전 구매 횟수\n",
        "8. Product importance : 낮음, 중간, 높음 매개 변수로 제품을 분류\n",
        "9. Gender : 여자/남자 성별\n",
        "10. Discount offered : 특정 제품에 대한 할인이 제공\n",
        "11. Weight in gms : 그램 단위의 무게\n",
        "12. Reached on time : *target* 1은 제품이 정시에 도달하지 않았음, 0은 정시에 도달했음\n"
      ]
    },
    {
      "cell_type": "markdown",
      "metadata": {
        "id": "-sSc69eHFA-W"
      },
      "source": [
        "### Inspiration\n",
        "This data of Product Shipment Tracking, answer instantly to your questions:\n",
        "\n",
        "- What was Customer Rating? And was the product delivered on time?\n",
        "- Is Customer query is being answered?\n",
        "- If Product importance is high. having higest rating or being delivered on time?\n",
        "\n",
        "\n",
        "- Customer Rating은 무얼까? 이거에 따라 제품이 정시에 도착했는가?\n",
        "- 제품의 중요도가 정시에 도착하는 것에 영향을 미치는가?"
      ]
    },
    {
      "cell_type": "markdown",
      "metadata": {
        "id": "0Tn8y4SYGUA8"
      },
      "source": [
        "## EDA"
      ]
    },
    {
      "cell_type": "code",
      "metadata": {
        "colab": {
          "resources": {
            "http://localhost:8080/nbextensions/google.colab/files.js": {
              "data": "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",
              "ok": true,
              "headers": [
                [
                  "content-type",
                  "application/javascript"
                ]
              ],
              "status": 200,
              "status_text": ""
            }
          },
          "base_uri": "https://localhost:8080/",
          "height": 76
        },
        "id": "3oroabbP-Q1B",
        "outputId": "96e6e1cb-cefe-4a0b-8689-76deee45fa12"
      },
      "source": [
        "# 데이터 파일을 불러오겠습니다.\n",
        "from google.colab import files\n",
        "file_uploaded = files.upload()"
      ],
      "execution_count": 1,
      "outputs": [
        {
          "output_type": "display_data",
          "data": {
            "text/html": [
              "\n",
              "     <input type=\"file\" id=\"files-f8125f3d-c6d2-489d-ab8c-24feacf1aabf\" name=\"files[]\" multiple disabled\n",
              "        style=\"border:none\" />\n",
              "     <output id=\"result-f8125f3d-c6d2-489d-ab8c-24feacf1aabf\">\n",
              "      Upload widget is only available when the cell has been executed in the\n",
              "      current browser session. Please rerun this cell to enable.\n",
              "      </output>\n",
              "      <script src=\"/nbextensions/google.colab/files.js\"></script> "
            ],
            "text/plain": [
              "<IPython.core.display.HTML object>"
            ]
          },
          "metadata": {
            "tags": []
          }
        },
        {
          "output_type": "stream",
          "text": [
            "Saving Train.csv to Train.csv\n"
          ],
          "name": "stdout"
        }
      ]
    },
    {
      "cell_type": "code",
      "metadata": {
        "colab": {
          "base_uri": "https://localhost:8080/",
          "height": 249
        },
        "id": "yHzdb3hsGXJu",
        "outputId": "5fce7dc0-09f8-4847-b0cc-968543616372"
      },
      "source": [
        "import pandas as pd\n",
        "import io\n",
        "data = pd.read_csv(io.BytesIO(file_uploaded['Train.csv']), encoding='cp949')\n",
        "\n",
        "data.head()"
      ],
      "execution_count": 73,
      "outputs": [
        {
          "output_type": "execute_result",
          "data": {
            "text/html": [
              "<div>\n",
              "<style scoped>\n",
              "    .dataframe tbody tr th:only-of-type {\n",
              "        vertical-align: middle;\n",
              "    }\n",
              "\n",
              "    .dataframe tbody tr th {\n",
              "        vertical-align: top;\n",
              "    }\n",
              "\n",
              "    .dataframe thead th {\n",
              "        text-align: right;\n",
              "    }\n",
              "</style>\n",
              "<table border=\"1\" class=\"dataframe\">\n",
              "  <thead>\n",
              "    <tr style=\"text-align: right;\">\n",
              "      <th></th>\n",
              "      <th>癤풦D</th>\n",
              "      <th>Warehouse_block</th>\n",
              "      <th>Mode_of_Shipment</th>\n",
              "      <th>Customer_care_calls</th>\n",
              "      <th>Customer_rating</th>\n",
              "      <th>Cost_of_the_Product</th>\n",
              "      <th>Prior_purchases</th>\n",
              "      <th>Product_importance</th>\n",
              "      <th>Gender</th>\n",
              "      <th>Discount_offered</th>\n",
              "      <th>Weight_in_gms</th>\n",
              "      <th>Reached.on.Time_Y.N</th>\n",
              "    </tr>\n",
              "  </thead>\n",
              "  <tbody>\n",
              "    <tr>\n",
              "      <th>0</th>\n",
              "      <td>1</td>\n",
              "      <td>D</td>\n",
              "      <td>Flight</td>\n",
              "      <td>4</td>\n",
              "      <td>2</td>\n",
              "      <td>177</td>\n",
              "      <td>3</td>\n",
              "      <td>low</td>\n",
              "      <td>F</td>\n",
              "      <td>44</td>\n",
              "      <td>1233</td>\n",
              "      <td>1</td>\n",
              "    </tr>\n",
              "    <tr>\n",
              "      <th>1</th>\n",
              "      <td>2</td>\n",
              "      <td>F</td>\n",
              "      <td>Flight</td>\n",
              "      <td>4</td>\n",
              "      <td>5</td>\n",
              "      <td>216</td>\n",
              "      <td>2</td>\n",
              "      <td>low</td>\n",
              "      <td>M</td>\n",
              "      <td>59</td>\n",
              "      <td>3088</td>\n",
              "      <td>1</td>\n",
              "    </tr>\n",
              "    <tr>\n",
              "      <th>2</th>\n",
              "      <td>3</td>\n",
              "      <td>A</td>\n",
              "      <td>Flight</td>\n",
              "      <td>2</td>\n",
              "      <td>2</td>\n",
              "      <td>183</td>\n",
              "      <td>4</td>\n",
              "      <td>low</td>\n",
              "      <td>M</td>\n",
              "      <td>48</td>\n",
              "      <td>3374</td>\n",
              "      <td>1</td>\n",
              "    </tr>\n",
              "    <tr>\n",
              "      <th>3</th>\n",
              "      <td>4</td>\n",
              "      <td>B</td>\n",
              "      <td>Flight</td>\n",
              "      <td>3</td>\n",
              "      <td>3</td>\n",
              "      <td>176</td>\n",
              "      <td>4</td>\n",
              "      <td>medium</td>\n",
              "      <td>M</td>\n",
              "      <td>10</td>\n",
              "      <td>1177</td>\n",
              "      <td>1</td>\n",
              "    </tr>\n",
              "    <tr>\n",
              "      <th>4</th>\n",
              "      <td>5</td>\n",
              "      <td>C</td>\n",
              "      <td>Flight</td>\n",
              "      <td>2</td>\n",
              "      <td>2</td>\n",
              "      <td>184</td>\n",
              "      <td>3</td>\n",
              "      <td>medium</td>\n",
              "      <td>F</td>\n",
              "      <td>46</td>\n",
              "      <td>2484</td>\n",
              "      <td>1</td>\n",
              "    </tr>\n",
              "  </tbody>\n",
              "</table>\n",
              "</div>"
            ],
            "text/plain": [
              "   癤풦D Warehouse_block  ... Weight_in_gms  Reached.on.Time_Y.N\n",
              "0    1               D  ...          1233                    1\n",
              "1    2               F  ...          3088                    1\n",
              "2    3               A  ...          3374                    1\n",
              "3    4               B  ...          1177                    1\n",
              "4    5               C  ...          2484                    1\n",
              "\n",
              "[5 rows x 12 columns]"
            ]
          },
          "metadata": {
            "tags": []
          },
          "execution_count": 73
        }
      ]
    },
    {
      "cell_type": "code",
      "metadata": {
        "colab": {
          "base_uri": "https://localhost:8080/",
          "height": 215
        },
        "id": "3iXEHsOZG7aw",
        "outputId": "86580303-f996-415f-8e91-b8b9bc62d534"
      },
      "source": [
        "#변수명 이쁘게 설정\n",
        "data.rename(columns = {\"癤풦D\": \"ID\", 'Reached.on.Time_Y.N' : 'Reached_on_time'}, inplace = True)\n",
        "\n",
        "data.head()"
      ],
      "execution_count": 74,
      "outputs": [
        {
          "output_type": "execute_result",
          "data": {
            "text/html": [
              "<div>\n",
              "<style scoped>\n",
              "    .dataframe tbody tr th:only-of-type {\n",
              "        vertical-align: middle;\n",
              "    }\n",
              "\n",
              "    .dataframe tbody tr th {\n",
              "        vertical-align: top;\n",
              "    }\n",
              "\n",
              "    .dataframe thead th {\n",
              "        text-align: right;\n",
              "    }\n",
              "</style>\n",
              "<table border=\"1\" class=\"dataframe\">\n",
              "  <thead>\n",
              "    <tr style=\"text-align: right;\">\n",
              "      <th></th>\n",
              "      <th>ID</th>\n",
              "      <th>Warehouse_block</th>\n",
              "      <th>Mode_of_Shipment</th>\n",
              "      <th>Customer_care_calls</th>\n",
              "      <th>Customer_rating</th>\n",
              "      <th>Cost_of_the_Product</th>\n",
              "      <th>Prior_purchases</th>\n",
              "      <th>Product_importance</th>\n",
              "      <th>Gender</th>\n",
              "      <th>Discount_offered</th>\n",
              "      <th>Weight_in_gms</th>\n",
              "      <th>Reached_on_time</th>\n",
              "    </tr>\n",
              "  </thead>\n",
              "  <tbody>\n",
              "    <tr>\n",
              "      <th>0</th>\n",
              "      <td>1</td>\n",
              "      <td>D</td>\n",
              "      <td>Flight</td>\n",
              "      <td>4</td>\n",
              "      <td>2</td>\n",
              "      <td>177</td>\n",
              "      <td>3</td>\n",
              "      <td>low</td>\n",
              "      <td>F</td>\n",
              "      <td>44</td>\n",
              "      <td>1233</td>\n",
              "      <td>1</td>\n",
              "    </tr>\n",
              "    <tr>\n",
              "      <th>1</th>\n",
              "      <td>2</td>\n",
              "      <td>F</td>\n",
              "      <td>Flight</td>\n",
              "      <td>4</td>\n",
              "      <td>5</td>\n",
              "      <td>216</td>\n",
              "      <td>2</td>\n",
              "      <td>low</td>\n",
              "      <td>M</td>\n",
              "      <td>59</td>\n",
              "      <td>3088</td>\n",
              "      <td>1</td>\n",
              "    </tr>\n",
              "    <tr>\n",
              "      <th>2</th>\n",
              "      <td>3</td>\n",
              "      <td>A</td>\n",
              "      <td>Flight</td>\n",
              "      <td>2</td>\n",
              "      <td>2</td>\n",
              "      <td>183</td>\n",
              "      <td>4</td>\n",
              "      <td>low</td>\n",
              "      <td>M</td>\n",
              "      <td>48</td>\n",
              "      <td>3374</td>\n",
              "      <td>1</td>\n",
              "    </tr>\n",
              "    <tr>\n",
              "      <th>3</th>\n",
              "      <td>4</td>\n",
              "      <td>B</td>\n",
              "      <td>Flight</td>\n",
              "      <td>3</td>\n",
              "      <td>3</td>\n",
              "      <td>176</td>\n",
              "      <td>4</td>\n",
              "      <td>medium</td>\n",
              "      <td>M</td>\n",
              "      <td>10</td>\n",
              "      <td>1177</td>\n",
              "      <td>1</td>\n",
              "    </tr>\n",
              "    <tr>\n",
              "      <th>4</th>\n",
              "      <td>5</td>\n",
              "      <td>C</td>\n",
              "      <td>Flight</td>\n",
              "      <td>2</td>\n",
              "      <td>2</td>\n",
              "      <td>184</td>\n",
              "      <td>3</td>\n",
              "      <td>medium</td>\n",
              "      <td>F</td>\n",
              "      <td>46</td>\n",
              "      <td>2484</td>\n",
              "      <td>1</td>\n",
              "    </tr>\n",
              "  </tbody>\n",
              "</table>\n",
              "</div>"
            ],
            "text/plain": [
              "   ID Warehouse_block  ... Weight_in_gms  Reached_on_time\n",
              "0   1               D  ...          1233                1\n",
              "1   2               F  ...          3088                1\n",
              "2   3               A  ...          3374                1\n",
              "3   4               B  ...          1177                1\n",
              "4   5               C  ...          2484                1\n",
              "\n",
              "[5 rows x 12 columns]"
            ]
          },
          "metadata": {
            "tags": []
          },
          "execution_count": 74
        }
      ]
    },
    {
      "cell_type": "code",
      "metadata": {
        "colab": {
          "base_uri": "https://localhost:8080/",
          "height": 215
        },
        "id": "eveU-9oRHedP",
        "outputId": "acdb9103-fe32-45a2-be7f-1b56955e0cd7"
      },
      "source": [
        "# ID column drop\n",
        "# ID는 그냥 고객을 구분하기 위한 고유 번호로, 타겟에 영향을 미치는 특성이 아니므로 제거합니다.\n",
        "data.drop('ID', inplace = True, axis = 1)\n",
        "\n",
        "data.head()"
      ],
      "execution_count": 75,
      "outputs": [
        {
          "output_type": "execute_result",
          "data": {
            "text/html": [
              "<div>\n",
              "<style scoped>\n",
              "    .dataframe tbody tr th:only-of-type {\n",
              "        vertical-align: middle;\n",
              "    }\n",
              "\n",
              "    .dataframe tbody tr th {\n",
              "        vertical-align: top;\n",
              "    }\n",
              "\n",
              "    .dataframe thead th {\n",
              "        text-align: right;\n",
              "    }\n",
              "</style>\n",
              "<table border=\"1\" class=\"dataframe\">\n",
              "  <thead>\n",
              "    <tr style=\"text-align: right;\">\n",
              "      <th></th>\n",
              "      <th>Warehouse_block</th>\n",
              "      <th>Mode_of_Shipment</th>\n",
              "      <th>Customer_care_calls</th>\n",
              "      <th>Customer_rating</th>\n",
              "      <th>Cost_of_the_Product</th>\n",
              "      <th>Prior_purchases</th>\n",
              "      <th>Product_importance</th>\n",
              "      <th>Gender</th>\n",
              "      <th>Discount_offered</th>\n",
              "      <th>Weight_in_gms</th>\n",
              "      <th>Reached_on_time</th>\n",
              "    </tr>\n",
              "  </thead>\n",
              "  <tbody>\n",
              "    <tr>\n",
              "      <th>0</th>\n",
              "      <td>D</td>\n",
              "      <td>Flight</td>\n",
              "      <td>4</td>\n",
              "      <td>2</td>\n",
              "      <td>177</td>\n",
              "      <td>3</td>\n",
              "      <td>low</td>\n",
              "      <td>F</td>\n",
              "      <td>44</td>\n",
              "      <td>1233</td>\n",
              "      <td>1</td>\n",
              "    </tr>\n",
              "    <tr>\n",
              "      <th>1</th>\n",
              "      <td>F</td>\n",
              "      <td>Flight</td>\n",
              "      <td>4</td>\n",
              "      <td>5</td>\n",
              "      <td>216</td>\n",
              "      <td>2</td>\n",
              "      <td>low</td>\n",
              "      <td>M</td>\n",
              "      <td>59</td>\n",
              "      <td>3088</td>\n",
              "      <td>1</td>\n",
              "    </tr>\n",
              "    <tr>\n",
              "      <th>2</th>\n",
              "      <td>A</td>\n",
              "      <td>Flight</td>\n",
              "      <td>2</td>\n",
              "      <td>2</td>\n",
              "      <td>183</td>\n",
              "      <td>4</td>\n",
              "      <td>low</td>\n",
              "      <td>M</td>\n",
              "      <td>48</td>\n",
              "      <td>3374</td>\n",
              "      <td>1</td>\n",
              "    </tr>\n",
              "    <tr>\n",
              "      <th>3</th>\n",
              "      <td>B</td>\n",
              "      <td>Flight</td>\n",
              "      <td>3</td>\n",
              "      <td>3</td>\n",
              "      <td>176</td>\n",
              "      <td>4</td>\n",
              "      <td>medium</td>\n",
              "      <td>M</td>\n",
              "      <td>10</td>\n",
              "      <td>1177</td>\n",
              "      <td>1</td>\n",
              "    </tr>\n",
              "    <tr>\n",
              "      <th>4</th>\n",
              "      <td>C</td>\n",
              "      <td>Flight</td>\n",
              "      <td>2</td>\n",
              "      <td>2</td>\n",
              "      <td>184</td>\n",
              "      <td>3</td>\n",
              "      <td>medium</td>\n",
              "      <td>F</td>\n",
              "      <td>46</td>\n",
              "      <td>2484</td>\n",
              "      <td>1</td>\n",
              "    </tr>\n",
              "  </tbody>\n",
              "</table>\n",
              "</div>"
            ],
            "text/plain": [
              "  Warehouse_block Mode_of_Shipment  ...  Weight_in_gms  Reached_on_time\n",
              "0               D           Flight  ...           1233                1\n",
              "1               F           Flight  ...           3088                1\n",
              "2               A           Flight  ...           3374                1\n",
              "3               B           Flight  ...           1177                1\n",
              "4               C           Flight  ...           2484                1\n",
              "\n",
              "[5 rows x 11 columns]"
            ]
          },
          "metadata": {
            "tags": []
          },
          "execution_count": 75
        }
      ]
    },
    {
      "cell_type": "code",
      "metadata": {
        "colab": {
          "base_uri": "https://localhost:8080/"
        },
        "id": "yKe9eFRFI-Fo",
        "outputId": "d89947b9-2aa4-4f1b-88e2-0852b8a4f730"
      },
      "source": [
        "#결측치는 없는 것으로 확인된다.\n",
        "data.info()"
      ],
      "execution_count": 76,
      "outputs": [
        {
          "output_type": "stream",
          "text": [
            "<class 'pandas.core.frame.DataFrame'>\n",
            "RangeIndex: 10999 entries, 0 to 10998\n",
            "Data columns (total 11 columns):\n",
            " #   Column               Non-Null Count  Dtype \n",
            "---  ------               --------------  ----- \n",
            " 0   Warehouse_block      10999 non-null  object\n",
            " 1   Mode_of_Shipment     10999 non-null  object\n",
            " 2   Customer_care_calls  10999 non-null  int64 \n",
            " 3   Customer_rating      10999 non-null  int64 \n",
            " 4   Cost_of_the_Product  10999 non-null  int64 \n",
            " 5   Prior_purchases      10999 non-null  int64 \n",
            " 6   Product_importance   10999 non-null  object\n",
            " 7   Gender               10999 non-null  object\n",
            " 8   Discount_offered     10999 non-null  int64 \n",
            " 9   Weight_in_gms        10999 non-null  int64 \n",
            " 10  Reached_on_time      10999 non-null  int64 \n",
            "dtypes: int64(7), object(4)\n",
            "memory usage: 945.4+ KB\n"
          ],
          "name": "stdout"
        }
      ]
    },
    {
      "cell_type": "code",
      "metadata": {
        "colab": {
          "base_uri": "https://localhost:8080/",
          "height": 373
        },
        "id": "8P7dWPzmJBfs",
        "outputId": "09367d4c-1008-4b93-a989-10c65681bf72"
      },
      "source": [
        "data.describe(include='all').T"
      ],
      "execution_count": 6,
      "outputs": [
        {
          "output_type": "execute_result",
          "data": {
            "text/html": [
              "<div>\n",
              "<style scoped>\n",
              "    .dataframe tbody tr th:only-of-type {\n",
              "        vertical-align: middle;\n",
              "    }\n",
              "\n",
              "    .dataframe tbody tr th {\n",
              "        vertical-align: top;\n",
              "    }\n",
              "\n",
              "    .dataframe thead th {\n",
              "        text-align: right;\n",
              "    }\n",
              "</style>\n",
              "<table border=\"1\" class=\"dataframe\">\n",
              "  <thead>\n",
              "    <tr style=\"text-align: right;\">\n",
              "      <th></th>\n",
              "      <th>count</th>\n",
              "      <th>unique</th>\n",
              "      <th>top</th>\n",
              "      <th>freq</th>\n",
              "      <th>mean</th>\n",
              "      <th>std</th>\n",
              "      <th>min</th>\n",
              "      <th>25%</th>\n",
              "      <th>50%</th>\n",
              "      <th>75%</th>\n",
              "      <th>max</th>\n",
              "    </tr>\n",
              "  </thead>\n",
              "  <tbody>\n",
              "    <tr>\n",
              "      <th>Warehouse_block</th>\n",
              "      <td>10999</td>\n",
              "      <td>5</td>\n",
              "      <td>F</td>\n",
              "      <td>3666</td>\n",
              "      <td>NaN</td>\n",
              "      <td>NaN</td>\n",
              "      <td>NaN</td>\n",
              "      <td>NaN</td>\n",
              "      <td>NaN</td>\n",
              "      <td>NaN</td>\n",
              "      <td>NaN</td>\n",
              "    </tr>\n",
              "    <tr>\n",
              "      <th>Mode_of_Shipment</th>\n",
              "      <td>10999</td>\n",
              "      <td>3</td>\n",
              "      <td>Ship</td>\n",
              "      <td>7462</td>\n",
              "      <td>NaN</td>\n",
              "      <td>NaN</td>\n",
              "      <td>NaN</td>\n",
              "      <td>NaN</td>\n",
              "      <td>NaN</td>\n",
              "      <td>NaN</td>\n",
              "      <td>NaN</td>\n",
              "    </tr>\n",
              "    <tr>\n",
              "      <th>Customer_care_calls</th>\n",
              "      <td>10999</td>\n",
              "      <td>NaN</td>\n",
              "      <td>NaN</td>\n",
              "      <td>NaN</td>\n",
              "      <td>4.05446</td>\n",
              "      <td>1.14149</td>\n",
              "      <td>2</td>\n",
              "      <td>3</td>\n",
              "      <td>4</td>\n",
              "      <td>5</td>\n",
              "      <td>7</td>\n",
              "    </tr>\n",
              "    <tr>\n",
              "      <th>Customer_rating</th>\n",
              "      <td>10999</td>\n",
              "      <td>NaN</td>\n",
              "      <td>NaN</td>\n",
              "      <td>NaN</td>\n",
              "      <td>2.99054</td>\n",
              "      <td>1.4136</td>\n",
              "      <td>1</td>\n",
              "      <td>2</td>\n",
              "      <td>3</td>\n",
              "      <td>4</td>\n",
              "      <td>5</td>\n",
              "    </tr>\n",
              "    <tr>\n",
              "      <th>Cost_of_the_Product</th>\n",
              "      <td>10999</td>\n",
              "      <td>NaN</td>\n",
              "      <td>NaN</td>\n",
              "      <td>NaN</td>\n",
              "      <td>210.197</td>\n",
              "      <td>48.0633</td>\n",
              "      <td>96</td>\n",
              "      <td>169</td>\n",
              "      <td>214</td>\n",
              "      <td>251</td>\n",
              "      <td>310</td>\n",
              "    </tr>\n",
              "    <tr>\n",
              "      <th>Prior_purchases</th>\n",
              "      <td>10999</td>\n",
              "      <td>NaN</td>\n",
              "      <td>NaN</td>\n",
              "      <td>NaN</td>\n",
              "      <td>3.5676</td>\n",
              "      <td>1.52286</td>\n",
              "      <td>2</td>\n",
              "      <td>3</td>\n",
              "      <td>3</td>\n",
              "      <td>4</td>\n",
              "      <td>10</td>\n",
              "    </tr>\n",
              "    <tr>\n",
              "      <th>Product_importance</th>\n",
              "      <td>10999</td>\n",
              "      <td>3</td>\n",
              "      <td>low</td>\n",
              "      <td>5297</td>\n",
              "      <td>NaN</td>\n",
              "      <td>NaN</td>\n",
              "      <td>NaN</td>\n",
              "      <td>NaN</td>\n",
              "      <td>NaN</td>\n",
              "      <td>NaN</td>\n",
              "      <td>NaN</td>\n",
              "    </tr>\n",
              "    <tr>\n",
              "      <th>Gender</th>\n",
              "      <td>10999</td>\n",
              "      <td>2</td>\n",
              "      <td>F</td>\n",
              "      <td>5545</td>\n",
              "      <td>NaN</td>\n",
              "      <td>NaN</td>\n",
              "      <td>NaN</td>\n",
              "      <td>NaN</td>\n",
              "      <td>NaN</td>\n",
              "      <td>NaN</td>\n",
              "      <td>NaN</td>\n",
              "    </tr>\n",
              "    <tr>\n",
              "      <th>Discount_offered</th>\n",
              "      <td>10999</td>\n",
              "      <td>NaN</td>\n",
              "      <td>NaN</td>\n",
              "      <td>NaN</td>\n",
              "      <td>13.3732</td>\n",
              "      <td>16.2055</td>\n",
              "      <td>1</td>\n",
              "      <td>4</td>\n",
              "      <td>7</td>\n",
              "      <td>10</td>\n",
              "      <td>65</td>\n",
              "    </tr>\n",
              "    <tr>\n",
              "      <th>Weight_in_gms</th>\n",
              "      <td>10999</td>\n",
              "      <td>NaN</td>\n",
              "      <td>NaN</td>\n",
              "      <td>NaN</td>\n",
              "      <td>3634.02</td>\n",
              "      <td>1635.38</td>\n",
              "      <td>1001</td>\n",
              "      <td>1839.5</td>\n",
              "      <td>4149</td>\n",
              "      <td>5050</td>\n",
              "      <td>7846</td>\n",
              "    </tr>\n",
              "    <tr>\n",
              "      <th>Reached_on_time</th>\n",
              "      <td>10999</td>\n",
              "      <td>NaN</td>\n",
              "      <td>NaN</td>\n",
              "      <td>NaN</td>\n",
              "      <td>0.596691</td>\n",
              "      <td>0.490584</td>\n",
              "      <td>0</td>\n",
              "      <td>0</td>\n",
              "      <td>1</td>\n",
              "      <td>1</td>\n",
              "      <td>1</td>\n",
              "    </tr>\n",
              "  </tbody>\n",
              "</table>\n",
              "</div>"
            ],
            "text/plain": [
              "                     count unique   top  freq  ...     25%   50%   75%   max\n",
              "Warehouse_block      10999      5     F  3666  ...     NaN   NaN   NaN   NaN\n",
              "Mode_of_Shipment     10999      3  Ship  7462  ...     NaN   NaN   NaN   NaN\n",
              "Customer_care_calls  10999    NaN   NaN   NaN  ...       3     4     5     7\n",
              "Customer_rating      10999    NaN   NaN   NaN  ...       2     3     4     5\n",
              "Cost_of_the_Product  10999    NaN   NaN   NaN  ...     169   214   251   310\n",
              "Prior_purchases      10999    NaN   NaN   NaN  ...       3     3     4    10\n",
              "Product_importance   10999      3   low  5297  ...     NaN   NaN   NaN   NaN\n",
              "Gender               10999      2     F  5545  ...     NaN   NaN   NaN   NaN\n",
              "Discount_offered     10999    NaN   NaN   NaN  ...       4     7    10    65\n",
              "Weight_in_gms        10999    NaN   NaN   NaN  ...  1839.5  4149  5050  7846\n",
              "Reached_on_time      10999    NaN   NaN   NaN  ...       0     1     1     1\n",
              "\n",
              "[11 rows x 11 columns]"
            ]
          },
          "metadata": {
            "tags": []
          },
          "execution_count": 6
        }
      ]
    },
    {
      "cell_type": "markdown",
      "metadata": {
        "id": "_4H9m0UxKCRw"
      },
      "source": [
        "데이터의 특성을 살펴보겠습니다."
      ]
    },
    {
      "cell_type": "code",
      "metadata": {
        "colab": {
          "base_uri": "https://localhost:8080/"
        },
        "id": "tYf7Xl1HKEkH",
        "outputId": "8787713c-ed9c-4aa7-df81-f018e5e23e73"
      },
      "source": [
        "data['Warehouse_block'].unique()"
      ],
      "execution_count": 7,
      "outputs": [
        {
          "output_type": "execute_result",
          "data": {
            "text/plain": [
              "array(['D', 'F', 'A', 'B', 'C'], dtype=object)"
            ]
          },
          "metadata": {
            "tags": []
          },
          "execution_count": 7
        }
      ]
    },
    {
      "cell_type": "code",
      "metadata": {
        "colab": {
          "base_uri": "https://localhost:8080/",
          "height": 280
        },
        "id": "DJA4B744KO8B",
        "outputId": "ef115fc6-6f4b-4105-b98f-ce655ac9eceb"
      },
      "source": [
        "import matplotlib.pyplot as plt\n",
        "import seaborn as sns\n",
        "\n",
        "%matplotlib inline\n",
        "sns.countplot(x=data['Warehouse_block']);"
      ],
      "execution_count": 8,
      "outputs": [
        {
          "output_type": "display_data",
          "data": {
            "image/png": "[encoded data removed]",
            "text/plain": [
              "<Figure size 432x288 with 1 Axes>"
            ]
          },
          "metadata": {
            "tags": [],
            "needs_background": "light"
          }
        }
      ]
    },
    {
      "cell_type": "code",
      "metadata": {
        "colab": {
          "base_uri": "https://localhost:8080/"
        },
        "id": "FVj699m8KIBM",
        "outputId": "09972732-f5a1-413b-d633-b7cba6f64bf0"
      },
      "source": [
        "data['Mode_of_Shipment'].unique()"
      ],
      "execution_count": 9,
      "outputs": [
        {
          "output_type": "execute_result",
          "data": {
            "text/plain": [
              "array(['Flight', 'Ship', 'Road'], dtype=object)"
            ]
          },
          "metadata": {
            "tags": []
          },
          "execution_count": 9
        }
      ]
    },
    {
      "cell_type": "code",
      "metadata": {
        "colab": {
          "base_uri": "https://localhost:8080/",
          "height": 280
        },
        "id": "-LwCE5opKSkU",
        "outputId": "be5f08f6-4fce-425e-a539-cd5fa8deef93"
      },
      "source": [
        "sns.countplot(x=data['Mode_of_Shipment']);\n",
        "\n",
        "# Ship으로 배송되는 수가 가장 많다."
      ],
      "execution_count": 10,
      "outputs": [
        {
          "output_type": "display_data",
          "data": {
            "image/png": "[encoded data removed]",
            "text/plain": [
              "<Figure size 432x288 with 1 Axes>"
            ]
          },
          "metadata": {
            "tags": [],
            "needs_background": "light"
          }
        }
      ]
    },
    {
      "cell_type": "code",
      "metadata": {
        "colab": {
          "base_uri": "https://localhost:8080/"
        },
        "id": "in5umA3RKKFY",
        "outputId": "778feb64-7dec-4b53-b826-c3cd13f475c9"
      },
      "source": [
        "data['Product_importance'].unique()"
      ],
      "execution_count": 11,
      "outputs": [
        {
          "output_type": "execute_result",
          "data": {
            "text/plain": [
              "array(['low', 'medium', 'high'], dtype=object)"
            ]
          },
          "metadata": {
            "tags": []
          },
          "execution_count": 11
        }
      ]
    },
    {
      "cell_type": "code",
      "metadata": {
        "colab": {
          "base_uri": "https://localhost:8080/",
          "height": 280
        },
        "id": "lCOd0MzJKVvX",
        "outputId": "44a45775-5a34-4a3d-a5a7-f57d3f673ce4"
      },
      "source": [
        "sns.countplot(x=data['Product_importance']);"
      ],
      "execution_count": 12,
      "outputs": [
        {
          "output_type": "display_data",
          "data": {
            "image/png": "[encoded data removed]",
            "text/plain": [
              "<Figure size 432x288 with 1 Axes>"
            ]
          },
          "metadata": {
            "tags": [],
            "needs_background": "light"
          }
        }
      ]
    },
    {
      "cell_type": "code",
      "metadata": {
        "colab": {
          "base_uri": "https://localhost:8080/",
          "height": 280
        },
        "id": "A_JdQtQiLWJJ",
        "outputId": "66ef86c3-8c10-4930-ceb2-f579567cb9a1"
      },
      "source": [
        "# Customer_care_calls\n",
        "sns.countplot(x=data['Customer_care_calls']);"
      ],
      "execution_count": 13,
      "outputs": [
        {
          "output_type": "display_data",
          "data": {
            "image/png": "[encoded data removed]",
            "text/plain": [
              "<Figure size 432x288 with 1 Axes>"
            ]
          },
          "metadata": {
            "tags": [],
            "needs_background": "light"
          }
        }
      ]
    },
    {
      "cell_type": "code",
      "metadata": {
        "colab": {
          "base_uri": "https://localhost:8080/",
          "height": 279
        },
        "id": "PZFpDLvfLbM-",
        "outputId": "f11c1ee5-b2fb-4c95-f042-28f0526d94f4"
      },
      "source": [
        "# Gender\n",
        "sns.countplot(x=data['Gender']);"
      ],
      "execution_count": 14,
      "outputs": [
        {
          "output_type": "display_data",
          "data": {
            "image/png": "[encoded data removed]",
            "text/plain": [
              "<Figure size 432x288 with 1 Axes>"
            ]
          },
          "metadata": {
            "tags": [],
            "needs_background": "light"
          }
        }
      ]
    },
    {
      "cell_type": "code",
      "metadata": {
        "id": "npqaFUvg6Kap",
        "outputId": "a43b51f4-8198-48fc-d8ce-da0e3fa3425d",
        "colab": {
          "base_uri": "https://localhost:8080/",
          "height": 518
        }
      },
      "source": [
        "cost= data['Cost_of_the_Product']\n",
        "\n",
        "plt.figure(figsize=(10, 7))\n",
        "\n",
        "sns.distplot(cost).set(ylabel=None, xlabel=None)\n",
        "plt.title('Product Cost', fontsize=14)\n",
        "plt.xlabel('Amount', fontsize=12)\n",
        "plt.show()"
      ],
      "execution_count": 15,
      "outputs": [
        {
          "output_type": "stream",
          "text": [
            "/usr/local/lib/python3.7/dist-packages/seaborn/distributions.py:2557: FutureWarning: `distplot` is a deprecated function and will be removed in a future version. Please adapt your code to use either `displot` (a figure-level function with similar flexibility) or `histplot` (an axes-level function for histograms).\n",
            "  warnings.warn(msg, FutureWarning)\n"
          ],
          "name": "stderr"
        },
        {
          "output_type": "display_data",
          "data": {
            "image/png": "[encoded data removed]",
            "text/plain": [
              "<Figure size 720x504 with 1 Axes>"
            ]
          },
          "metadata": {
            "tags": [],
            "needs_background": "light"
          }
        }
      ]
    },
    {
      "cell_type": "markdown",
      "metadata": {
        "id": "K--cLlzSRQFW"
      },
      "source": [
        "Discount offered 특성을 이진분류로 변환하겠습니다."
      ]
    },
    {
      "cell_type": "code",
      "metadata": {
        "colab": {
          "base_uri": "https://localhost:8080/",
          "height": 369
        },
        "id": "29EjDJ-vROYL",
        "outputId": "e43dbe87-911f-4017-9ecb-98dcd98c9940"
      },
      "source": [
        "import seaborn as sns\n",
        "import matplotlib.pyplot as plt\n",
        "sns.displot(data['Discount_offered'],kde=True);\n",
        "plt.axvline(data['Discount_offered'].mean(), color='red');"
      ],
      "execution_count": null,
      "outputs": [
        {
          "output_type": "display_data",
          "data": {
            "image/png": "[encoded data removed]",
            "text/plain": [
              "<Figure size 360x360 with 1 Axes>"
            ]
          },
          "metadata": {
            "tags": [],
            "needs_background": "light"
          }
        }
      ]
    },
    {
      "cell_type": "code",
      "metadata": {
        "colab": {
          "base_uri": "https://localhost:8080/"
        },
        "id": "iET5z89NROYQ",
        "outputId": "82c89ee6-be6b-44e6-d90a-f35f99f0a5b2"
      },
      "source": [
        "## Discount 특성을 만들어 이진분류문제로 변환합니다\n",
        "data['Discount'] = data['Discount_offered'] >= data['Discount_offered'].mean()\n",
        "data['Discount'].nunique()"
      ],
      "execution_count": null,
      "outputs": [
        {
          "output_type": "execute_result",
          "data": {
            "text/plain": [
              "2"
            ]
          },
          "metadata": {
            "tags": []
          },
          "execution_count": 134
        }
      ]
    },
    {
      "cell_type": "code",
      "metadata": {
        "colab": {
          "base_uri": "https://localhost:8080/"
        },
        "id": "EtSTA9JaROYR",
        "outputId": "08550dfb-6629-442e-cb40-5fad77f8c459"
      },
      "source": [
        "data['Discount'].value_counts()"
      ],
      "execution_count": null,
      "outputs": [
        {
          "output_type": "execute_result",
          "data": {
            "text/plain": [
              "False    8514\n",
              "True     2485\n",
              "Name: Discount, dtype: int64"
            ]
          },
          "metadata": {
            "tags": []
          },
          "execution_count": 135
        }
      ]
    },
    {
      "cell_type": "markdown",
      "metadata": {
        "id": "93t1or27ClNE"
      },
      "source": [
        "LabelEncoder를 이용하여 문자를 0부터 시작하는 정수형 숫자로 바꿔주겠습니다."
      ]
    },
    {
      "cell_type": "code",
      "metadata": {
        "id": "hqvajcpa-oQO",
        "outputId": "d215728e-96c7-4f9e-bd2f-a9785d8b05d1",
        "colab": {
          "base_uri": "https://localhost:8080/"
        }
      },
      "source": [
        "# converting\n",
        "#data['Reached_on_time'] = data['Reached_on_time'].astype('category')\n",
        "#data_div['Reached.on.Time_Y.N'].replace(1,'Not_On_Time', inplace=True)\n",
        "#data_div['Reached.on.Time_Y.N'].replace(0,'On_Time', inplace=True)\n",
        "\n",
        "# separate features and target\n",
        "#label = data['Reached_on_time']\n",
        "#numericals = data.select_dtypes(include=['number'])\n",
        "#categoricals = data.drop(['Reached_on_time'], axis=1).select_dtypes(exclude=['number'])\n",
        "\n",
        "#print(\"\\nlabel column:\", label.name)\n",
        "#print(\"__________________________\\n\")\n",
        "#print(\"numerical columns:\\n\", numericals.columns)\n",
        "#print(\"__________________________\\n\")\n",
        "#print(\"categorical columns:\\n\", categoricals.columns)"
      ],
      "execution_count": 16,
      "outputs": [
        {
          "output_type": "stream",
          "text": [
            "\n",
            "label column: Reached_on_time\n",
            "__________________________\n",
            "\n",
            "numerical columns:\n",
            " Index(['Customer_care_calls', 'Customer_rating', 'Cost_of_the_Product',\n",
            "       'Prior_purchases', 'Discount_offered', 'Weight_in_gms'],\n",
            "      dtype='object')\n",
            "__________________________\n",
            "\n",
            "categorical columns:\n",
            " Index(['Warehouse_block', 'Mode_of_Shipment', 'Product_importance', 'Gender'], dtype='object')\n"
          ],
          "name": "stdout"
        }
      ]
    },
    {
      "cell_type": "code",
      "metadata": {
        "id": "IR5q1XHd_gw2",
        "outputId": "fb8cfb4a-ccb5-4d93-981f-b6909b09cd95",
        "colab": {
          "base_uri": "https://localhost:8080/"
        }
      },
      "source": [
        "data.info()"
      ],
      "execution_count": 18,
      "outputs": [
        {
          "output_type": "stream",
          "text": [
            "<class 'pandas.core.frame.DataFrame'>\n",
            "RangeIndex: 10999 entries, 0 to 10998\n",
            "Data columns (total 11 columns):\n",
            " #   Column               Non-Null Count  Dtype   \n",
            "---  ------               --------------  -----   \n",
            " 0   Warehouse_block      10999 non-null  object  \n",
            " 1   Mode_of_Shipment     10999 non-null  object  \n",
            " 2   Customer_care_calls  10999 non-null  int64   \n",
            " 3   Customer_rating      10999 non-null  int64   \n",
            " 4   Cost_of_the_Product  10999 non-null  int64   \n",
            " 5   Prior_purchases      10999 non-null  int64   \n",
            " 6   Product_importance   10999 non-null  object  \n",
            " 7   Gender               10999 non-null  object  \n",
            " 8   Discount_offered     10999 non-null  int64   \n",
            " 9   Weight_in_gms        10999 non-null  int64   \n",
            " 10  Reached_on_time      10999 non-null  category\n",
            "dtypes: category(1), int64(6), object(4)\n",
            "memory usage: 870.3+ KB\n"
          ],
          "name": "stdout"
        }
      ]
    },
    {
      "cell_type": "code",
      "metadata": {
        "id": "yRNgcz9VCm0k"
      },
      "source": [
        "from sklearn.preprocessing import LabelEncoder\n",
        "\n",
        "encoder = LabelEncoder()"
      ],
      "execution_count": 77,
      "outputs": []
    },
    {
      "cell_type": "code",
      "metadata": {
        "colab": {
          "base_uri": "https://localhost:8080/"
        },
        "id": "73s7akA7Cmxq",
        "outputId": "040eefdd-16a2-4cbd-c517-ad35eaf44e6d"
      },
      "source": [
        "objectcolumns = data.select_dtypes(include=[\"object\"])\n",
        "print(objectcolumns.columns)"
      ],
      "execution_count": 82,
      "outputs": [
        {
          "output_type": "stream",
          "text": [
            "Index([], dtype='object')\n"
          ],
          "name": "stdout"
        }
      ]
    },
    {
      "cell_type": "code",
      "metadata": {
        "colab": {
          "base_uri": "https://localhost:8080/"
        },
        "id": "c4D-K9VlCmoR",
        "outputId": "5a4b868c-aad2-4251-b246-c38d64eae5a2"
      },
      "source": [
        "for a in objectcolumns:\n",
        "    data[a] = encoder.fit_transform(data[a])\n",
        "\n",
        "data.info()"
      ],
      "execution_count": 83,
      "outputs": [
        {
          "output_type": "stream",
          "text": [
            "<class 'pandas.core.frame.DataFrame'>\n",
            "RangeIndex: 10999 entries, 0 to 10998\n",
            "Data columns (total 11 columns):\n",
            " #   Column               Non-Null Count  Dtype\n",
            "---  ------               --------------  -----\n",
            " 0   Warehouse_block      10999 non-null  int64\n",
            " 1   Mode_of_Shipment     10999 non-null  int64\n",
            " 2   Customer_care_calls  10999 non-null  int64\n",
            " 3   Customer_rating      10999 non-null  int64\n",
            " 4   Cost_of_the_Product  10999 non-null  int64\n",
            " 5   Prior_purchases      10999 non-null  int64\n",
            " 6   Product_importance   10999 non-null  int64\n",
            " 7   Gender               10999 non-null  int64\n",
            " 8   Discount_offered     10999 non-null  int64\n",
            " 9   Weight_in_gms        10999 non-null  int64\n",
            " 10  Reached_on_time      10999 non-null  int64\n",
            "dtypes: int64(11)\n",
            "memory usage: 945.4 KB\n"
          ],
          "name": "stdout"
        }
      ]
    },
    {
      "cell_type": "code",
      "metadata": {
        "colab": {
          "base_uri": "https://localhost:8080/"
        },
        "id": "CVicRQWvLh7p",
        "outputId": "f901af62-f60f-4dcd-9531-e1e168f49676"
      },
      "source": [
        "data['Reached_on_time'].value_counts()"
      ],
      "execution_count": 19,
      "outputs": [
        {
          "output_type": "execute_result",
          "data": {
            "text/plain": [
              "1    6563\n",
              "0    4436\n",
              "Name: Reached_on_time, dtype: int64"
            ]
          },
          "metadata": {
            "tags": []
          },
          "execution_count": 19
        }
      ]
    },
    {
      "cell_type": "code",
      "metadata": {
        "colab": {
          "base_uri": "https://localhost:8080/",
          "height": 225
        },
        "id": "71ypMwGNLmC-",
        "outputId": "d31430ca-bb03-496f-8ff3-01cf828f40f4"
      },
      "source": [
        "# data의 feature 간 상관관계\n",
        "data.corr()"
      ],
      "execution_count": 20,
      "outputs": [
        {
          "output_type": "execute_result",
          "data": {
            "text/html": [
              "<div>\n",
              "<style scoped>\n",
              "    .dataframe tbody tr th:only-of-type {\n",
              "        vertical-align: middle;\n",
              "    }\n",
              "\n",
              "    .dataframe tbody tr th {\n",
              "        vertical-align: top;\n",
              "    }\n",
              "\n",
              "    .dataframe thead th {\n",
              "        text-align: right;\n",
              "    }\n",
              "</style>\n",
              "<table border=\"1\" class=\"dataframe\">\n",
              "  <thead>\n",
              "    <tr style=\"text-align: right;\">\n",
              "      <th></th>\n",
              "      <th>Customer_care_calls</th>\n",
              "      <th>Customer_rating</th>\n",
              "      <th>Cost_of_the_Product</th>\n",
              "      <th>Prior_purchases</th>\n",
              "      <th>Discount_offered</th>\n",
              "      <th>Weight_in_gms</th>\n",
              "    </tr>\n",
              "  </thead>\n",
              "  <tbody>\n",
              "    <tr>\n",
              "      <th>Customer_care_calls</th>\n",
              "      <td>1.000000</td>\n",
              "      <td>0.012209</td>\n",
              "      <td>0.323182</td>\n",
              "      <td>0.180771</td>\n",
              "      <td>-0.130750</td>\n",
              "      <td>-0.276615</td>\n",
              "    </tr>\n",
              "    <tr>\n",
              "      <th>Customer_rating</th>\n",
              "      <td>0.012209</td>\n",
              "      <td>1.000000</td>\n",
              "      <td>0.009270</td>\n",
              "      <td>0.013179</td>\n",
              "      <td>-0.003124</td>\n",
              "      <td>-0.001897</td>\n",
              "    </tr>\n",
              "    <tr>\n",
              "      <th>Cost_of_the_Product</th>\n",
              "      <td>0.323182</td>\n",
              "      <td>0.009270</td>\n",
              "      <td>1.000000</td>\n",
              "      <td>0.123676</td>\n",
              "      <td>-0.138312</td>\n",
              "      <td>-0.132604</td>\n",
              "    </tr>\n",
              "    <tr>\n",
              "      <th>Prior_purchases</th>\n",
              "      <td>0.180771</td>\n",
              "      <td>0.013179</td>\n",
              "      <td>0.123676</td>\n",
              "      <td>1.000000</td>\n",
              "      <td>-0.082769</td>\n",
              "      <td>-0.168213</td>\n",
              "    </tr>\n",
              "    <tr>\n",
              "      <th>Discount_offered</th>\n",
              "      <td>-0.130750</td>\n",
              "      <td>-0.003124</td>\n",
              "      <td>-0.138312</td>\n",
              "      <td>-0.082769</td>\n",
              "      <td>1.000000</td>\n",
              "      <td>-0.376067</td>\n",
              "    </tr>\n",
              "    <tr>\n",
              "      <th>Weight_in_gms</th>\n",
              "      <td>-0.276615</td>\n",
              "      <td>-0.001897</td>\n",
              "      <td>-0.132604</td>\n",
              "      <td>-0.168213</td>\n",
              "      <td>-0.376067</td>\n",
              "      <td>1.000000</td>\n",
              "    </tr>\n",
              "  </tbody>\n",
              "</table>\n",
              "</div>"
            ],
            "text/plain": [
              "                     Customer_care_calls  ...  Weight_in_gms\n",
              "Customer_care_calls             1.000000  ...      -0.276615\n",
              "Customer_rating                 0.012209  ...      -0.001897\n",
              "Cost_of_the_Product             0.323182  ...      -0.132604\n",
              "Prior_purchases                 0.180771  ...      -0.168213\n",
              "Discount_offered               -0.130750  ...      -0.376067\n",
              "Weight_in_gms                  -0.276615  ...       1.000000\n",
              "\n",
              "[6 rows x 6 columns]"
            ]
          },
          "metadata": {
            "tags": []
          },
          "execution_count": 20
        }
      ]
    },
    {
      "cell_type": "code",
      "metadata": {
        "colab": {
          "base_uri": "https://localhost:8080/",
          "height": 597
        },
        "id": "t-D_tHCHLops",
        "outputId": "a7493e39-a0a1-48e4-fbc5-5c995888d1db"
      },
      "source": [
        "plt.figure(figsize=(15,8))\n",
        "sns.heatmap(data = data.corr(), annot=True, \n",
        "fmt = '.5f', linewidths=.5, cmap='Blues')"
      ],
      "execution_count": 84,
      "outputs": [
        {
          "output_type": "execute_result",
          "data": {
            "text/plain": [
              "<matplotlib.axes._subplots.AxesSubplot at 0x7fd752841110>"
            ]
          },
          "metadata": {
            "tags": []
          },
          "execution_count": 84
        },
        {
          "output_type": "display_data",
          "data": {
            "image/png": "[encoded data removed]",
            "text/plain": [
              "<Figure size 1080x576 with 2 Axes>"
            ]
          },
          "metadata": {
            "tags": [],
            "needs_background": "light"
          }
        }
      ]
    },
    {
      "cell_type": "markdown",
      "metadata": {
        "id": "e2OPwN6zIN9i"
      },
      "source": [
        "데이터 셋을 나누겠습니다."
      ]
    },
    {
      "cell_type": "code",
      "metadata": {
        "id": "vMum1wxXMmWd"
      },
      "source": [
        "# On_time : 1\n",
        "# Not On_time : 0\n",
        "target = 'Reached_on_time'"
      ],
      "execution_count": 85,
      "outputs": []
    },
    {
      "cell_type": "code",
      "metadata": {
        "colab": {
          "base_uri": "https://localhost:8080/"
        },
        "id": "TubYXAWpIevK",
        "outputId": "25fb207b-f2fd-4d8f-9075-cf5d38c1f63f"
      },
      "source": [
        "from sklearn.model_selection import train_test_split\n",
        "train, test = train_test_split(data, test_size=0.2, random_state=2)\n",
        "\n",
        "train.shape, test.shape"
      ],
      "execution_count": 86,
      "outputs": [
        {
          "output_type": "execute_result",
          "data": {
            "text/plain": [
              "((8799, 11), (2200, 11))"
            ]
          },
          "metadata": {
            "tags": []
          },
          "execution_count": 86
        }
      ]
    },
    {
      "cell_type": "code",
      "metadata": {
        "colab": {
          "base_uri": "https://localhost:8080/"
        },
        "id": "hKDutbecIob3",
        "outputId": "389fe7df-3fcc-440c-a1aa-ea215a2c1210"
      },
      "source": [
        "# 80/20 비율로 학습/테스트 데이터를 분리합니다.\n",
        "train, val = train_test_split(train, train_size=0.80, test_size=0.20, \n",
        "                              stratify=train[target], random_state=2)\n",
        "\n",
        "train.shape, val.shape"
      ],
      "execution_count": 87,
      "outputs": [
        {
          "output_type": "execute_result",
          "data": {
            "text/plain": [
              "((7039, 11), (1760, 11))"
            ]
          },
          "metadata": {
            "tags": []
          },
          "execution_count": 87
        }
      ]
    },
    {
      "cell_type": "code",
      "metadata": {
        "id": "iO1Nw5z5MP-l"
      },
      "source": [
        "# 훈련, 검정 세트로 나누기!\n",
        "features = train.drop(columns=[target]).columns\n",
        "\n",
        "X_train = train[features]\n",
        "y_train = train[target]\n",
        "X_val = val[features]\n",
        "y_val = val[target]\n",
        "X_test = test[features]\n",
        "y_test = test[target]"
      ],
      "execution_count": 88,
      "outputs": []
    },
    {
      "cell_type": "markdown",
      "metadata": {
        "id": "kAS1J8PAMw5Z"
      },
      "source": [
        "이 문제는 분류 문제로, 로지스틱 회귀 분석을 시행할 수 있습니다."
      ]
    },
    {
      "cell_type": "code",
      "metadata": {
        "colab": {
          "base_uri": "https://localhost:8080/"
        },
        "id": "vzP2aHQzMg5Y",
        "outputId": "9ad35f54-7da2-40bf-f7c0-917c9a675952"
      },
      "source": [
        "# 타겟 데이터 범주의 비율을 확인합니다.\n",
        "y_train = train[target]\n",
        "y_train.value_counts(normalize=True)"
      ],
      "execution_count": 89,
      "outputs": [
        {
          "output_type": "execute_result",
          "data": {
            "text/plain": [
              "1    0.595681\n",
              "0    0.404319\n",
              "Name: Reached_on_time, dtype: float64"
            ]
          },
          "metadata": {
            "tags": []
          },
          "execution_count": 89
        }
      ]
    },
    {
      "cell_type": "code",
      "metadata": {
        "colab": {
          "base_uri": "https://localhost:8080/",
          "height": 280
        },
        "id": "0g96RW9RPCkk",
        "outputId": "18690689-48e9-45fa-a021-a47758f2933f"
      },
      "source": [
        "%matplotlib inline\n",
        "sns.countplot(x=y_train);"
      ],
      "execution_count": 90,
      "outputs": [
        {
          "output_type": "display_data",
          "data": {
            "image/png": "[encoded data removed]",
            "text/plain": [
              "<Figure size 432x288 with 1 Axes>"
            ]
          },
          "metadata": {
            "tags": [],
            "needs_background": "light"
          }
        }
      ]
    },
    {
      "cell_type": "markdown",
      "metadata": {
        "id": "8s_DPsErQW6d"
      },
      "source": [
        "(분류문제의 기준모델) 범주 1 (majority class)으로 모든 예측을 수행해 보겠습니다."
      ]
    },
    {
      "cell_type": "code",
      "metadata": {
        "id": "dkFTjz0cPEYM"
      },
      "source": [
        "# mode(): Return the highest frequency value in a Series.\n",
        "major = y_train.mode()[0]\n",
        "\n",
        "# 타겟 샘플 수 만큼 0이 담긴 리스트를 만듭니다. 기준모델로 예측\n",
        "y_pred = [major] * len(y_train)"
      ],
      "execution_count": 91,
      "outputs": []
    },
    {
      "cell_type": "markdown",
      "metadata": {
        "id": "ALPjCtcHQ5ts"
      },
      "source": [
        "분류에서는 회귀와 다른 평가지표(evaluation metrics)를 사용합니다.\n",
        "\n",
        "정확도(Accuracy) 는 분류문제에서 사용하는 평가지표입니다.\n",
        "\n",
        "이렇게 기준모델로 최다 비율 클래스를 사용할 경우 정확도를 구해 봅시다."
      ]
    },
    {
      "cell_type": "code",
      "metadata": {
        "colab": {
          "base_uri": "https://localhost:8080/"
        },
        "id": "5l8RV8ioQeHE",
        "outputId": "f82da059-a21d-4f1b-849f-e17eb1ac7e08"
      },
      "source": [
        "# 최다 클래스의 빈도가 정확도가 됩니다.\n",
        "from sklearn.metrics import accuracy_score\n",
        "print(\"training accuracy: \", accuracy_score(y_train, y_pred))"
      ],
      "execution_count": 92,
      "outputs": [
        {
          "output_type": "stream",
          "text": [
            "training accuracy:  0.595681204716579\n"
          ],
          "name": "stdout"
        }
      ]
    },
    {
      "cell_type": "code",
      "metadata": {
        "colab": {
          "base_uri": "https://localhost:8080/"
        },
        "id": "ODBwr-fbRGyQ",
        "outputId": "b1e830da-a280-4be6-a555-9856129b154c"
      },
      "source": [
        "# 검증세트 에서도 정확도를 확인해 볼 수 있습니다.\n",
        "y_val = val[target]\n",
        "y_pred = [major] * len(y_val)\n",
        "print(\"validation accuracy: \", accuracy_score(y_val, y_pred))"
      ],
      "execution_count": 93,
      "outputs": [
        {
          "output_type": "stream",
          "text": [
            "validation accuracy:  0.5960227272727273\n"
          ],
          "name": "stdout"
        }
      ]
    },
    {
      "cell_type": "markdown",
      "metadata": {
        "id": "ZiI5c0cASN1P"
      },
      "source": [
        "로지스틱회귀를 사용하면 타겟변수의 범주로 0과 1을 사용할 수 있으며 각 범주의 예측 확률값을 얻을 수 있습니다.\n",
        "\n",
        "그래서 결과적으로 관측치가 특정 클래스에 속할 확률값으로 계산이 됩니다. 분류문제에서는 확률값을 사용하여 분류를 하는데, 예를들어 확률값이 정해진 기준값 보다 크면 1 아니면 0 이라고 예측을 하게 됩니다."
      ]
    },
    {
      "cell_type": "markdown",
      "metadata": {
        "id": "SCD4f8KES78Z"
      },
      "source": [
        "## 로지스틱 회귀모델"
      ]
    },
    {
      "cell_type": "code",
      "metadata": {
        "colab": {
          "base_uri": "https://localhost:8080/"
        },
        "id": "LJLFdGpnEDo6",
        "outputId": "bf4cf9f1-4764-4a4b-d19d-bce79841a830"
      },
      "source": [
        "pip install --upgrade category_encoders"
      ],
      "execution_count": 94,
      "outputs": [
        {
          "output_type": "stream",
          "text": [
            "Requirement already up-to-date: category_encoders in /usr/local/lib/python3.7/dist-packages (2.2.2)\n",
            "Requirement already satisfied, skipping upgrade: scipy>=1.0.0 in /usr/local/lib/python3.7/dist-packages (from category_encoders) (1.4.1)\n",
            "Requirement already satisfied, skipping upgrade: patsy>=0.5.1 in /usr/local/lib/python3.7/dist-packages (from category_encoders) (0.5.1)\n",
            "Requirement already satisfied, skipping upgrade: statsmodels>=0.9.0 in /usr/local/lib/python3.7/dist-packages (from category_encoders) (0.10.2)\n",
            "Requirement already satisfied, skipping upgrade: numpy>=1.14.0 in /usr/local/lib/python3.7/dist-packages (from category_encoders) (1.19.5)\n",
            "Requirement already satisfied, skipping upgrade: scikit-learn>=0.20.0 in /usr/local/lib/python3.7/dist-packages (from category_encoders) (0.22.2.post1)\n",
            "Requirement already satisfied, skipping upgrade: pandas>=0.21.1 in /usr/local/lib/python3.7/dist-packages (from category_encoders) (1.1.5)\n",
            "Requirement already satisfied, skipping upgrade: six in /usr/local/lib/python3.7/dist-packages (from patsy>=0.5.1->category_encoders) (1.15.0)\n",
            "Requirement already satisfied, skipping upgrade: joblib>=0.11 in /usr/local/lib/python3.7/dist-packages (from scikit-learn>=0.20.0->category_encoders) (1.0.1)\n",
            "Requirement already satisfied, skipping upgrade: python-dateutil>=2.7.3 in /usr/local/lib/python3.7/dist-packages (from pandas>=0.21.1->category_encoders) (2.8.1)\n",
            "Requirement already satisfied, skipping upgrade: pytz>=2017.2 in /usr/local/lib/python3.7/dist-packages (from pandas>=0.21.1->category_encoders) (2018.9)\n"
          ],
          "name": "stdout"
        }
      ]
    },
    {
      "cell_type": "markdown",
      "metadata": {
        "id": "nxbGvJnGuNLZ"
      },
      "source": [
        "- 카테고리 데이터 처리를 위해 OneHotEncoder\n",
        "- 결측치(missing value) 처리를 위한 SimpleImputer\n",
        "- 특성들의 척도를 맞추기 위해 표준정규분포로 표준화하는(평균=0, 표준편차=1) StandardScaler"
      ]
    },
    {
      "cell_type": "code",
      "metadata": {
        "id": "-tTUa_Gmonyf",
        "outputId": "be061386-85c8-46a8-f18c-b4b7ae2955fd",
        "colab": {
          "base_uri": "https://localhost:8080/"
        }
      },
      "source": [
        "#0427\n",
        "from category_encoders import OneHotEncoder\n",
        "from sklearn.impute import SimpleImputer\n",
        "from sklearn.preprocessing import StandardScaler\n",
        "from sklearn.linear_model import LogisticRegression\n",
        "from sklearn.pipeline import make_pipeline\n",
        "\n",
        "enc = OneHotEncoder()\n",
        "imp_mean = SimpleImputer()\n",
        "scaler = StandardScaler()\n",
        "model_lr = LogisticRegression(n_jobs=-1)\n",
        "\n",
        "X_train_encoded = enc.fit_transform(X_train)\n",
        "X_train_imputed = imp_mean.fit_transform(X_train_encoded)\n",
        "X_train_scaled = scaler.fit_transform(X_train_imputed)\n",
        "model_lr.fit(X_train_scaled, y_train)\n",
        "\n",
        "X_val_encoded = enc.transform(X_val)\n",
        "X_val_imputed = imp_mean.transform(X_val_encoded)\n",
        "X_val_scaled = scaler.transform(X_val_imputed)\n",
        "\n",
        "# score method: Return the mean accuracy on the given test data and labels\n",
        "print('검증세트 정확도', model_lr.score(X_val_scaled, y_val))\n",
        "\n",
        "X_test_encoded = enc.transform(X_test)\n",
        "X_test_imputed = imp_mean.transform(X_test_encoded)\n",
        "X_test_scaled = scaler.transform(X_test_imputed)\n",
        "\n",
        "y_pred_lr = model_lr.predict(X_test_scaled)"
      ],
      "execution_count": 95,
      "outputs": [
        {
          "output_type": "stream",
          "text": [
            "검증세트 정확도 0.6369318181818182\n"
          ],
          "name": "stdout"
        },
        {
          "output_type": "stream",
          "text": [
            "/usr/local/lib/python3.7/dist-packages/category_encoders/utils.py:21: FutureWarning: is_categorical is deprecated and will be removed in a future version.  Use is_categorical_dtype instead\n",
            "  elif pd.api.types.is_categorical(cols):\n"
          ],
          "name": "stderr"
        }
      ]
    },
    {
      "cell_type": "code",
      "metadata": {
        "id": "Ehtgwh1OrPpY",
        "outputId": "ea95ca59-2261-40c2-e5ae-05e6e4ea1509",
        "colab": {
          "base_uri": "https://localhost:8080/"
        }
      },
      "source": [
        "print(\"test accuracy :\", accuracy_score(y_pred_lr, y_test))"
      ],
      "execution_count": 96,
      "outputs": [
        {
          "output_type": "stream",
          "text": [
            "test accuracy : 0.634090909090909\n"
          ],
          "name": "stdout"
        }
      ]
    },
    {
      "cell_type": "markdown",
      "metadata": {
        "id": "sPC-qwXetpUe"
      },
      "source": [
        "모든 범주를 0으로 분류하는 기준모델보다 정확도가 높게 나왔습니다. 어느정도 학습이 잘 이루어진 것으로 보여집니다. 예측 결과를 보면 0과 1로 예측 한 것을 확인할 수 있습니다."
      ]
    },
    {
      "cell_type": "code",
      "metadata": {
        "id": "mthIskhrtrqR",
        "outputId": "514706ab-82e2-418c-d67b-6099e229a463",
        "colab": {
          "base_uri": "https://localhost:8080/"
        }
      },
      "source": [
        "pred = model_lr.predict(X_val_scaled)\n",
        "pred"
      ],
      "execution_count": 97,
      "outputs": [
        {
          "output_type": "execute_result",
          "data": {
            "text/plain": [
              "array([1, 0, 1, ..., 1, 1, 1])"
            ]
          },
          "metadata": {
            "tags": []
          },
          "execution_count": 97
        }
      ]
    },
    {
      "cell_type": "code",
      "metadata": {
        "id": "OnOACBrwt0DG",
        "outputId": "a5881041-8f95-4757-d117-3aba1a2050c8",
        "colab": {
          "base_uri": "https://localhost:8080/"
        }
      },
      "source": [
        "print(features)\n",
        "\n",
        "print(model_lr.coef_)\n",
        "# 수정사항 : 소숫점자리 5번째까지 표시할 수 있도록"
      ],
      "execution_count": 98,
      "outputs": [
        {
          "output_type": "stream",
          "text": [
            "Index(['Warehouse_block', 'Mode_of_Shipment', 'Customer_care_calls',\n",
            "       'Customer_rating', 'Cost_of_the_Product', 'Prior_purchases',\n",
            "       'Product_importance', 'Gender', 'Discount_offered', 'Weight_in_gms'],\n",
            "      dtype='object')\n",
            "[[ 0.00237599  0.02393342 -0.12741761  0.04490532 -0.08756014 -0.10943139\n",
            "  -0.05522855  0.01806672  1.84638083 -0.39002977]]\n"
          ],
          "name": "stdout"
        }
      ]
    },
    {
      "cell_type": "markdown",
      "metadata": {
        "id": "19_2gqpAt5NO"
      },
      "source": [
        "계수가 양수인 경우 정시에 도착할 가능성을 높이고 음수인 경우 정시에 도착할 가능성을 낮추는 것으로 해석할 수 있습니다."
      ]
    },
    {
      "cell_type": "markdown",
      "metadata": {
        "id": "gpHslJdfh_1Q"
      },
      "source": [
        "평균은 0, 표준편차는 1로 표준화 되었습니다."
      ]
    },
    {
      "cell_type": "code",
      "metadata": {
        "colab": {
          "base_uri": "https://localhost:8080/"
        },
        "id": "BY5L6qafdVmY",
        "outputId": "50586adf-cc43-4405-aef9-8cb8f45f1cd5"
      },
      "source": [
        "X_train_scaled.T[0].mean(), X_train_scaled.T[0].std()"
      ],
      "execution_count": 99,
      "outputs": [
        {
          "output_type": "execute_result",
          "data": {
            "text/plain": [
              "(0.0, 1.0)"
            ]
          },
          "metadata": {
            "tags": []
          },
          "execution_count": 99
        }
      ]
    },
    {
      "cell_type": "code",
      "metadata": {
        "id": "oskKIBt3uy_Q",
        "outputId": "b1b90f0b-9321-443f-9984-27056aee062d",
        "colab": {
          "base_uri": "https://localhost:8080/"
        }
      },
      "source": [
        "# 파이프라인으로 코드를 훨씬 간결하게 구축하였습니다.\n",
        "pipe_lr = make_pipeline(\n",
        "    OneHotEncoder(), \n",
        "    SimpleImputer(), \n",
        "    StandardScaler(), \n",
        "    LogisticRegression(n_jobs=-1)\n",
        ")\n",
        "pipe_lr.fit(X_train, y_train)\n",
        "\n",
        "print('검증세트 정확도', pipe_lr.score(X_val, y_val))\n",
        "\n",
        "y_pred_lr2 = pipe_lr.predict(X_test)"
      ],
      "execution_count": 100,
      "outputs": [
        {
          "output_type": "stream",
          "text": [
            "검증세트 정확도 0.6369318181818182\n"
          ],
          "name": "stdout"
        },
        {
          "output_type": "stream",
          "text": [
            "/usr/local/lib/python3.7/dist-packages/category_encoders/utils.py:21: FutureWarning: is_categorical is deprecated and will be removed in a future version.  Use is_categorical_dtype instead\n",
            "  elif pd.api.types.is_categorical(cols):\n"
          ],
          "name": "stderr"
        }
      ]
    },
    {
      "cell_type": "code",
      "metadata": {
        "id": "djrXfL4dvCgt",
        "outputId": "b02832ac-fccc-4049-971d-fc5ce2334b49",
        "colab": {
          "base_uri": "https://localhost:8080/"
        }
      },
      "source": [
        "pipe_lr.named_steps"
      ],
      "execution_count": 101,
      "outputs": [
        {
          "output_type": "execute_result",
          "data": {
            "text/plain": [
              "{'logisticregression': LogisticRegression(C=1.0, class_weight=None, dual=False, fit_intercept=True,\n",
              "                    intercept_scaling=1, l1_ratio=None, max_iter=100,\n",
              "                    multi_class='auto', n_jobs=-1, penalty='l2',\n",
              "                    random_state=None, solver='lbfgs', tol=0.0001, verbose=0,\n",
              "                    warm_start=False),\n",
              " 'onehotencoder': OneHotEncoder(cols=[], drop_invariant=False, handle_missing='value',\n",
              "               handle_unknown='value', return_df=True, use_cat_names=False,\n",
              "               verbose=0),\n",
              " 'simpleimputer': SimpleImputer(add_indicator=False, copy=True, fill_value=None,\n",
              "               missing_values=nan, strategy='mean', verbose=0),\n",
              " 'standardscaler': StandardScaler(copy=True, with_mean=True, with_std=True)}"
            ]
          },
          "metadata": {
            "tags": []
          },
          "execution_count": 101
        }
      ]
    },
    {
      "cell_type": "code",
      "metadata": {
        "id": "MsDxaCO9vIFu",
        "outputId": "b60c9a8b-3a31-487b-9916-2a72f4b7ebea",
        "colab": {
          "base_uri": "https://localhost:8080/",
          "height": 320
        }
      },
      "source": [
        "import matplotlib.pyplot as plt\n",
        "\n",
        "model_lr = pipe_lr.named_steps['logisticregression']\n",
        "enc = pipe_lr.named_steps['onehotencoder']\n",
        "encoded_columns = enc.transform(X_val).columns\n",
        "coefficients = pd.Series(model_lr.coef_[0], encoded_columns)\n",
        "plt.figure(figsize=(5,5))\n",
        "coefficients.sort_values().plot.barh();"
      ],
      "execution_count": 102,
      "outputs": [
        {
          "output_type": "display_data",
          "data": {
            "image/png": "[encoded data removed]",
            "text/plain": [
              "<Figure size 360x360 with 1 Axes>"
            ]
          },
          "metadata": {
            "tags": [],
            "needs_background": "light"
          }
        }
      ]
    },
    {
      "cell_type": "markdown",
      "metadata": {
        "id": "csfGTmUsQhro"
      },
      "source": [
        "그냥 원핫인코딩이 아닌, 순서형 인코딩으로 학습시켜 보겠습니다."
      ]
    },
    {
      "cell_type": "code",
      "metadata": {
        "id": "OIPufYHYwvkx",
        "outputId": "772599bd-cedc-43e6-e15e-51030372fbab",
        "colab": {
          "base_uri": "https://localhost:8080/"
        }
      },
      "source": [
        "from category_encoders import OrdinalEncoder\n",
        "\n",
        "pipe_lr_ord = make_pipeline(\n",
        "    OrdinalEncoder(), \n",
        "    SimpleImputer(),  \n",
        "    LogisticRegression(n_jobs=-1)\n",
        ")\n",
        "pipe_lr_ord.fit(X_train, y_train)\n",
        "\n",
        "print('검증세트 정확도', pipe_lr_ord.score(X_val, y_val))"
      ],
      "execution_count": 103,
      "outputs": [
        {
          "output_type": "stream",
          "text": [
            "검증세트 정확도 0.6278409090909091\n"
          ],
          "name": "stdout"
        }
      ]
    },
    {
      "cell_type": "code",
      "metadata": {
        "colab": {
          "base_uri": "https://localhost:8080/"
        },
        "id": "1jYDAXOXWHAO",
        "outputId": "5570b104-7239-486c-874f-0d0748d277f1"
      },
      "source": [
        "print('테스트세트 정확도', pipe_lr_ord.score(X_test, y_test))"
      ],
      "execution_count": 104,
      "outputs": [
        {
          "output_type": "stream",
          "text": [
            "테스트세트 정확도 0.6290909090909091\n"
          ],
          "name": "stdout"
        }
      ]
    },
    {
      "cell_type": "markdown",
      "metadata": {
        "id": "Vy6hgD6Vxtuy"
      },
      "source": [
        "## DesicionTreeClassifier 를 사용해 결정트리를 구현"
      ]
    },
    {
      "cell_type": "markdown",
      "metadata": {
        "id": "c7Q7ZrDyxw2c"
      },
      "source": [
        "파이프라인을 사용하면 위에서 본 코드에서 단지 분류기만 바꾸어 주면 됩니다! 그리고 결정트리에서는 StandardScaler는 도움이 되지 않기 때문에 제외하겠습니다."
      ]
    },
    {
      "cell_type": "code",
      "metadata": {
        "id": "65RzUBrCx2Nm",
        "outputId": "791380c8-6d8b-46fb-e22d-409176df8e24",
        "colab": {
          "base_uri": "https://localhost:8080/"
        }
      },
      "source": [
        "from sklearn.tree import DecisionTreeClassifier\n",
        "\n",
        "pipe_dt = make_pipeline(\n",
        "    OneHotEncoder(use_cat_names=True), \n",
        "    SimpleImputer(), \n",
        "    DecisionTreeClassifier(random_state=2, criterion='entropy')\n",
        ")\n",
        "\n",
        "pipe_dt.fit(X_train, y_train)\n",
        "print('훈련 정확도: ', pipe_dt.score(X_train, y_train))\n",
        "print('검증 정확도: ', pipe_dt.score(X_val, y_val))"
      ],
      "execution_count": 105,
      "outputs": [
        {
          "output_type": "stream",
          "text": [
            "훈련 정확도:  1.0\n",
            "검증 정확도:  0.6392045454545454\n"
          ],
          "name": "stdout"
        },
        {
          "output_type": "stream",
          "text": [
            "/usr/local/lib/python3.7/dist-packages/category_encoders/utils.py:21: FutureWarning: is_categorical is deprecated and will be removed in a future version.  Use is_categorical_dtype instead\n",
            "  elif pd.api.types.is_categorical(cols):\n"
          ],
          "name": "stderr"
        }
      ]
    },
    {
      "cell_type": "code",
      "metadata": {
        "id": "hzeFxkvXx90H",
        "outputId": "cad6a895-8863-49b8-bec7-5de3b0697d88",
        "colab": {
          "base_uri": "https://localhost:8080/"
        }
      },
      "source": [
        "y_val.value_counts(normalize=True)"
      ],
      "execution_count": 106,
      "outputs": [
        {
          "output_type": "execute_result",
          "data": {
            "text/plain": [
              "1    0.596023\n",
              "0    0.403977\n",
              "Name: Reached_on_time, dtype: float64"
            ]
          },
          "metadata": {
            "tags": []
          },
          "execution_count": 106
        }
      ]
    },
    {
      "cell_type": "markdown",
      "metadata": {
        "id": "RTuCD_YOyEVj"
      },
      "source": [
        "학습데이터는 99% 이상 맞추면서 검증세트의 정확도는 다수범주(0)의 비율과 비슷하게 나오는 것을 확인할 수 있습니다.\n",
        "확실한 과적합임을 확인할 수 있습니다. 대부분 1로 예측한 것 같습니다. 다수 범주로 예측하는 모델이 기준모델이라고 보면, 기준모델과 동일한 성능이 나오므로 학습이 잘 되었다고 판단할 수 없겠습니다."
      ]
    },
    {
      "cell_type": "code",
      "metadata": {
        "id": "T_itW0zHyQyf",
        "outputId": "9f45cfa6-1647-42da-89ea-d9ba99a9e32b",
        "colab": {
          "base_uri": "https://localhost:8080/",
          "height": 713
        }
      },
      "source": [
        "# graphviz 설치방법: conda install -c conda-forge python-graphviz\n",
        "# depth 제한을 3으로 두고 결정트리를 그려보았습니다.\n",
        "import graphviz\n",
        "from sklearn.tree import export_graphviz\n",
        "\n",
        "model_dt = pipe_dt.named_steps['decisiontreeclassifier']\n",
        "enc = pipe_dt.named_steps['onehotencoder']\n",
        "encoded_columns = enc.transform(X_val).columns\n",
        "\n",
        "dot_data = export_graphviz(model_dt\n",
        "                          , max_depth=3\n",
        "                          , feature_names=encoded_columns\n",
        "                          , class_names=['no', 'yes']\n",
        "                          , filled=True\n",
        "                          , proportion=True)\n",
        "\n",
        "\n",
        "display(graphviz.Source(dot_data))"
      ],
      "execution_count": 107,
      "outputs": [
        {
          "output_type": "display_data",
          "data": {
            "text/plain": [
              "<graphviz.files.Source at 0x7fd752644890>"
            ],
            "image/svg+xml": "<?xml version=\"1.0\" encoding=\"UTF-8\" standalone=\"no\"?>\n<!DOCTYPE svg PUBLIC \"-//W3C//DTD SVG 1.1//EN\"\n \"http://www.w3.org/Graphics/SVG/1.1/DTD/svg11.dtd\">\n<!-- Generated by graphviz version 2.40.1 (20161225.0304)\n -->\n<!-- Title: Tree Pages: 1 -->\n<svg width=\"746pt\" height=\"520pt\"\n viewBox=\"0.00 0.00 746.00 520.00\" xmlns=\"http://www.w3.org/2000/svg\" xmlns:xlink=\"http://www.w3.org/1999/xlink\">\n<g id=\"graph0\" class=\"graph\" transform=\"scale(1 1) rotate(0) translate(4 516)\">\n<title>Tree</title>\n<polygon fill=\"#ffffff\" stroke=\"transparent\" points=\"-4,4 -4,-516 742,-516 742,4 -4,4\"/>\n<!-- 0 -->\n<g id=\"node1\" class=\"node\">\n<title>0</title>\n<polygon fill=\"#bfe0f7\" stroke=\"#000000\" points=\"567,-512 400,-512 400,-429 567,-429 567,-512\"/>\n<text text-anchor=\"middle\" x=\"483.5\" y=\"-496.8\" font-family=\"Times,serif\" font-size=\"14.00\" fill=\"#000000\">Discount_offered &lt;= 10.5</text>\n<text text-anchor=\"middle\" x=\"483.5\" y=\"-481.8\" font-family=\"Times,serif\" font-size=\"14.00\" fill=\"#000000\">entropy = 0.973</text>\n<text text-anchor=\"middle\" x=\"483.5\" y=\"-466.8\" font-family=\"Times,serif\" font-size=\"14.00\" fill=\"#000000\">samples = 100.0%</text>\n<text text-anchor=\"middle\" x=\"483.5\" y=\"-451.8\" font-family=\"Times,serif\" font-size=\"14.00\" fill=\"#000000\">value = [0.404, 0.596]</text>\n<text text-anchor=\"middle\" x=\"483.5\" y=\"-436.8\" font-family=\"Times,serif\" font-size=\"14.00\" fill=\"#000000\">class = yes</text>\n</g>\n<!-- 1 -->\n<g id=\"node2\" class=\"node\">\n<title>1</title>\n<polygon fill=\"#fcf0e8\" stroke=\"#000000\" points=\"489,-393 316,-393 316,-310 489,-310 489,-393\"/>\n<text text-anchor=\"middle\" x=\"402.5\" y=\"-377.8\" font-family=\"Times,serif\" font-size=\"14.00\" fill=\"#000000\">Weight_in_gms &lt;= 4014.5</text>\n<text text-anchor=\"middle\" x=\"402.5\" y=\"-362.8\" font-family=\"Times,serif\" font-size=\"14.00\" fill=\"#000000\">entropy = 0.997</text>\n<text text-anchor=\"middle\" x=\"402.5\" y=\"-347.8\" font-family=\"Times,serif\" font-size=\"14.00\" fill=\"#000000\">samples = 76.1%</text>\n<text text-anchor=\"middle\" x=\"402.5\" y=\"-332.8\" font-family=\"Times,serif\" font-size=\"14.00\" fill=\"#000000\">value = [0.531, 0.469]</text>\n<text text-anchor=\"middle\" x=\"402.5\" y=\"-317.8\" font-family=\"Times,serif\" font-size=\"14.00\" fill=\"#000000\">class = no</text>\n</g>\n<!-- 0&#45;&gt;1 -->\n<g id=\"edge1\" class=\"edge\">\n<title>0&#45;&gt;1</title>\n<path fill=\"none\" stroke=\"#000000\" d=\"M455.1701,-428.8796C449.2237,-420.1434 442.8914,-410.8404 436.755,-401.8253\"/>\n<polygon fill=\"#000000\" stroke=\"#000000\" points=\"439.4711,-399.5953 430.9508,-393.2981 433.6844,-403.5342 439.4711,-399.5953\"/>\n<text text-anchor=\"middle\" x=\"426.2843\" y=\"-414.1587\" font-family=\"Times,serif\" font-size=\"14.00\" fill=\"#000000\">True</text>\n</g>\n<!-- 3012 -->\n<g id=\"node15\" class=\"node\">\n<title>3012</title>\n<polygon fill=\"#399de5\" stroke=\"#000000\" points=\"624,-385.5 507,-385.5 507,-317.5 624,-317.5 624,-385.5\"/>\n<text text-anchor=\"middle\" x=\"565.5\" y=\"-370.3\" font-family=\"Times,serif\" font-size=\"14.00\" fill=\"#000000\">entropy = 0.0</text>\n<text text-anchor=\"middle\" x=\"565.5\" y=\"-355.3\" font-family=\"Times,serif\" font-size=\"14.00\" fill=\"#000000\">samples = 23.9%</text>\n<text text-anchor=\"middle\" x=\"565.5\" y=\"-340.3\" font-family=\"Times,serif\" font-size=\"14.00\" fill=\"#000000\">value = [0.0, 1.0]</text>\n<text text-anchor=\"middle\" x=\"565.5\" y=\"-325.3\" font-family=\"Times,serif\" font-size=\"14.00\" fill=\"#000000\">class = yes</text>\n</g>\n<!-- 0&#45;&gt;3012 -->\n<g id=\"edge14\" class=\"edge\">\n<title>0&#45;&gt;3012</title>\n<path fill=\"none\" stroke=\"#000000\" d=\"M512.1796,-428.8796C519.9083,-417.6636 528.2809,-405.5131 536.0508,-394.2372\"/>\n<polygon fill=\"#000000\" stroke=\"#000000\" points=\"539.0623,-396.0353 541.8544,-385.8149 533.2982,-392.0634 539.0623,-396.0353\"/>\n<text text-anchor=\"middle\" x=\"546.3804\" y=\"-406.7018\" font-family=\"Times,serif\" font-size=\"14.00\" fill=\"#000000\">False</text>\n</g>\n<!-- 2 -->\n<g id=\"node3\" class=\"node\">\n<title>2</title>\n<polygon fill=\"#cee7f9\" stroke=\"#000000\" points=\"388,-274 215,-274 215,-191 388,-191 388,-274\"/>\n<text text-anchor=\"middle\" x=\"301.5\" y=\"-258.8\" font-family=\"Times,serif\" font-size=\"14.00\" fill=\"#000000\">Weight_in_gms &lt;= 1994.5</text>\n<text text-anchor=\"middle\" x=\"301.5\" y=\"-243.8\" font-family=\"Times,serif\" font-size=\"14.00\" fill=\"#000000\">entropy = 0.986</text>\n<text text-anchor=\"middle\" x=\"301.5\" y=\"-228.8\" font-family=\"Times,serif\" font-size=\"14.00\" fill=\"#000000\">samples = 21.9%</text>\n<text text-anchor=\"middle\" x=\"301.5\" y=\"-213.8\" font-family=\"Times,serif\" font-size=\"14.00\" fill=\"#000000\">value = [0.429, 0.571]</text>\n<text text-anchor=\"middle\" x=\"301.5\" y=\"-198.8\" font-family=\"Times,serif\" font-size=\"14.00\" fill=\"#000000\">class = yes</text>\n</g>\n<!-- 1&#45;&gt;2 -->\n<g id=\"edge2\" class=\"edge\">\n<title>1&#45;&gt;2</title>\n<path fill=\"none\" stroke=\"#000000\" d=\"M367.1751,-309.8796C359.5311,-300.8733 351.3757,-291.2644 343.5039,-281.9897\"/>\n<polygon fill=\"#000000\" stroke=\"#000000\" points=\"346.1151,-279.6574 336.9757,-274.2981 340.7782,-284.1871 346.1151,-279.6574\"/>\n</g>\n<!-- 777 -->\n<g id=\"node10\" class=\"node\">\n<title>777</title>\n<polygon fill=\"#f8dfcd\" stroke=\"#000000\" points=\"591,-274 418,-274 418,-191 591,-191 591,-274\"/>\n<text text-anchor=\"middle\" x=\"504.5\" y=\"-258.8\" font-family=\"Times,serif\" font-size=\"14.00\" fill=\"#000000\">Weight_in_gms &lt;= 5998.5</text>\n<text text-anchor=\"middle\" x=\"504.5\" y=\"-243.8\" font-family=\"Times,serif\" font-size=\"14.00\" fill=\"#000000\">entropy = 0.985</text>\n<text text-anchor=\"middle\" x=\"504.5\" y=\"-228.8\" font-family=\"Times,serif\" font-size=\"14.00\" fill=\"#000000\">samples = 54.2%</text>\n<text text-anchor=\"middle\" x=\"504.5\" y=\"-213.8\" font-family=\"Times,serif\" font-size=\"14.00\" fill=\"#000000\">value = [0.573, 0.427]</text>\n<text text-anchor=\"middle\" x=\"504.5\" y=\"-198.8\" font-family=\"Times,serif\" font-size=\"14.00\" fill=\"#000000\">class = no</text>\n</g>\n<!-- 1&#45;&gt;777 -->\n<g id=\"edge9\" class=\"edge\">\n<title>1&#45;&gt;777</title>\n<path fill=\"none\" stroke=\"#000000\" d=\"M438.1747,-309.8796C445.8943,-300.8733 454.1305,-291.2644 462.0803,-281.9897\"/>\n<polygon fill=\"#000000\" stroke=\"#000000\" points=\"464.8225,-284.1684 468.6731,-274.2981 459.5077,-279.6129 464.8225,-284.1684\"/>\n</g>\n<!-- 3 -->\n<g id=\"node4\" class=\"node\">\n<title>3</title>\n<polygon fill=\"#f5fafe\" stroke=\"#000000\" points=\"197,-155 0,-155 0,-72 197,-72 197,-155\"/>\n<text text-anchor=\"middle\" x=\"98.5\" y=\"-139.8\" font-family=\"Times,serif\" font-size=\"14.00\" fill=\"#000000\">Cost_of_the_Product &lt;= 186.5</text>\n<text text-anchor=\"middle\" x=\"98.5\" y=\"-124.8\" font-family=\"Times,serif\" font-size=\"14.00\" fill=\"#000000\">entropy = 1.0</text>\n<text text-anchor=\"middle\" x=\"98.5\" y=\"-109.8\" font-family=\"Times,serif\" font-size=\"14.00\" fill=\"#000000\">samples = 19.0%</text>\n<text text-anchor=\"middle\" x=\"98.5\" y=\"-94.8\" font-family=\"Times,serif\" font-size=\"14.00\" fill=\"#000000\">value = [0.487, 0.513]</text>\n<text text-anchor=\"middle\" x=\"98.5\" y=\"-79.8\" font-family=\"Times,serif\" font-size=\"14.00\" fill=\"#000000\">class = yes</text>\n</g>\n<!-- 2&#45;&gt;3 -->\n<g id=\"edge3\" class=\"edge\">\n<title>2&#45;&gt;3</title>\n<path fill=\"none\" stroke=\"#000000\" d=\"M230.5005,-190.8796C213.6566,-181.0056 195.5774,-170.4075 178.3683,-160.3193\"/>\n<polygon fill=\"#000000\" stroke=\"#000000\" points=\"179.8565,-157.1347 169.4595,-155.0969 176.3164,-163.1736 179.8565,-157.1347\"/>\n</g>\n<!-- 754 -->\n<g id=\"node7\" class=\"node\">\n<title>754</title>\n<polygon fill=\"#44a3e6\" stroke=\"#000000\" points=\"388,-155 215,-155 215,-72 388,-72 388,-155\"/>\n<text text-anchor=\"middle\" x=\"301.5\" y=\"-139.8\" font-family=\"Times,serif\" font-size=\"14.00\" fill=\"#000000\">Weight_in_gms &lt;= 3991.5</text>\n<text text-anchor=\"middle\" x=\"301.5\" y=\"-124.8\" font-family=\"Times,serif\" font-size=\"14.00\" fill=\"#000000\">entropy = 0.301</text>\n<text text-anchor=\"middle\" x=\"301.5\" y=\"-109.8\" font-family=\"Times,serif\" font-size=\"14.00\" fill=\"#000000\">samples = 2.9%</text>\n<text text-anchor=\"middle\" x=\"301.5\" y=\"-94.8\" font-family=\"Times,serif\" font-size=\"14.00\" fill=\"#000000\">value = [0.053, 0.947]</text>\n<text text-anchor=\"middle\" x=\"301.5\" y=\"-79.8\" font-family=\"Times,serif\" font-size=\"14.00\" fill=\"#000000\">class = yes</text>\n</g>\n<!-- 2&#45;&gt;754 -->\n<g id=\"edge6\" class=\"edge\">\n<title>2&#45;&gt;754</title>\n<path fill=\"none\" stroke=\"#000000\" d=\"M301.5,-190.8796C301.5,-182.6838 301.5,-173.9891 301.5,-165.5013\"/>\n<polygon fill=\"#000000\" stroke=\"#000000\" points=\"305.0001,-165.298 301.5,-155.2981 298.0001,-165.2981 305.0001,-165.298\"/>\n</g>\n<!-- 4 -->\n<g id=\"node5\" class=\"node\">\n<title>4</title>\n<polygon fill=\"#c0c0c0\" stroke=\"#000000\" points=\"104.5,-36 50.5,-36 50.5,0 104.5,0 104.5,-36\"/>\n<text text-anchor=\"middle\" x=\"77.5\" y=\"-14.3\" font-family=\"Times,serif\" font-size=\"14.00\" fill=\"#000000\">(...)</text>\n</g>\n<!-- 3&#45;&gt;4 -->\n<g id=\"edge4\" class=\"edge\">\n<title>3&#45;&gt;4</title>\n<path fill=\"none\" stroke=\"#000000\" d=\"M89.3502,-71.8901C87.4443,-63.2227 85.478,-54.2808 83.7082,-46.2325\"/>\n<polygon fill=\"#000000\" stroke=\"#000000\" points=\"87.0825,-45.2801 81.5164,-36.2651 80.2458,-46.7835 87.0825,-45.2801\"/>\n</g>\n<!-- 57 -->\n<g id=\"node6\" class=\"node\">\n<title>57</title>\n<polygon fill=\"#c0c0c0\" stroke=\"#000000\" points=\"176.5,-36 122.5,-36 122.5,0 176.5,0 176.5,-36\"/>\n<text text-anchor=\"middle\" x=\"149.5\" y=\"-14.3\" font-family=\"Times,serif\" font-size=\"14.00\" fill=\"#000000\">(...)</text>\n</g>\n<!-- 3&#45;&gt;57 -->\n<g id=\"edge5\" class=\"edge\">\n<title>3&#45;&gt;57</title>\n<path fill=\"none\" stroke=\"#000000\" d=\"M120.721,-71.8901C125.5577,-62.8331 130.5544,-53.4765 134.9995,-45.1528\"/>\n<polygon fill=\"#000000\" stroke=\"#000000\" points=\"138.1225,-46.7348 139.7459,-36.2651 131.9478,-43.4373 138.1225,-46.7348\"/>\n</g>\n<!-- 755 -->\n<g id=\"node8\" class=\"node\">\n<title>755</title>\n<polygon fill=\"#c0c0c0\" stroke=\"#000000\" points=\"277.5,-36 223.5,-36 223.5,0 277.5,0 277.5,-36\"/>\n<text text-anchor=\"middle\" x=\"250.5\" y=\"-14.3\" font-family=\"Times,serif\" font-size=\"14.00\" fill=\"#000000\">(...)</text>\n</g>\n<!-- 754&#45;&gt;755 -->\n<g id=\"edge7\" class=\"edge\">\n<title>754&#45;&gt;755</title>\n<path fill=\"none\" stroke=\"#000000\" d=\"M279.279,-71.8901C274.4423,-62.8331 269.4456,-53.4765 265.0005,-45.1528\"/>\n<polygon fill=\"#000000\" stroke=\"#000000\" points=\"268.0522,-43.4373 260.2541,-36.2651 261.8775,-46.7348 268.0522,-43.4373\"/>\n</g>\n<!-- 760 -->\n<g id=\"node9\" class=\"node\">\n<title>760</title>\n<polygon fill=\"#c0c0c0\" stroke=\"#000000\" points=\"349.5,-36 295.5,-36 295.5,0 349.5,0 349.5,-36\"/>\n<text text-anchor=\"middle\" x=\"322.5\" y=\"-14.3\" font-family=\"Times,serif\" font-size=\"14.00\" fill=\"#000000\">(...)</text>\n</g>\n<!-- 754&#45;&gt;760 -->\n<g id=\"edge8\" class=\"edge\">\n<title>754&#45;&gt;760</title>\n<path fill=\"none\" stroke=\"#000000\" d=\"M310.6498,-71.8901C312.5557,-63.2227 314.522,-54.2808 316.2918,-46.2325\"/>\n<polygon fill=\"#000000\" stroke=\"#000000\" points=\"319.7542,-46.7835 318.4836,-36.2651 312.9175,-45.2801 319.7542,-46.7835\"/>\n</g>\n<!-- 778 -->\n<g id=\"node11\" class=\"node\">\n<title>778</title>\n<polygon fill=\"#f8dfcc\" stroke=\"#000000\" points=\"603,-155 406,-155 406,-72 603,-72 603,-155\"/>\n<text text-anchor=\"middle\" x=\"504.5\" y=\"-139.8\" font-family=\"Times,serif\" font-size=\"14.00\" fill=\"#000000\">Cost_of_the_Product &lt;= 214.5</text>\n<text text-anchor=\"middle\" x=\"504.5\" y=\"-124.8\" font-family=\"Times,serif\" font-size=\"14.00\" fill=\"#000000\">entropy = 0.984</text>\n<text text-anchor=\"middle\" x=\"504.5\" y=\"-109.8\" font-family=\"Times,serif\" font-size=\"14.00\" fill=\"#000000\">samples = 54.1%</text>\n<text text-anchor=\"middle\" x=\"504.5\" y=\"-94.8\" font-family=\"Times,serif\" font-size=\"14.00\" fill=\"#000000\">value = [0.573, 0.427]</text>\n<text text-anchor=\"middle\" x=\"504.5\" y=\"-79.8\" font-family=\"Times,serif\" font-size=\"14.00\" fill=\"#000000\">class = no</text>\n</g>\n<!-- 777&#45;&gt;778 -->\n<g id=\"edge10\" class=\"edge\">\n<title>777&#45;&gt;778</title>\n<path fill=\"none\" stroke=\"#000000\" d=\"M504.5,-190.8796C504.5,-182.6838 504.5,-173.9891 504.5,-165.5013\"/>\n<polygon fill=\"#000000\" stroke=\"#000000\" points=\"508.0001,-165.298 504.5,-155.2981 501.0001,-165.2981 508.0001,-165.298\"/>\n</g>\n<!-- 3011 -->\n<g id=\"node14\" class=\"node\">\n<title>3011</title>\n<polygon fill=\"#399de5\" stroke=\"#000000\" points=\"738,-147.5 621,-147.5 621,-79.5 738,-79.5 738,-147.5\"/>\n<text text-anchor=\"middle\" x=\"679.5\" y=\"-132.3\" font-family=\"Times,serif\" font-size=\"14.00\" fill=\"#000000\">entropy = 0.0</text>\n<text text-anchor=\"middle\" x=\"679.5\" y=\"-117.3\" font-family=\"Times,serif\" font-size=\"14.00\" fill=\"#000000\">samples = 0.1%</text>\n<text text-anchor=\"middle\" x=\"679.5\" y=\"-102.3\" font-family=\"Times,serif\" font-size=\"14.00\" fill=\"#000000\">value = [0.0, 1.0]</text>\n<text text-anchor=\"middle\" x=\"679.5\" y=\"-87.3\" font-family=\"Times,serif\" font-size=\"14.00\" fill=\"#000000\">class = yes</text>\n</g>\n<!-- 777&#45;&gt;3011 -->\n<g id=\"edge13\" class=\"edge\">\n<title>777&#45;&gt;3011</title>\n<path fill=\"none\" stroke=\"#000000\" d=\"M565.7065,-190.8796C583.579,-178.7263 603.0649,-165.4759 620.7798,-153.4297\"/>\n<polygon fill=\"#000000\" stroke=\"#000000\" points=\"623.0179,-156.1404 629.3191,-147.623 619.0817,-150.3519 623.0179,-156.1404\"/>\n</g>\n<!-- 779 -->\n<g id=\"node12\" class=\"node\">\n<title>779</title>\n<polygon fill=\"#c0c0c0\" stroke=\"#000000\" points=\"495.5,-36 441.5,-36 441.5,0 495.5,0 495.5,-36\"/>\n<text text-anchor=\"middle\" x=\"468.5\" y=\"-14.3\" font-family=\"Times,serif\" font-size=\"14.00\" fill=\"#000000\">(...)</text>\n</g>\n<!-- 778&#45;&gt;779 -->\n<g id=\"edge11\" class=\"edge\">\n<title>778&#45;&gt;779</title>\n<path fill=\"none\" stroke=\"#000000\" d=\"M488.8146,-71.8901C485.4739,-63.0279 482.025,-53.8788 478.9386,-45.6913\"/>\n<polygon fill=\"#000000\" stroke=\"#000000\" points=\"482.1877,-44.3878 475.3853,-36.2651 475.6376,-46.8569 482.1877,-44.3878\"/>\n</g>\n<!-- 2044 -->\n<g id=\"node13\" class=\"node\">\n<title>2044</title>\n<polygon fill=\"#c0c0c0\" stroke=\"#000000\" points=\"567.5,-36 513.5,-36 513.5,0 567.5,0 567.5,-36\"/>\n<text text-anchor=\"middle\" x=\"540.5\" y=\"-14.3\" font-family=\"Times,serif\" font-size=\"14.00\" fill=\"#000000\">(...)</text>\n</g>\n<!-- 778&#45;&gt;2044 -->\n<g id=\"edge12\" class=\"edge\">\n<title>778&#45;&gt;2044</title>\n<path fill=\"none\" stroke=\"#000000\" d=\"M520.1854,-71.8901C523.5261,-63.0279 526.975,-53.8788 530.0614,-45.6913\"/>\n<polygon fill=\"#000000\" stroke=\"#000000\" points=\"533.3624,-46.8569 533.6147,-36.2651 526.8123,-44.3878 533.3624,-46.8569\"/>\n</g>\n</g>\n</svg>\n"
          },
          "metadata": {
            "tags": []
          }
        }
      ]
    },
    {
      "cell_type": "markdown",
      "metadata": {
        "id": "0ain0OPQzl9r"
      },
      "source": [
        "#### 과적합을 해결해 봅시다.\n",
        "복잡한 트리는 과적합 가능성을 높이기 때문에 복잡도를 낮추어 일반화를 유도합니다.\n",
        "\n",
        "다음은 트리의 복잡도를 줄이기 위해 자주 사용하는 하이퍼파라미터들입니다.\n",
        "- min_samples_split\n",
        "- min_samples_leaf\n",
        "- max_depth"
      ]
    },
    {
      "cell_type": "markdown",
      "metadata": {
        "id": "FnAI97l5zssD"
      },
      "source": [
        "min_samples_leaf를 사용하하면 말단 노드(external node)에 최소한 존재해야 하는 샘플들의 수를 정해줄 수 있습니다.\n",
        "\n",
        "과적합을 줄이는지 확인해 봅시다."
      ]
    },
    {
      "cell_type": "code",
      "metadata": {
        "id": "TlKZN5wcy1y1",
        "outputId": "a87453fc-1ac4-482c-d5ca-67eb959300ac",
        "colab": {
          "base_uri": "https://localhost:8080/"
        }
      },
      "source": [
        "pipe_dt_split = make_pipeline(\n",
        "    OneHotEncoder(use_cat_names=True), \n",
        "    SimpleImputer(), \n",
        "    DecisionTreeClassifier(min_samples_leaf=10, random_state=2)\n",
        ")\n",
        "\n",
        "pipe_dt_split.fit(X_train, y_train)\n",
        "print('훈련 정확도', pipe_dt_split.score(X_train, y_train))\n",
        "print('검증 정확도', pipe_dt_split.score(X_val, y_val))"
      ],
      "execution_count": 108,
      "outputs": [
        {
          "output_type": "stream",
          "text": [
            "/usr/local/lib/python3.7/dist-packages/category_encoders/utils.py:21: FutureWarning: is_categorical is deprecated and will be removed in a future version.  Use is_categorical_dtype instead\n",
            "  elif pd.api.types.is_categorical(cols):\n"
          ],
          "name": "stderr"
        },
        {
          "output_type": "stream",
          "text": [
            "훈련 정확도 0.803949424634181\n",
            "검증 정확도 0.6426136363636363\n"
          ],
          "name": "stdout"
        }
      ]
    },
    {
      "cell_type": "markdown",
      "metadata": {
        "id": "tUBCTl5rz4Fk"
      },
      "source": [
        "max_depth를 제한해봅시다."
      ]
    },
    {
      "cell_type": "code",
      "metadata": {
        "id": "zNosqnKmz6Xz",
        "outputId": "970538d5-b003-48de-c7bb-17fbcb8d71a0",
        "colab": {
          "base_uri": "https://localhost:8080/"
        }
      },
      "source": [
        "pipe_dt_depth = make_pipeline(\n",
        "    OneHotEncoder(use_cat_names=True), \n",
        "    SimpleImputer(), \n",
        "    DecisionTreeClassifier(max_depth=6, random_state=2)\n",
        ")\n",
        "\n",
        "pipe_dt_depth.fit(X_train, y_train)\n",
        "print('훈련 정확도', pipe_dt_depth.score(X_train, y_train))\n",
        "print('검증 정확도', pipe_dt_depth.score(X_val, y_val))"
      ],
      "execution_count": 109,
      "outputs": [
        {
          "output_type": "stream",
          "text": [
            "훈련 정확도 0.692427901690581\n",
            "검증 정확도 0.6693181818181818\n"
          ],
          "name": "stdout"
        },
        {
          "output_type": "stream",
          "text": [
            "/usr/local/lib/python3.7/dist-packages/category_encoders/utils.py:21: FutureWarning: is_categorical is deprecated and will be removed in a future version.  Use is_categorical_dtype instead\n",
            "  elif pd.api.types.is_categorical(cols):\n"
          ],
          "name": "stderr"
        }
      ]
    },
    {
      "cell_type": "markdown",
      "metadata": {
        "id": "Ozc0u3cU3gjZ"
      },
      "source": [
        "이번에는 결정트리에서 확인 가능한 특성중요도(feature importance)에 대해 알아보겠습니다.\n",
        "\n",
        "\n",
        "선형모델에서는 특성과 타겟의 관계를 확인하기 위해 회귀 계수(coefficients)를 살펴보았습니다. 하지만 결정트리에서는 대신 특성중요도를 확인할 수 있습니다. 회귀계수와 달리 특성중요도는 항상 양수값을 가집니다. 이 값을 통해 특성이 얼마나 일찍 그리고 자주 분기에 사용되는지 결정됩니다."
      ]
    },
    {
      "cell_type": "code",
      "metadata": {
        "id": "yHymlQV-0UOn",
        "outputId": "9018d67a-250d-4448-be20-65cc6dee843a",
        "colab": {
          "base_uri": "https://localhost:8080/",
          "height": 320
        }
      },
      "source": [
        "model_dt_depth = pipe_dt_depth.named_steps['decisiontreeclassifier']\n",
        "\n",
        "importances = pd.Series(model_dt_depth.feature_importances_, encoded_columns)\n",
        "plt.figure(figsize=(5,5))\n",
        "importances.sort_values().plot.barh();"
      ],
      "execution_count": 110,
      "outputs": [
        {
          "output_type": "display_data",
          "data": {
            "image/png": "[encoded data removed]",
            "text/plain": [
              "<Figure size 360x360 with 1 Axes>"
            ]
          },
          "metadata": {
            "tags": [],
            "needs_background": "light"
          }
        }
      ]
    },
    {
      "cell_type": "markdown",
      "metadata": {
        "id": "Hz57s2890Mdc"
      },
      "source": [
        ""
      ]
    },
    {
      "cell_type": "markdown",
      "metadata": {
        "id": "t58EK37YKTAr"
      },
      "source": [
        "## 랜덤포레스트 적용"
      ]
    },
    {
      "cell_type": "markdown",
      "metadata": {
        "id": "mTZkqVJzRrMg"
      },
      "source": [
        "분류문제일 경우 다수결로 가장 많은 모델들이 선택한 범주로 예측합니다."
      ]
    },
    {
      "cell_type": "markdown",
      "metadata": {
        "id": "wwxUASv1XjUo"
      },
      "source": [
        "랜덤포레스트는 앙상블(Ensemble) 방법입니다.\n",
        "- 앙상블 방법은 한 종류의 데이터로 여러 머신러닝 학습모델(weak base learner, 기본모델)을 만들어 그 모델들의 예측결과를 다수결이나 평균을 내어 예측하는 방법을 말합니다. 이론적으로 기본모델 몇가지 조건을 충족하는 여러 종류의 모델을 사용할 수 있습니다.\n",
        "\n",
        "- 랜덤포레스트는 결정트리를 기본모델로 사용하는 앙상블 방법이라 할 수 있습니다.\n",
        "\n",
        "- 결정트리들은 독립적으로 만들어지며 각각 랜덤으로 예측하는 성능보다 좋을 경우 랜덤포레스트는 결정트리보다 성능이 좋습니다."
      ]
    },
    {
      "cell_type": "markdown",
      "metadata": {
        "id": "xlp9ky9WYJHJ"
      },
      "source": [
        "부트스트랩(Bootstrap) 샘플링\n",
        "\n",
        "앙상블에 사용하는 작은 모델들은 부트스트래핑(bootstraping)이라는 샘플링과정으로 얻은 부트스트랩세트를 사용해 학습을 합니다. 즉 원본 데이터에서 샘플링을 하는데 복원추출을 한다는 것인데 복원추출은 샘플을 뽑아 값을 기록하고 제자리에 돌려놓는 것을 말합니다.\n",
        "\n",
        "이렇게 샘플링을 특정한 수 만큼 반복하면 하나의 부트스트랩세트가 완성됩니다. 복원추출이기 때문에 부트스트랩세트에는 같은 샘플이 반복될 수 있습니다."
      ]
    },
    {
      "cell_type": "markdown",
      "metadata": {
        "id": "d-FXo_qkYNCQ"
      },
      "source": [
        "랜덤포레스트를 적용해보겠습니다.\n",
        "(원핫인코더)"
      ]
    },
    {
      "cell_type": "code",
      "metadata": {
        "id": "vog0o3sXedXE",
        "colab": {
          "base_uri": "https://localhost:8080/"
        },
        "outputId": "5173a37a-a841-4de6-ef8b-35cadf39102d"
      },
      "source": [
        "from sklearn.ensemble import RandomForestClassifier\n",
        "from sklearn.impute import SimpleImputer \n",
        "from sklearn.pipeline import make_pipeline\n",
        "\n",
        "pipe_rf = make_pipeline(\n",
        "    OneHotEncoder(use_cat_names=True), \n",
        "    SimpleImputer(), \n",
        "    RandomForestClassifier(n_jobs=-1, random_state=10, oob_score=True)\n",
        ")\n",
        "\n",
        "pipe_rf.fit(X_train, y_train)\n",
        "print('검증 정확도: ', pipe_rf.score(X_val, y_val))"
      ],
      "execution_count": 111,
      "outputs": [
        {
          "output_type": "stream",
          "text": [
            "/usr/local/lib/python3.7/dist-packages/category_encoders/utils.py:21: FutureWarning: is_categorical is deprecated and will be removed in a future version.  Use is_categorical_dtype instead\n",
            "  elif pd.api.types.is_categorical(cols):\n"
          ],
          "name": "stderr"
        },
        {
          "output_type": "stream",
          "text": [
            "검증 정확도:  0.6551136363636364\n"
          ],
          "name": "stdout"
        }
      ]
    },
    {
      "cell_type": "markdown",
      "metadata": {
        "id": "AGOAhn3gZG-g"
      },
      "source": [
        "순서형 인코딩으로 학습해 보았습니다."
      ]
    },
    {
      "cell_type": "code",
      "metadata": {
        "colab": {
          "base_uri": "https://localhost:8080/"
        },
        "id": "STf5cnaoKhyr",
        "outputId": "670f8d2e-a445-4141-de8e-3b48539e9fc5"
      },
      "source": [
        "from category_encoders import OrdinalEncoder\n",
        "\n",
        "# ordinal encoding\n",
        "pipe_rf_ord = make_pipeline(\n",
        "    OrdinalEncoder(), \n",
        "    SimpleImputer(), \n",
        "    RandomForestClassifier(random_state=10, n_jobs=-1, oob_score=True)\n",
        ")\n",
        "\n",
        "pipe_rf_ord.fit(X_train, y_train)\n",
        "print('검증 정확도', pipe_rf_ord.score(X_val, y_val))"
      ],
      "execution_count": 112,
      "outputs": [
        {
          "output_type": "stream",
          "text": [
            "검증 정확도 0.6551136363636364\n"
          ],
          "name": "stdout"
        }
      ]
    },
    {
      "cell_type": "markdown",
      "metadata": {
        "id": "fQH3OJRpZajw"
      },
      "source": [
        "#### 랜텀포레스트 특성 중요도 비교 (onehot vs ordinal)?\n",
        "\n",
        "랜덤포레스트에서는 학습 후에 특성들의 중요도 정보(Gini importance)를 기본으로 제공합니다. 중요도는 노드들의 지니불순도(Gini impurity)를 가지고 계산하는데\n",
        "\n",
        "노드가 중요할 수록 불순도가 크게 감소한다는 사실을 이용합니다.\n",
        "\n",
        "노드는 한 특성의 값을 기준으로 분리가 되기 때문에 불순도를 크게 감소하는데 많이 사용된 특성이 중요도가 올라갈 것입니다."
      ]
    },
    {
      "cell_type": "code",
      "metadata": {
        "colab": {
          "base_uri": "https://localhost:8080/",
          "height": 383
        },
        "id": "Rt_A1O3qR7NP",
        "outputId": "50de905b-b7ba-4987-d3d9-3731c89a339b"
      },
      "source": [
        "import matplotlib.pyplot as plt\n",
        "\n",
        "# 특성 중요도(onehot)\n",
        "rf = pipe_rf.named_steps['randomforestclassifier']\n",
        "colnames = pipe_rf.named_steps['onehotencoder'].get_feature_names()\n",
        "importances = pd.Series(rf.feature_importances_, colnames)\n",
        "\n",
        "n = 10\n",
        "plt.figure(figsize=(10,n/4))\n",
        "plt.title(f'Top {n} features with onehotencoder')\n",
        "importances.sort_values()[-n:].plot.barh();\n",
        "\n",
        "\n",
        "# 특성 중요도(ordinal)\n",
        "rf_ord = pipe_rf_ord.named_steps['randomforestclassifier']\n",
        "importances_ord = pd.Series(rf_ord.feature_importances_, X_train.columns)\n",
        "\n",
        "plt.figure(figsize=(10,n/4))\n",
        "plt.title(f'Top {n} features with ordinalencoder')\n",
        "importances_ord.sort_values()[-n:].plot.barh();"
      ],
      "execution_count": 113,
      "outputs": [
        {
          "output_type": "display_data",
          "data": {
            "image/png": "[encoded data removed]",
            "text/plain": [
              "<Figure size 720x180 with 1 Axes>"
            ]
          },
          "metadata": {
            "tags": [],
            "needs_background": "light"
          }
        },
        {
          "output_type": "display_data",
          "data": {
            "image/png": "[encoded data removed]",
            "text/plain": [
              "<Figure size 720x180 with 1 Axes>"
            ]
          },
          "metadata": {
            "tags": [],
            "needs_background": "light"
          }
        }
      ]
    },
    {
      "cell_type": "code",
      "metadata": {
        "colab": {
          "base_uri": "https://localhost:8080/"
        },
        "id": "5gEzNkeTTyAC",
        "outputId": "f327760d-b787-430e-b680-3b4794bb3b1f"
      },
      "source": [
        "# F1 score 계산해보기\n",
        "from sklearn.metrics import f1_score\n",
        "from sklearn.tree import DecisionTreeClassifier\n",
        "\n",
        "pipe = make_pipeline(\n",
        "    OrdinalEncoder(), \n",
        "    SimpleImputer(), \n",
        "    DecisionTreeClassifier(max_depth=6,random_state=2, criterion='entropy')\n",
        ")\n",
        "\n",
        "pipe.fit(X_train, y_train)\n",
        "\n",
        "y_train_pred = pipe.predict(X_train)\n",
        "y_val_pred = pipe.predict(X_val)\n",
        "\n",
        "print('f1 score_train: ', f1_score(y_train, y_train_pred))\n",
        "print('f1 score_val: ', f1_score(y_val, y_val_pred))"
      ],
      "execution_count": 114,
      "outputs": [
        {
          "output_type": "stream",
          "text": [
            "f1 score_train:  0.6655415771709113\n",
            "f1 score_val:  0.6563275434243176\n"
          ],
          "name": "stdout"
        }
      ]
    },
    {
      "cell_type": "markdown",
      "metadata": {
        "id": "WOh9BBcVDtNT"
      },
      "source": [
        "## 분류 모델의 성능 평가 지표를 보여주는 Confusion matrix 에 관해 살펴봅시다."
      ]
    },
    {
      "cell_type": "code",
      "metadata": {
        "id": "Ksbx1T-tT6QL",
        "outputId": "389c5b65-36eb-4b3d-a99a-eee23c8ba43b",
        "colab": {
          "base_uri": "https://localhost:8080/",
          "height": 297
        }
      },
      "source": [
        "from sklearn.metrics import plot_confusion_matrix\n",
        "import matplotlib.pyplot as plt\n",
        "\n",
        "fig, ax = plt.subplots()\n",
        "pcm = plot_confusion_matrix(pipe_rf_ord, X_val, y_val,\n",
        "                            cmap=plt.cm.Blues,\n",
        "                            ax=ax);\n",
        "plt.title(f'Confusion matrix, n = {len(y_val)}', fontsize=15)\n",
        "plt.show()"
      ],
      "execution_count": 115,
      "outputs": [
        {
          "output_type": "display_data",
          "data": {
            "image/png": "[encoded data removed]",
            "text/plain": [
              "<Figure size 432x288 with 2 Axes>"
            ]
          },
          "metadata": {
            "tags": [],
            "needs_background": "light"
          }
        }
      ]
    },
    {
      "cell_type": "code",
      "metadata": {
        "id": "BxN3NY_9D4pA",
        "outputId": "70cbbb78-188d-4ac2-b88c-6b3d31c715eb",
        "colab": {
          "base_uri": "https://localhost:8080/"
        }
      },
      "source": [
        "cm = pcm.confusion_matrix\n",
        "cm"
      ],
      "execution_count": 116,
      "outputs": [
        {
          "output_type": "execute_result",
          "data": {
            "text/plain": [
              "array([[503, 208],\n",
              "       [399, 650]])"
            ]
          },
          "metadata": {
            "tags": []
          },
          "execution_count": 116
        }
      ]
    },
    {
      "cell_type": "markdown",
      "metadata": {
        "id": "U4PbII7uIbOu"
      },
      "source": [
        "True Positive(TP) 정시에 도착함을 잘 예측한 경우"
      ]
    },
    {
      "cell_type": "code",
      "metadata": {
        "id": "R4SvLykuD7l3",
        "outputId": "55f51f65-62fc-49cd-c73d-0f69203ed6ac",
        "colab": {
          "base_uri": "https://localhost:8080/"
        }
      },
      "source": [
        "# 예측:functional, 실제:functional\n",
        "cm[1][1]"
      ],
      "execution_count": 117,
      "outputs": [
        {
          "output_type": "execute_result",
          "data": {
            "text/plain": [
              "650"
            ]
          },
          "metadata": {
            "tags": []
          },
          "execution_count": 117
        }
      ]
    },
    {
      "cell_type": "markdown",
      "metadata": {
        "id": "CU5aZ7cwIuTf"
      },
      "source": [
        "정확하게 맞춘 예측은 모두 몇 가지인가요? (TP + TN)"
      ]
    },
    {
      "cell_type": "code",
      "metadata": {
        "id": "xf81eubeD-ib",
        "outputId": "3d784ea1-0399-47a2-c5a4-a7c2db18a022",
        "colab": {
          "base_uri": "https://localhost:8080/"
        }
      },
      "source": [
        "import numpy as np\n",
        "correct_predictions = np.diag(cm).sum()\n",
        "correct_predictions"
      ],
      "execution_count": 118,
      "outputs": [
        {
          "output_type": "execute_result",
          "data": {
            "text/plain": [
              "1153"
            ]
          },
          "metadata": {
            "tags": []
          },
          "execution_count": 118
        }
      ]
    },
    {
      "cell_type": "markdown",
      "metadata": {
        "id": "mLfgZDZJIx6z"
      },
      "source": [
        "총 예측한 수는 어떻게 되나요?"
      ]
    },
    {
      "cell_type": "code",
      "metadata": {
        "id": "54svf1lTEETv",
        "outputId": "c236c96f-2aff-4264-fef9-b4549e0bbc20",
        "colab": {
          "base_uri": "https://localhost:8080/"
        }
      },
      "source": [
        "total_predictions = cm.sum()\n",
        "total_predictions"
      ],
      "execution_count": 119,
      "outputs": [
        {
          "output_type": "execute_result",
          "data": {
            "text/plain": [
              "1760"
            ]
          },
          "metadata": {
            "tags": []
          },
          "execution_count": 119
        }
      ]
    },
    {
      "cell_type": "markdown",
      "metadata": {
        "id": "9ow9TKK1I0-c"
      },
      "source": [
        "\n",
        "분류 정확도(classification accuracy)를 계산해 보세요"
      ]
    },
    {
      "cell_type": "code",
      "metadata": {
        "id": "TDIlIcdYEIzx",
        "outputId": "d43e8817-301a-4517-8417-88b7640c0f08",
        "colab": {
          "base_uri": "https://localhost:8080/"
        }
      },
      "source": [
        "correct_predictions/total_predictions"
      ],
      "execution_count": 120,
      "outputs": [
        {
          "output_type": "execute_result",
          "data": {
            "text/plain": [
              "0.6551136363636364"
            ]
          },
          "metadata": {
            "tags": []
          },
          "execution_count": 120
        }
      ]
    },
    {
      "cell_type": "code",
      "metadata": {
        "id": "iEobqTn9ELVv",
        "outputId": "abaf3c02-a2f4-4966-f606-041b832f4b2b",
        "colab": {
          "base_uri": "https://localhost:8080/"
        }
      },
      "source": [
        "y_val_pred = pipe_rf_ord.predict(X_val)\n",
        "print('검증 정확도: ', accuracy_score(y_val, y_val_pred))"
      ],
      "execution_count": 121,
      "outputs": [
        {
          "output_type": "stream",
          "text": [
            "검증 정확도:  0.6551136363636364\n"
          ],
          "name": "stdout"
        }
      ]
    },
    {
      "cell_type": "markdown",
      "metadata": {
        "id": "ErQLCYFSI6oE"
      },
      "source": [
        "분류기의 정확한 성능을 판단하기 위해서는 정확도 외에 다른 평가지표를 같이 사용해야 합니다.\n",
        "\n",
        "\n",
        "특히 정밀도(precision), 재현율(recall) 을 살펴보아야 합니다."
      ]
    },
    {
      "cell_type": "markdown",
      "metadata": {
        "id": "nuloAmQxJAGR"
      },
      "source": [
        "정확도(Accuracy)는 전체 범주를 모두 바르게 맞춘 경우를 전체 수로 나눈 값입니다: $\\large \\frac{TP + TN}{Total}$\n",
        "\n",
        "정밀도(Precision)는 Positive로 예측한 경우 중 올바르게 Positive를 맞춘 비율입니다: $\\large \\frac{TP}{TP + FP}$\n",
        "\n",
        "재현율(Recall, Sensitivity)은 실제 Positive인 것 중 올바르게 Positive를 맞춘 것의 비율 입니다: $\\large \\frac{TP}{TP + FN}$\n",
        "\n",
        "F1점수(F1 score)는 정밀도와 재현율의 조화평균(harmonic mean)입니다: $ 2\\cdot\\large\\frac{precision\\cdot recall}{precision + recall}$\n"
      ]
    },
    {
      "cell_type": "code",
      "metadata": {
        "id": "Knw1UptvEOCY",
        "outputId": "39e6dc63-860f-4142-9f2f-6886f2a0367c",
        "colab": {
          "base_uri": "https://localhost:8080/"
        }
      },
      "source": [
        "from sklearn.metrics import classification_report\n",
        "print(classification_report(y_val, y_val_pred))"
      ],
      "execution_count": 122,
      "outputs": [
        {
          "output_type": "stream",
          "text": [
            "              precision    recall  f1-score   support\n",
            "\n",
            "           0       0.56      0.71      0.62       711\n",
            "           1       0.76      0.62      0.68      1049\n",
            "\n",
            "    accuracy                           0.66      1760\n",
            "   macro avg       0.66      0.66      0.65      1760\n",
            "weighted avg       0.68      0.66      0.66      1760\n",
            "\n"
          ],
          "name": "stdout"
        }
      ]
    },
    {
      "cell_type": "code",
      "metadata": {
        "id": "tj3CnSrgI-0Z",
        "outputId": "3ca96aed-2190-48e4-caf9-ebc98d588597",
        "colab": {
          "base_uri": "https://localhost:8080/"
        }
      },
      "source": [
        "from category_encoders import TargetEncoder\n",
        "from sklearn.model_selection import cross_val_score\n",
        "from sklearn.ensemble import RandomForestRegressor\n",
        "\n",
        "pipe = make_pipeline(\n",
        "    # TargetEncoder: 범주형 변수 인코더로, 타겟값을 특성의 범주별로 평균내어 그 값으로 인코딩\n",
        "    TargetEncoder(min_samples_leaf=1, smoothing=1), \n",
        "    SimpleImputer(strategy='median'), \n",
        "    RandomForestRegressor(max_depth = 10, n_jobs=-1, random_state=2)\n",
        ")\n",
        "\n",
        "k = 3\n",
        "\n",
        "scores = cross_val_score(pipe, X_train, y_train, cv=k, \n",
        "                         scoring='neg_mean_absolute_error')\n",
        "\n",
        "print(f'MAE for {k} folds:', -scores)"
      ],
      "execution_count": 123,
      "outputs": [
        {
          "output_type": "stream",
          "text": [
            "/usr/local/lib/python3.7/dist-packages/category_encoders/utils.py:21: FutureWarning: is_categorical is deprecated and will be removed in a future version.  Use is_categorical_dtype instead\n",
            "  elif pd.api.types.is_categorical(cols):\n",
            "/usr/local/lib/python3.7/dist-packages/category_encoders/utils.py:21: FutureWarning: is_categorical is deprecated and will be removed in a future version.  Use is_categorical_dtype instead\n",
            "  elif pd.api.types.is_categorical(cols):\n",
            "/usr/local/lib/python3.7/dist-packages/category_encoders/utils.py:21: FutureWarning: is_categorical is deprecated and will be removed in a future version.  Use is_categorical_dtype instead\n",
            "  elif pd.api.types.is_categorical(cols):\n"
          ],
          "name": "stderr"
        },
        {
          "output_type": "stream",
          "text": [
            "MAE for 3 folds: [0.35725531 0.35511372 0.35789414]\n"
          ],
          "name": "stdout"
        }
      ]
    },
    {
      "cell_type": "code",
      "metadata": {
        "id": "Zgm9LEJjNLv1",
        "outputId": "19687af1-247a-49ed-d6c8-91bc40ac5c3b",
        "colab": {
          "base_uri": "https://localhost:8080/"
        }
      },
      "source": [
        "-scores.mean()"
      ],
      "execution_count": 124,
      "outputs": [
        {
          "output_type": "execute_result",
          "data": {
            "text/plain": [
              "0.35675439011512117"
            ]
          },
          "metadata": {
            "tags": []
          },
          "execution_count": 124
        }
      ]
    },
    {
      "cell_type": "code",
      "metadata": {
        "id": "nGLI2XCHNW5m",
        "outputId": "76c9243b-eda8-4718-bd2c-eda80ba583de",
        "colab": {
          "base_uri": "https://localhost:8080/",
          "height": 404
        }
      },
      "source": [
        "import matplotlib.pyplot as plt\n",
        "from category_encoders import OrdinalEncoder\n",
        "from sklearn.model_selection import validation_curve\n",
        "from sklearn.tree import DecisionTreeRegressor\n",
        "\n",
        "pipe = make_pipeline(\n",
        "    OrdinalEncoder(), \n",
        "    SimpleImputer(), \n",
        "    DecisionTreeRegressor()\n",
        ")\n",
        "\n",
        "depth = range(1, 30, 2)\n",
        "ts, vs = validation_curve(\n",
        "    pipe, X_train, y_train\n",
        "    , param_name='decisiontreeregressor__max_depth'\n",
        "    , param_range=depth, scoring='neg_mean_absolute_error'\n",
        "    , cv=3\n",
        "    , n_jobs=-1\n",
        ")\n",
        "\n",
        "train_scores_mean = np.mean(-ts, axis=1)\n",
        "validation_scores_mean = np.mean(-vs, axis=1)\n",
        "\n",
        "fig, ax = plt.subplots()\n",
        "\n",
        "# 훈련세트 검증곡선\n",
        "ax.plot(depth, train_scores_mean, label='training error')\n",
        "\n",
        "# 검증세트 검증곡선\n",
        "ax.plot(depth, validation_scores_mean, label='validation error')\n",
        "\n",
        "# 이상적인 max_depth\n",
        "ax.vlines(5,0, train_scores_mean.max(), color='blue')\n",
        "\n",
        "# 그래프 셋팅\n",
        "ax.set(title='Validation Curve'\n",
        "      , xlabel='Model Complexity(max_depth)', ylabel='MAE')\n",
        "ax.legend()\n",
        "fig.dpi = 100"
      ],
      "execution_count": 125,
      "outputs": [
        {
          "output_type": "display_data",
          "data": {
            "image/png": "[encoded data removed]",
            "text/plain": [
              "<Figure size 600x400 with 1 Axes>"
            ]
          },
          "metadata": {
            "tags": [],
            "needs_background": "light"
          }
        }
      ]
    },
    {
      "cell_type": "code",
      "metadata": {
        "id": "e1MVcuJNNe7_",
        "outputId": "8ac90e80-cdf8-4dfa-d88c-7b298a83bb15",
        "colab": {
          "base_uri": "https://localhost:8080/"
        }
      },
      "source": [
        "from sklearn.model_selection import RandomizedSearchCV\n",
        "from scipy.stats import randint, uniform\n",
        "\n",
        "pipe = make_pipeline(\n",
        "    TargetEncoder(), \n",
        "    SimpleImputer(), \n",
        "    RandomForestRegressor(random_state=2)\n",
        ")\n",
        "\n",
        "dists = {\n",
        "    'targetencoder__smoothing': [2.,20.,50.,60.,100.,500.,1000.], # int로 넣으면 error(bug)\n",
        "    'targetencoder__min_samples_leaf': randint(1, 10),     \n",
        "    'simpleimputer__strategy': ['mean', 'median'], \n",
        "    'randomforestregressor__n_estimators': randint(50, 500), \n",
        "    'randomforestregressor__max_depth': [5, 10, 15, 20, None], \n",
        "    'randomforestregressor__max_features': uniform(0, 1) # max_features\n",
        "}\n",
        "\n",
        "clf = RandomizedSearchCV(\n",
        "    pipe, \n",
        "    param_distributions=dists, \n",
        "    n_iter=50, \n",
        "    cv=3, \n",
        "    scoring='neg_mean_absolute_error',  \n",
        "    verbose=1,\n",
        "    n_jobs=-1\n",
        ")\n",
        "\n",
        "clf.fit(X_train, y_train);"
      ],
      "execution_count": 126,
      "outputs": [
        {
          "output_type": "stream",
          "text": [
            "Fitting 3 folds for each of 50 candidates, totalling 150 fits\n"
          ],
          "name": "stdout"
        },
        {
          "output_type": "stream",
          "text": [
            "[Parallel(n_jobs=-1)]: Using backend LokyBackend with 2 concurrent workers.\n",
            "[Parallel(n_jobs=-1)]: Done  46 tasks      | elapsed:  1.1min\n",
            "[Parallel(n_jobs=-1)]: Done 150 out of 150 | elapsed:  3.2min finished\n",
            "/usr/local/lib/python3.7/dist-packages/category_encoders/utils.py:21: FutureWarning: is_categorical is deprecated and will be removed in a future version.  Use is_categorical_dtype instead\n",
            "  elif pd.api.types.is_categorical(cols):\n"
          ],
          "name": "stderr"
        }
      ]
    },
    {
      "cell_type": "code",
      "metadata": {
        "id": "_HF_kYV9NoJ-"
      },
      "source": [
        "# 만들어진 모델에거 가장 성능이 좋은 모델을 불러옵니다.\n",
        "pipe = clf.best_estimator_"
      ],
      "execution_count": 127,
      "outputs": []
    },
    {
      "cell_type": "code",
      "metadata": {
        "id": "1_n2-cuMOkmp",
        "outputId": "34b0c31a-8107-4ac5-a32d-2ab0842d9e18",
        "colab": {
          "base_uri": "https://localhost:8080/"
        }
      },
      "source": [
        "from sklearn.metrics import mean_absolute_error\n",
        "\n",
        "y_pred = pipe.predict(X_test)\n",
        "mae = mean_absolute_error(y_test, y_pred)\n",
        "print(f'테스트세트 MAE: ${mae}')"
      ],
      "execution_count": 129,
      "outputs": [
        {
          "output_type": "stream",
          "text": [
            "테스트세트 MAE: $0.3556183242345123\n"
          ],
          "name": "stdout"
        }
      ]
    },
    {
      "cell_type": "code",
      "metadata": {
        "colab": {
          "base_uri": "https://localhost:8080/",
          "height": 369
        },
        "id": "zK4Sfu0EPPBL",
        "outputId": "e43dbe87-911f-4017-9ecb-98dcd98c9940"
      },
      "source": [
        "import seaborn as sns\n",
        "import matplotlib.pyplot as plt\n",
        "sns.displot(data['Discount_offered'],kde=True);\n",
        "plt.axvline(data['Discount_offered'].mean(), color='red');"
      ],
      "execution_count": 132,
      "outputs": [
        {
          "output_type": "display_data",
          "data": {
            "image/png": "[encoded data removed]",
            "text/plain": [
              "<Figure size 360x360 with 1 Axes>"
            ]
          },
          "metadata": {
            "tags": [],
            "needs_background": "light"
          }
        }
      ]
    },
    {
      "cell_type": "code",
      "metadata": {
        "colab": {
          "base_uri": "https://localhost:8080/"
        },
        "id": "hB-gFf6jP3_9",
        "outputId": "82c89ee6-be6b-44e6-d90a-f35f99f0a5b2"
      },
      "source": [
        "## Discount 특성을 만들어 이진분류문제로 변환합니다\n",
        "data['Discount'] = data['Discount_offered'] >= data['Discount_offered'].mean()\n",
        "data['Discount'].nunique()"
      ],
      "execution_count": 134,
      "outputs": [
        {
          "output_type": "execute_result",
          "data": {
            "text/plain": [
              "2"
            ]
          },
          "metadata": {
            "tags": []
          },
          "execution_count": 134
        }
      ]
    },
    {
      "cell_type": "code",
      "metadata": {
        "colab": {
          "base_uri": "https://localhost:8080/"
        },
        "id": "QdvHZQdOQPpo",
        "outputId": "08550dfb-6629-442e-cb40-5fad77f8c459"
      },
      "source": [
        "data['Discount'].value_counts()"
      ],
      "execution_count": 135,
      "outputs": [
        {
          "output_type": "execute_result",
          "data": {
            "text/plain": [
              "False    8514\n",
              "True     2485\n",
              "Name: Discount, dtype: int64"
            ]
          },
          "metadata": {
            "tags": []
          },
          "execution_count": 135
        }
      ]
    },
    {
      "cell_type": "code",
      "metadata": {
        "id": "Wc16ChuWQfDE"
      },
      "source": [
        ""
      ],
      "execution_count": null,
      "outputs": []
    }
  ]
}