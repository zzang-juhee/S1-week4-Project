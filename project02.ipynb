{
  "nbformat": 4,
  "nbformat_minor": 0,
  "metadata": {
    "colab": {
      "name": "project02.ipynb",
      "provenance": []
    },
    "kernelspec": {
      "name": "python3",
      "display_name": "Python 3"
    },
    "language_info": {
      "name": "python"
    }
  },
  "cells": [
    {
      "cell_type": "markdown",
      "metadata": {
        "id": "RktotKjp_QMx"
      },
      "source": [
        "# Project #2\n",
        "\n",
        "### E-Commerce Shipping Data\n",
        "Product Shipment Delivered on time or not? To Meet E-Commerce Customer Demand"
      ]
    },
    {
      "cell_type": "markdown",
      "metadata": {
        "id": "NeDRuYc6_4XQ"
      },
      "source": [
        "###Context\n",
        "\n",
        "An international e-commerce company based wants to discover key insights from their customer database. They want to use some of the most advanced machine learning techniques to study their customers. The company sells electronic products."
      ]
    },
    {
      "cell_type": "markdown",
      "metadata": {
        "id": "kpyS18vq__We"
      },
      "source": [
        "## Content\n",
        "\n",
        "- The dataset used for model building contained 10999 observations of 12 variables.\n",
        "- The data contains the following information:\n",
        "\n",
        "1. ID: ID Number of Customers.\n",
        "2. Warehouse block: The Company have big Warehouse which is divided in to block such as A,B,C,D,E.\n",
        "3. Mode of shipment:The Company Ships the products in multiple way such as Ship, Flight and Road.\n",
        "4. Customer care calls: The number of calls made from enquiry for enquiry of the shipment.\n",
        "5. Customer rating: The company has rated from every customer. 1 is the lowest (Worst), 5 is the highest (Best).\n",
        "6. Cost of the product: Cost of the Product in US Dollars.\n",
        "7. Prior purchases: The Number of Prior Purchase.\n",
        "8. Product importance: The company has categorized the product in the various parameter such as low, medium, high.\n",
        "9. Gender: Male and Female.\n",
        "10. Discount offered: Discount offered on that specific product.\n",
        "11. Weight in gms: It is the weight in grams.\n",
        "12. Reached on time: It is the target variable, where 1 Indicates that the product has NOT reached on time and 0 indicates it has reached on time.\n",
        "\n",
        "### 변수 설명\n",
        "1. ID : 고객들의 ID\n",
        "2. Warehouse block : 회사는 A, B, C, D, E와 같이 블록으로 나누어 진 큰 창고를 가지고 있음\n",
        "3. Mode of shipment : 회사는 선박, 비행 및 도로와 같은 다양한 방법으로 제품을 배송함\n",
        "4. Customer care calls : 배송 조회 문의 전화 건수\n",
        "5. Customer rating : 회사의 고객평가점수 - 1은 최저 (최악), 5는 최고\n",
        "6. Cost of the product : 제품의 비용(미국 달러)\n",
        "7. Prior purchases : 이전 구매 횟수\n",
        "8. Product importance : 낮음, 중간, 높음 매개 변수로 제품을 분류\n",
        "9. Gender : 여자/남자 성별\n",
        "10. Discount offered : 특정 제품에 대한 할인이 제공\n",
        "11. Weight in gms : 그램 단위의 무게\n",
        "12. Reached on time : *target* 1은 제품이 정시에 도달하지 않았음, 0은 정시에 도달했음\n"
      ]
    },
    {
      "cell_type": "markdown",
      "metadata": {
        "id": "-sSc69eHFA-W"
      },
      "source": [
        "### Inspiration\n",
        "This data of Product Shipment Tracking, answer instantly to your questions:\n",
        "\n",
        "- What was Customer Rating? And was the product delivered on time?\n",
        "- Is Customer query is being answered?\n",
        "- If Product importance is high. having higest rating or being delivered on time?\n",
        "\n",
        "\n",
        "- Customer Rating은 무얼까? 이거에 따라 제품이 정시에 도착했는가?\n",
        "- 제품의 중요도가 정시에 도착하는 것에 영향을 미치는가?"
      ]
    },
    {
      "cell_type": "markdown",
      "metadata": {
        "id": "0Tn8y4SYGUA8"
      },
      "source": [
        "## EDA"
      ]
    },
    {
      "cell_type": "code",
      "metadata": {
        "colab": {
          "resources": {
            "http://localhost:8080/nbextensions/google.colab/files.js": {
              "data": "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",
              "ok": true,
              "headers": [
                [
                  "content-type",
                  "application/javascript"
                ]
              ],
              "status": 200,
              "status_text": ""
            }
          },
          "base_uri": "https://localhost:8080/",
          "height": 76
        },
        "id": "3oroabbP-Q1B",
        "outputId": "733b35b0-3b95-44f0-b802-ac1cc0cd4cce"
      },
      "source": [
        "# 데이터 파일을 불러오겠습니다.\n",
        "from google.colab import files\n",
        "file_uploaded = files.upload()"
      ],
      "execution_count": 1,
      "outputs": [
        {
          "output_type": "display_data",
          "data": {
            "text/html": [
              "\n",
              "     <input type=\"file\" id=\"files-a3d451b5-9e5e-4222-b577-4964580d39fc\" name=\"files[]\" multiple disabled\n",
              "        style=\"border:none\" />\n",
              "     <output id=\"result-a3d451b5-9e5e-4222-b577-4964580d39fc\">\n",
              "      Upload widget is only available when the cell has been executed in the\n",
              "      current browser session. Please rerun this cell to enable.\n",
              "      </output>\n",
              "      <script src=\"/nbextensions/google.colab/files.js\"></script> "
            ],
            "text/plain": [
              "<IPython.core.display.HTML object>"
            ]
          },
          "metadata": {
            "tags": []
          }
        },
        {
          "output_type": "stream",
          "text": [
            "Saving Train.csv to Train.csv\n"
          ],
          "name": "stdout"
        }
      ]
    },
    {
      "cell_type": "code",
      "metadata": {
        "colab": {
          "base_uri": "https://localhost:8080/",
          "height": 249
        },
        "id": "yHzdb3hsGXJu",
        "outputId": "acb8a499-4d44-4941-a1bd-8bd851171436"
      },
      "source": [
        "import pandas as pd\n",
        "import io\n",
        "data = pd.read_csv(io.BytesIO(file_uploaded['Train.csv']), encoding='cp949')\n",
        "\n",
        "data.head()"
      ],
      "execution_count": 424,
      "outputs": [
        {
          "output_type": "execute_result",
          "data": {
            "text/html": [
              "<div>\n",
              "<style scoped>\n",
              "    .dataframe tbody tr th:only-of-type {\n",
              "        vertical-align: middle;\n",
              "    }\n",
              "\n",
              "    .dataframe tbody tr th {\n",
              "        vertical-align: top;\n",
              "    }\n",
              "\n",
              "    .dataframe thead th {\n",
              "        text-align: right;\n",
              "    }\n",
              "</style>\n",
              "<table border=\"1\" class=\"dataframe\">\n",
              "  <thead>\n",
              "    <tr style=\"text-align: right;\">\n",
              "      <th></th>\n",
              "      <th>癤풦D</th>\n",
              "      <th>Warehouse_block</th>\n",
              "      <th>Mode_of_Shipment</th>\n",
              "      <th>Customer_care_calls</th>\n",
              "      <th>Customer_rating</th>\n",
              "      <th>Cost_of_the_Product</th>\n",
              "      <th>Prior_purchases</th>\n",
              "      <th>Product_importance</th>\n",
              "      <th>Gender</th>\n",
              "      <th>Discount_offered</th>\n",
              "      <th>Weight_in_gms</th>\n",
              "      <th>Reached.on.Time_Y.N</th>\n",
              "    </tr>\n",
              "  </thead>\n",
              "  <tbody>\n",
              "    <tr>\n",
              "      <th>0</th>\n",
              "      <td>1</td>\n",
              "      <td>D</td>\n",
              "      <td>Flight</td>\n",
              "      <td>4</td>\n",
              "      <td>2</td>\n",
              "      <td>177</td>\n",
              "      <td>3</td>\n",
              "      <td>low</td>\n",
              "      <td>F</td>\n",
              "      <td>44</td>\n",
              "      <td>1233</td>\n",
              "      <td>1</td>\n",
              "    </tr>\n",
              "    <tr>\n",
              "      <th>1</th>\n",
              "      <td>2</td>\n",
              "      <td>F</td>\n",
              "      <td>Flight</td>\n",
              "      <td>4</td>\n",
              "      <td>5</td>\n",
              "      <td>216</td>\n",
              "      <td>2</td>\n",
              "      <td>low</td>\n",
              "      <td>M</td>\n",
              "      <td>59</td>\n",
              "      <td>3088</td>\n",
              "      <td>1</td>\n",
              "    </tr>\n",
              "    <tr>\n",
              "      <th>2</th>\n",
              "      <td>3</td>\n",
              "      <td>A</td>\n",
              "      <td>Flight</td>\n",
              "      <td>2</td>\n",
              "      <td>2</td>\n",
              "      <td>183</td>\n",
              "      <td>4</td>\n",
              "      <td>low</td>\n",
              "      <td>M</td>\n",
              "      <td>48</td>\n",
              "      <td>3374</td>\n",
              "      <td>1</td>\n",
              "    </tr>\n",
              "    <tr>\n",
              "      <th>3</th>\n",
              "      <td>4</td>\n",
              "      <td>B</td>\n",
              "      <td>Flight</td>\n",
              "      <td>3</td>\n",
              "      <td>3</td>\n",
              "      <td>176</td>\n",
              "      <td>4</td>\n",
              "      <td>medium</td>\n",
              "      <td>M</td>\n",
              "      <td>10</td>\n",
              "      <td>1177</td>\n",
              "      <td>1</td>\n",
              "    </tr>\n",
              "    <tr>\n",
              "      <th>4</th>\n",
              "      <td>5</td>\n",
              "      <td>C</td>\n",
              "      <td>Flight</td>\n",
              "      <td>2</td>\n",
              "      <td>2</td>\n",
              "      <td>184</td>\n",
              "      <td>3</td>\n",
              "      <td>medium</td>\n",
              "      <td>F</td>\n",
              "      <td>46</td>\n",
              "      <td>2484</td>\n",
              "      <td>1</td>\n",
              "    </tr>\n",
              "  </tbody>\n",
              "</table>\n",
              "</div>"
            ],
            "text/plain": [
              "   癤풦D Warehouse_block  ... Weight_in_gms  Reached.on.Time_Y.N\n",
              "0    1               D  ...          1233                    1\n",
              "1    2               F  ...          3088                    1\n",
              "2    3               A  ...          3374                    1\n",
              "3    4               B  ...          1177                    1\n",
              "4    5               C  ...          2484                    1\n",
              "\n",
              "[5 rows x 12 columns]"
            ]
          },
          "metadata": {
            "tags": []
          },
          "execution_count": 424
        }
      ]
    },
    {
      "cell_type": "code",
      "metadata": {
        "colab": {
          "base_uri": "https://localhost:8080/",
          "height": 215
        },
        "id": "3iXEHsOZG7aw",
        "outputId": "78262fb0-a270-483e-99d0-4bac2d9e2e51"
      },
      "source": [
        "#변수명 이쁘게 설정\n",
        "data.rename(columns = {\"癤풦D\": \"ID\", 'Reached.on.Time_Y.N' : 'Reached_on_time'}, inplace = True)\n",
        "\n",
        "data.head()"
      ],
      "execution_count": 425,
      "outputs": [
        {
          "output_type": "execute_result",
          "data": {
            "text/html": [
              "<div>\n",
              "<style scoped>\n",
              "    .dataframe tbody tr th:only-of-type {\n",
              "        vertical-align: middle;\n",
              "    }\n",
              "\n",
              "    .dataframe tbody tr th {\n",
              "        vertical-align: top;\n",
              "    }\n",
              "\n",
              "    .dataframe thead th {\n",
              "        text-align: right;\n",
              "    }\n",
              "</style>\n",
              "<table border=\"1\" class=\"dataframe\">\n",
              "  <thead>\n",
              "    <tr style=\"text-align: right;\">\n",
              "      <th></th>\n",
              "      <th>ID</th>\n",
              "      <th>Warehouse_block</th>\n",
              "      <th>Mode_of_Shipment</th>\n",
              "      <th>Customer_care_calls</th>\n",
              "      <th>Customer_rating</th>\n",
              "      <th>Cost_of_the_Product</th>\n",
              "      <th>Prior_purchases</th>\n",
              "      <th>Product_importance</th>\n",
              "      <th>Gender</th>\n",
              "      <th>Discount_offered</th>\n",
              "      <th>Weight_in_gms</th>\n",
              "      <th>Reached_on_time</th>\n",
              "    </tr>\n",
              "  </thead>\n",
              "  <tbody>\n",
              "    <tr>\n",
              "      <th>0</th>\n",
              "      <td>1</td>\n",
              "      <td>D</td>\n",
              "      <td>Flight</td>\n",
              "      <td>4</td>\n",
              "      <td>2</td>\n",
              "      <td>177</td>\n",
              "      <td>3</td>\n",
              "      <td>low</td>\n",
              "      <td>F</td>\n",
              "      <td>44</td>\n",
              "      <td>1233</td>\n",
              "      <td>1</td>\n",
              "    </tr>\n",
              "    <tr>\n",
              "      <th>1</th>\n",
              "      <td>2</td>\n",
              "      <td>F</td>\n",
              "      <td>Flight</td>\n",
              "      <td>4</td>\n",
              "      <td>5</td>\n",
              "      <td>216</td>\n",
              "      <td>2</td>\n",
              "      <td>low</td>\n",
              "      <td>M</td>\n",
              "      <td>59</td>\n",
              "      <td>3088</td>\n",
              "      <td>1</td>\n",
              "    </tr>\n",
              "    <tr>\n",
              "      <th>2</th>\n",
              "      <td>3</td>\n",
              "      <td>A</td>\n",
              "      <td>Flight</td>\n",
              "      <td>2</td>\n",
              "      <td>2</td>\n",
              "      <td>183</td>\n",
              "      <td>4</td>\n",
              "      <td>low</td>\n",
              "      <td>M</td>\n",
              "      <td>48</td>\n",
              "      <td>3374</td>\n",
              "      <td>1</td>\n",
              "    </tr>\n",
              "    <tr>\n",
              "      <th>3</th>\n",
              "      <td>4</td>\n",
              "      <td>B</td>\n",
              "      <td>Flight</td>\n",
              "      <td>3</td>\n",
              "      <td>3</td>\n",
              "      <td>176</td>\n",
              "      <td>4</td>\n",
              "      <td>medium</td>\n",
              "      <td>M</td>\n",
              "      <td>10</td>\n",
              "      <td>1177</td>\n",
              "      <td>1</td>\n",
              "    </tr>\n",
              "    <tr>\n",
              "      <th>4</th>\n",
              "      <td>5</td>\n",
              "      <td>C</td>\n",
              "      <td>Flight</td>\n",
              "      <td>2</td>\n",
              "      <td>2</td>\n",
              "      <td>184</td>\n",
              "      <td>3</td>\n",
              "      <td>medium</td>\n",
              "      <td>F</td>\n",
              "      <td>46</td>\n",
              "      <td>2484</td>\n",
              "      <td>1</td>\n",
              "    </tr>\n",
              "  </tbody>\n",
              "</table>\n",
              "</div>"
            ],
            "text/plain": [
              "   ID Warehouse_block  ... Weight_in_gms  Reached_on_time\n",
              "0   1               D  ...          1233                1\n",
              "1   2               F  ...          3088                1\n",
              "2   3               A  ...          3374                1\n",
              "3   4               B  ...          1177                1\n",
              "4   5               C  ...          2484                1\n",
              "\n",
              "[5 rows x 12 columns]"
            ]
          },
          "metadata": {
            "tags": []
          },
          "execution_count": 425
        }
      ]
    },
    {
      "cell_type": "code",
      "metadata": {
        "colab": {
          "base_uri": "https://localhost:8080/",
          "height": 215
        },
        "id": "eveU-9oRHedP",
        "outputId": "204e8bad-8340-4321-97bb-c6a3e1762b46"
      },
      "source": [
        "# ID column drop\n",
        "# ID는 그냥 고객을 구분하기 위한 고유 번호로, 타겟에 영향을 미치는 특성이 아니므로 제거합니다.\n",
        "data.drop('ID', inplace = True, axis = 1)\n",
        "\n",
        "data.head()"
      ],
      "execution_count": 426,
      "outputs": [
        {
          "output_type": "execute_result",
          "data": {
            "text/html": [
              "<div>\n",
              "<style scoped>\n",
              "    .dataframe tbody tr th:only-of-type {\n",
              "        vertical-align: middle;\n",
              "    }\n",
              "\n",
              "    .dataframe tbody tr th {\n",
              "        vertical-align: top;\n",
              "    }\n",
              "\n",
              "    .dataframe thead th {\n",
              "        text-align: right;\n",
              "    }\n",
              "</style>\n",
              "<table border=\"1\" class=\"dataframe\">\n",
              "  <thead>\n",
              "    <tr style=\"text-align: right;\">\n",
              "      <th></th>\n",
              "      <th>Warehouse_block</th>\n",
              "      <th>Mode_of_Shipment</th>\n",
              "      <th>Customer_care_calls</th>\n",
              "      <th>Customer_rating</th>\n",
              "      <th>Cost_of_the_Product</th>\n",
              "      <th>Prior_purchases</th>\n",
              "      <th>Product_importance</th>\n",
              "      <th>Gender</th>\n",
              "      <th>Discount_offered</th>\n",
              "      <th>Weight_in_gms</th>\n",
              "      <th>Reached_on_time</th>\n",
              "    </tr>\n",
              "  </thead>\n",
              "  <tbody>\n",
              "    <tr>\n",
              "      <th>0</th>\n",
              "      <td>D</td>\n",
              "      <td>Flight</td>\n",
              "      <td>4</td>\n",
              "      <td>2</td>\n",
              "      <td>177</td>\n",
              "      <td>3</td>\n",
              "      <td>low</td>\n",
              "      <td>F</td>\n",
              "      <td>44</td>\n",
              "      <td>1233</td>\n",
              "      <td>1</td>\n",
              "    </tr>\n",
              "    <tr>\n",
              "      <th>1</th>\n",
              "      <td>F</td>\n",
              "      <td>Flight</td>\n",
              "      <td>4</td>\n",
              "      <td>5</td>\n",
              "      <td>216</td>\n",
              "      <td>2</td>\n",
              "      <td>low</td>\n",
              "      <td>M</td>\n",
              "      <td>59</td>\n",
              "      <td>3088</td>\n",
              "      <td>1</td>\n",
              "    </tr>\n",
              "    <tr>\n",
              "      <th>2</th>\n",
              "      <td>A</td>\n",
              "      <td>Flight</td>\n",
              "      <td>2</td>\n",
              "      <td>2</td>\n",
              "      <td>183</td>\n",
              "      <td>4</td>\n",
              "      <td>low</td>\n",
              "      <td>M</td>\n",
              "      <td>48</td>\n",
              "      <td>3374</td>\n",
              "      <td>1</td>\n",
              "    </tr>\n",
              "    <tr>\n",
              "      <th>3</th>\n",
              "      <td>B</td>\n",
              "      <td>Flight</td>\n",
              "      <td>3</td>\n",
              "      <td>3</td>\n",
              "      <td>176</td>\n",
              "      <td>4</td>\n",
              "      <td>medium</td>\n",
              "      <td>M</td>\n",
              "      <td>10</td>\n",
              "      <td>1177</td>\n",
              "      <td>1</td>\n",
              "    </tr>\n",
              "    <tr>\n",
              "      <th>4</th>\n",
              "      <td>C</td>\n",
              "      <td>Flight</td>\n",
              "      <td>2</td>\n",
              "      <td>2</td>\n",
              "      <td>184</td>\n",
              "      <td>3</td>\n",
              "      <td>medium</td>\n",
              "      <td>F</td>\n",
              "      <td>46</td>\n",
              "      <td>2484</td>\n",
              "      <td>1</td>\n",
              "    </tr>\n",
              "  </tbody>\n",
              "</table>\n",
              "</div>"
            ],
            "text/plain": [
              "  Warehouse_block Mode_of_Shipment  ...  Weight_in_gms  Reached_on_time\n",
              "0               D           Flight  ...           1233                1\n",
              "1               F           Flight  ...           3088                1\n",
              "2               A           Flight  ...           3374                1\n",
              "3               B           Flight  ...           1177                1\n",
              "4               C           Flight  ...           2484                1\n",
              "\n",
              "[5 rows x 11 columns]"
            ]
          },
          "metadata": {
            "tags": []
          },
          "execution_count": 426
        }
      ]
    },
    {
      "cell_type": "code",
      "metadata": {
        "colab": {
          "base_uri": "https://localhost:8080/"
        },
        "id": "yKe9eFRFI-Fo",
        "outputId": "a0f63c6e-393d-484f-dd80-4597101d1a39"
      },
      "source": [
        "#결측치는 없는 것으로 확인된다.\n",
        "data.info()"
      ],
      "execution_count": 427,
      "outputs": [
        {
          "output_type": "stream",
          "text": [
            "<class 'pandas.core.frame.DataFrame'>\n",
            "RangeIndex: 10999 entries, 0 to 10998\n",
            "Data columns (total 11 columns):\n",
            " #   Column               Non-Null Count  Dtype \n",
            "---  ------               --------------  ----- \n",
            " 0   Warehouse_block      10999 non-null  object\n",
            " 1   Mode_of_Shipment     10999 non-null  object\n",
            " 2   Customer_care_calls  10999 non-null  int64 \n",
            " 3   Customer_rating      10999 non-null  int64 \n",
            " 4   Cost_of_the_Product  10999 non-null  int64 \n",
            " 5   Prior_purchases      10999 non-null  int64 \n",
            " 6   Product_importance   10999 non-null  object\n",
            " 7   Gender               10999 non-null  object\n",
            " 8   Discount_offered     10999 non-null  int64 \n",
            " 9   Weight_in_gms        10999 non-null  int64 \n",
            " 10  Reached_on_time      10999 non-null  int64 \n",
            "dtypes: int64(7), object(4)\n",
            "memory usage: 945.4+ KB\n"
          ],
          "name": "stdout"
        }
      ]
    },
    {
      "cell_type": "code",
      "metadata": {
        "colab": {
          "base_uri": "https://localhost:8080/",
          "height": 373
        },
        "id": "8P7dWPzmJBfs",
        "outputId": "f149a89d-a056-4a04-f415-2d8b9392afd1"
      },
      "source": [
        "data.describe(include='all').T"
      ],
      "execution_count": 428,
      "outputs": [
        {
          "output_type": "execute_result",
          "data": {
            "text/html": [
              "<div>\n",
              "<style scoped>\n",
              "    .dataframe tbody tr th:only-of-type {\n",
              "        vertical-align: middle;\n",
              "    }\n",
              "\n",
              "    .dataframe tbody tr th {\n",
              "        vertical-align: top;\n",
              "    }\n",
              "\n",
              "    .dataframe thead th {\n",
              "        text-align: right;\n",
              "    }\n",
              "</style>\n",
              "<table border=\"1\" class=\"dataframe\">\n",
              "  <thead>\n",
              "    <tr style=\"text-align: right;\">\n",
              "      <th></th>\n",
              "      <th>count</th>\n",
              "      <th>unique</th>\n",
              "      <th>top</th>\n",
              "      <th>freq</th>\n",
              "      <th>mean</th>\n",
              "      <th>std</th>\n",
              "      <th>min</th>\n",
              "      <th>25%</th>\n",
              "      <th>50%</th>\n",
              "      <th>75%</th>\n",
              "      <th>max</th>\n",
              "    </tr>\n",
              "  </thead>\n",
              "  <tbody>\n",
              "    <tr>\n",
              "      <th>Warehouse_block</th>\n",
              "      <td>10999</td>\n",
              "      <td>5</td>\n",
              "      <td>F</td>\n",
              "      <td>3666</td>\n",
              "      <td>NaN</td>\n",
              "      <td>NaN</td>\n",
              "      <td>NaN</td>\n",
              "      <td>NaN</td>\n",
              "      <td>NaN</td>\n",
              "      <td>NaN</td>\n",
              "      <td>NaN</td>\n",
              "    </tr>\n",
              "    <tr>\n",
              "      <th>Mode_of_Shipment</th>\n",
              "      <td>10999</td>\n",
              "      <td>3</td>\n",
              "      <td>Ship</td>\n",
              "      <td>7462</td>\n",
              "      <td>NaN</td>\n",
              "      <td>NaN</td>\n",
              "      <td>NaN</td>\n",
              "      <td>NaN</td>\n",
              "      <td>NaN</td>\n",
              "      <td>NaN</td>\n",
              "      <td>NaN</td>\n",
              "    </tr>\n",
              "    <tr>\n",
              "      <th>Customer_care_calls</th>\n",
              "      <td>10999</td>\n",
              "      <td>NaN</td>\n",
              "      <td>NaN</td>\n",
              "      <td>NaN</td>\n",
              "      <td>4.05446</td>\n",
              "      <td>1.14149</td>\n",
              "      <td>2</td>\n",
              "      <td>3</td>\n",
              "      <td>4</td>\n",
              "      <td>5</td>\n",
              "      <td>7</td>\n",
              "    </tr>\n",
              "    <tr>\n",
              "      <th>Customer_rating</th>\n",
              "      <td>10999</td>\n",
              "      <td>NaN</td>\n",
              "      <td>NaN</td>\n",
              "      <td>NaN</td>\n",
              "      <td>2.99054</td>\n",
              "      <td>1.4136</td>\n",
              "      <td>1</td>\n",
              "      <td>2</td>\n",
              "      <td>3</td>\n",
              "      <td>4</td>\n",
              "      <td>5</td>\n",
              "    </tr>\n",
              "    <tr>\n",
              "      <th>Cost_of_the_Product</th>\n",
              "      <td>10999</td>\n",
              "      <td>NaN</td>\n",
              "      <td>NaN</td>\n",
              "      <td>NaN</td>\n",
              "      <td>210.197</td>\n",
              "      <td>48.0633</td>\n",
              "      <td>96</td>\n",
              "      <td>169</td>\n",
              "      <td>214</td>\n",
              "      <td>251</td>\n",
              "      <td>310</td>\n",
              "    </tr>\n",
              "    <tr>\n",
              "      <th>Prior_purchases</th>\n",
              "      <td>10999</td>\n",
              "      <td>NaN</td>\n",
              "      <td>NaN</td>\n",
              "      <td>NaN</td>\n",
              "      <td>3.5676</td>\n",
              "      <td>1.52286</td>\n",
              "      <td>2</td>\n",
              "      <td>3</td>\n",
              "      <td>3</td>\n",
              "      <td>4</td>\n",
              "      <td>10</td>\n",
              "    </tr>\n",
              "    <tr>\n",
              "      <th>Product_importance</th>\n",
              "      <td>10999</td>\n",
              "      <td>3</td>\n",
              "      <td>low</td>\n",
              "      <td>5297</td>\n",
              "      <td>NaN</td>\n",
              "      <td>NaN</td>\n",
              "      <td>NaN</td>\n",
              "      <td>NaN</td>\n",
              "      <td>NaN</td>\n",
              "      <td>NaN</td>\n",
              "      <td>NaN</td>\n",
              "    </tr>\n",
              "    <tr>\n",
              "      <th>Gender</th>\n",
              "      <td>10999</td>\n",
              "      <td>2</td>\n",
              "      <td>F</td>\n",
              "      <td>5545</td>\n",
              "      <td>NaN</td>\n",
              "      <td>NaN</td>\n",
              "      <td>NaN</td>\n",
              "      <td>NaN</td>\n",
              "      <td>NaN</td>\n",
              "      <td>NaN</td>\n",
              "      <td>NaN</td>\n",
              "    </tr>\n",
              "    <tr>\n",
              "      <th>Discount_offered</th>\n",
              "      <td>10999</td>\n",
              "      <td>NaN</td>\n",
              "      <td>NaN</td>\n",
              "      <td>NaN</td>\n",
              "      <td>13.3732</td>\n",
              "      <td>16.2055</td>\n",
              "      <td>1</td>\n",
              "      <td>4</td>\n",
              "      <td>7</td>\n",
              "      <td>10</td>\n",
              "      <td>65</td>\n",
              "    </tr>\n",
              "    <tr>\n",
              "      <th>Weight_in_gms</th>\n",
              "      <td>10999</td>\n",
              "      <td>NaN</td>\n",
              "      <td>NaN</td>\n",
              "      <td>NaN</td>\n",
              "      <td>3634.02</td>\n",
              "      <td>1635.38</td>\n",
              "      <td>1001</td>\n",
              "      <td>1839.5</td>\n",
              "      <td>4149</td>\n",
              "      <td>5050</td>\n",
              "      <td>7846</td>\n",
              "    </tr>\n",
              "    <tr>\n",
              "      <th>Reached_on_time</th>\n",
              "      <td>10999</td>\n",
              "      <td>NaN</td>\n",
              "      <td>NaN</td>\n",
              "      <td>NaN</td>\n",
              "      <td>0.596691</td>\n",
              "      <td>0.490584</td>\n",
              "      <td>0</td>\n",
              "      <td>0</td>\n",
              "      <td>1</td>\n",
              "      <td>1</td>\n",
              "      <td>1</td>\n",
              "    </tr>\n",
              "  </tbody>\n",
              "</table>\n",
              "</div>"
            ],
            "text/plain": [
              "                     count unique   top  freq  ...     25%   50%   75%   max\n",
              "Warehouse_block      10999      5     F  3666  ...     NaN   NaN   NaN   NaN\n",
              "Mode_of_Shipment     10999      3  Ship  7462  ...     NaN   NaN   NaN   NaN\n",
              "Customer_care_calls  10999    NaN   NaN   NaN  ...       3     4     5     7\n",
              "Customer_rating      10999    NaN   NaN   NaN  ...       2     3     4     5\n",
              "Cost_of_the_Product  10999    NaN   NaN   NaN  ...     169   214   251   310\n",
              "Prior_purchases      10999    NaN   NaN   NaN  ...       3     3     4    10\n",
              "Product_importance   10999      3   low  5297  ...     NaN   NaN   NaN   NaN\n",
              "Gender               10999      2     F  5545  ...     NaN   NaN   NaN   NaN\n",
              "Discount_offered     10999    NaN   NaN   NaN  ...       4     7    10    65\n",
              "Weight_in_gms        10999    NaN   NaN   NaN  ...  1839.5  4149  5050  7846\n",
              "Reached_on_time      10999    NaN   NaN   NaN  ...       0     1     1     1\n",
              "\n",
              "[11 rows x 11 columns]"
            ]
          },
          "metadata": {
            "tags": []
          },
          "execution_count": 428
        }
      ]
    },
    {
      "cell_type": "markdown",
      "metadata": {
        "id": "_4H9m0UxKCRw"
      },
      "source": [
        "데이터의 특성을 살펴보겠습니다."
      ]
    },
    {
      "cell_type": "code",
      "metadata": {
        "colab": {
          "base_uri": "https://localhost:8080/"
        },
        "id": "tYf7Xl1HKEkH",
        "outputId": "b7fb1d64-5ddd-4337-b5a8-01a9a9efc926"
      },
      "source": [
        "data['Warehouse_block'].unique()"
      ],
      "execution_count": 429,
      "outputs": [
        {
          "output_type": "execute_result",
          "data": {
            "text/plain": [
              "array(['D', 'F', 'A', 'B', 'C'], dtype=object)"
            ]
          },
          "metadata": {
            "tags": []
          },
          "execution_count": 429
        }
      ]
    },
    {
      "cell_type": "code",
      "metadata": {
        "colab": {
          "base_uri": "https://localhost:8080/",
          "height": 280
        },
        "id": "DJA4B744KO8B",
        "outputId": "b7324b0d-c9d9-43c0-9f59-5bcc2b6ddada"
      },
      "source": [
        "import matplotlib.pyplot as plt\n",
        "import seaborn as sns\n",
        "\n",
        "%matplotlib inline\n",
        "sns.countplot(x=data['Warehouse_block']);"
      ],
      "execution_count": 430,
      "outputs": [
        {
          "output_type": "display_data",
          "data": {
            "image/png": "[encoded data removed]",
            "text/plain": [
              "<Figure size 432x288 with 1 Axes>"
            ]
          },
          "metadata": {
            "tags": [],
            "needs_background": "light"
          }
        }
      ]
    },
    {
      "cell_type": "code",
      "metadata": {
        "colab": {
          "base_uri": "https://localhost:8080/"
        },
        "id": "FVj699m8KIBM",
        "outputId": "eb5bf8ab-f848-4ae0-df1f-9308f2c88dd5"
      },
      "source": [
        "data['Mode_of_Shipment'].unique()"
      ],
      "execution_count": 431,
      "outputs": [
        {
          "output_type": "execute_result",
          "data": {
            "text/plain": [
              "array(['Flight', 'Ship', 'Road'], dtype=object)"
            ]
          },
          "metadata": {
            "tags": []
          },
          "execution_count": 431
        }
      ]
    },
    {
      "cell_type": "code",
      "metadata": {
        "colab": {
          "base_uri": "https://localhost:8080/",
          "height": 280
        },
        "id": "-LwCE5opKSkU",
        "outputId": "07538188-fd17-41f2-9d6a-0f55bdffa9aa"
      },
      "source": [
        "sns.countplot(x=data['Mode_of_Shipment']);\n",
        "\n",
        "# Ship으로 배송되는 수가 가장 많다."
      ],
      "execution_count": 432,
      "outputs": [
        {
          "output_type": "display_data",
          "data": {
            "image/png": "[encoded data removed]",
            "text/plain": [
              "<Figure size 432x288 with 1 Axes>"
            ]
          },
          "metadata": {
            "tags": [],
            "needs_background": "light"
          }
        }
      ]
    },
    {
      "cell_type": "code",
      "metadata": {
        "colab": {
          "base_uri": "https://localhost:8080/"
        },
        "id": "in5umA3RKKFY",
        "outputId": "3c435430-623a-410a-9dc3-cbb42cf8436a"
      },
      "source": [
        "data['Product_importance'].unique()"
      ],
      "execution_count": 433,
      "outputs": [
        {
          "output_type": "execute_result",
          "data": {
            "text/plain": [
              "array(['low', 'medium', 'high'], dtype=object)"
            ]
          },
          "metadata": {
            "tags": []
          },
          "execution_count": 433
        }
      ]
    },
    {
      "cell_type": "code",
      "metadata": {
        "colab": {
          "base_uri": "https://localhost:8080/",
          "height": 280
        },
        "id": "lCOd0MzJKVvX",
        "outputId": "06c31f6f-b742-4d70-e1c7-4d3a5541c1a9"
      },
      "source": [
        "sns.countplot(x=data['Product_importance']);"
      ],
      "execution_count": 434,
      "outputs": [
        {
          "output_type": "display_data",
          "data": {
            "image/png": "[encoded data removed]",
            "text/plain": [
              "<Figure size 432x288 with 1 Axes>"
            ]
          },
          "metadata": {
            "tags": [],
            "needs_background": "light"
          }
        }
      ]
    },
    {
      "cell_type": "code",
      "metadata": {
        "colab": {
          "base_uri": "https://localhost:8080/",
          "height": 280
        },
        "id": "A_JdQtQiLWJJ",
        "outputId": "b74c24a6-65b7-4536-b7f2-8876d3da45b9"
      },
      "source": [
        "# Customer_care_calls\n",
        "sns.countplot(x=data['Customer_care_calls']);"
      ],
      "execution_count": 435,
      "outputs": [
        {
          "output_type": "display_data",
          "data": {
            "image/png": "[encoded data removed]",
            "text/plain": [
              "<Figure size 432x288 with 1 Axes>"
            ]
          },
          "metadata": {
            "tags": [],
            "needs_background": "light"
          }
        }
      ]
    },
    {
      "cell_type": "code",
      "metadata": {
        "colab": {
          "base_uri": "https://localhost:8080/",
          "height": 279
        },
        "id": "PZFpDLvfLbM-",
        "outputId": "f79afd9f-0fab-4e1b-8870-4dab78e13e27"
      },
      "source": [
        "# Gender\n",
        "sns.countplot(x=data['Gender']);"
      ],
      "execution_count": 436,
      "outputs": [
        {
          "output_type": "display_data",
          "data": {
            "image/png": "[encoded data removed]",
            "text/plain": [
              "<Figure size 432x288 with 1 Axes>"
            ]
          },
          "metadata": {
            "tags": [],
            "needs_background": "light"
          }
        }
      ]
    },
    {
      "cell_type": "code",
      "metadata": {
        "id": "npqaFUvg6Kap",
        "colab": {
          "base_uri": "https://localhost:8080/",
          "height": 518
        },
        "outputId": "13d68ba8-dfd4-4f73-9b0e-7dd5e6d07e41"
      },
      "source": [
        "cost= data['Cost_of_the_Product']\n",
        "\n",
        "plt.figure(figsize=(10, 7))\n",
        "\n",
        "sns.distplot(cost).set(ylabel=None, xlabel=None)\n",
        "plt.title('Product Cost', fontsize=14)\n",
        "plt.xlabel('Amount', fontsize=12)\n",
        "plt.show()"
      ],
      "execution_count": 437,
      "outputs": [
        {
          "output_type": "stream",
          "text": [
            "/usr/local/lib/python3.7/dist-packages/seaborn/distributions.py:2557: FutureWarning: `distplot` is a deprecated function and will be removed in a future version. Please adapt your code to use either `displot` (a figure-level function with similar flexibility) or `histplot` (an axes-level function for histograms).\n",
            "  warnings.warn(msg, FutureWarning)\n"
          ],
          "name": "stderr"
        },
        {
          "output_type": "display_data",
          "data": {
            "image/png": "[encoded data removed]",
            "text/plain": [
              "<Figure size 720x504 with 1 Axes>"
            ]
          },
          "metadata": {
            "tags": [],
            "needs_background": "light"
          }
        }
      ]
    },
    {
      "cell_type": "code",
      "metadata": {
        "colab": {
          "base_uri": "https://localhost:8080/",
          "height": 369
        },
        "id": "29EjDJ-vROYL",
        "outputId": "b5e7a293-dea9-4ef8-a2e1-4303ea695da2"
      },
      "source": [
        "import seaborn as sns\n",
        "import matplotlib.pyplot as plt\n",
        "sns.displot(data['Discount_offered'],kde=True);\n",
        "plt.axvline(data['Discount_offered'].mean(), color='red');"
      ],
      "execution_count": 438,
      "outputs": [
        {
          "output_type": "display_data",
          "data": {
            "image/png": "[encoded data removed]",
            "text/plain": [
              "<Figure size 360x360 with 1 Axes>"
            ]
          },
          "metadata": {
            "tags": [],
            "needs_background": "light"
          }
        }
      ]
    },
    {
      "cell_type": "markdown",
      "metadata": {
        "id": "rkN1co4ksv9b"
      },
      "source": [
        "Discount_offered 특성은 왼쪽으로 매우 치우쳐져 있음을 확인할 수 있습니다."
      ]
    },
    {
      "cell_type": "code",
      "metadata": {
        "colab": {
          "base_uri": "https://localhost:8080/"
        },
        "id": "jeR5oMrkpQ_1",
        "outputId": "23645be0-c986-415b-d4b3-d5c5aed23bcb"
      },
      "source": [
        "data['Discount_offered'].mean()"
      ],
      "execution_count": 439,
      "outputs": [
        {
          "output_type": "execute_result",
          "data": {
            "text/plain": [
              "13.37321574688608"
            ]
          },
          "metadata": {
            "tags": []
          },
          "execution_count": 439
        }
      ]
    },
    {
      "cell_type": "code",
      "metadata": {
        "id": "Qm0qstxqzy9v"
      },
      "source": [
        "def funcforD(x):\n",
        "    if x < 13.36:\n",
        "        return \"LESS\"\n",
        "    elif 13.36 < x > 30:\n",
        "        return \"NORMAL\"\n",
        "    else:\n",
        "        return \"TOO MUCH\""
      ],
      "execution_count": 440,
      "outputs": []
    },
    {
      "cell_type": "code",
      "metadata": {
        "id": "9ITgThODz2ub"
      },
      "source": [
        "data[\"Discount_offered\"] = data[\"Discount_offered\"].apply(lambda x: funcforD(x))"
      ],
      "execution_count": 441,
      "outputs": []
    },
    {
      "cell_type": "code",
      "metadata": {
        "id": "iET5z89NROYQ"
      },
      "source": [
        "## Discount 특성을 만들어 이진분류문제로 변환합니다\n",
        "#data['Discount'] = data['Discount_offered'] >= data['Discount_offered'].mean()\n",
        "#data['Discount'].nunique()"
      ],
      "execution_count": 442,
      "outputs": []
    },
    {
      "cell_type": "code",
      "metadata": {
        "colab": {
          "base_uri": "https://localhost:8080/"
        },
        "id": "EtSTA9JaROYR",
        "outputId": "7d1db7b0-5547-467b-d03f-cb976856df1f"
      },
      "source": [
        "data['Discount_offered'].value_counts()"
      ],
      "execution_count": 443,
      "outputs": [
        {
          "output_type": "execute_result",
          "data": {
            "text/plain": [
              "LESS        8514\n",
              "NORMAL      1710\n",
              "TOO MUCH     775\n",
              "Name: Discount_offered, dtype: int64"
            ]
          },
          "metadata": {
            "tags": []
          },
          "execution_count": 443
        }
      ]
    },
    {
      "cell_type": "code",
      "metadata": {
        "id": "IjXkBeF04mxt",
        "outputId": "8a6e0d25-dde4-46db-b78d-831b567f62b4",
        "colab": {
          "base_uri": "https://localhost:8080/"
        }
      },
      "source": [
        "data.info()"
      ],
      "execution_count": 444,
      "outputs": [
        {
          "output_type": "stream",
          "text": [
            "<class 'pandas.core.frame.DataFrame'>\n",
            "RangeIndex: 10999 entries, 0 to 10998\n",
            "Data columns (total 11 columns):\n",
            " #   Column               Non-Null Count  Dtype \n",
            "---  ------               --------------  ----- \n",
            " 0   Warehouse_block      10999 non-null  object\n",
            " 1   Mode_of_Shipment     10999 non-null  object\n",
            " 2   Customer_care_calls  10999 non-null  int64 \n",
            " 3   Customer_rating      10999 non-null  int64 \n",
            " 4   Cost_of_the_Product  10999 non-null  int64 \n",
            " 5   Prior_purchases      10999 non-null  int64 \n",
            " 6   Product_importance   10999 non-null  object\n",
            " 7   Gender               10999 non-null  object\n",
            " 8   Discount_offered     10999 non-null  object\n",
            " 9   Weight_in_gms        10999 non-null  int64 \n",
            " 10  Reached_on_time      10999 non-null  int64 \n",
            "dtypes: int64(6), object(5)\n",
            "memory usage: 945.4+ KB\n"
          ],
          "name": "stdout"
        }
      ]
    },
    {
      "cell_type": "code",
      "metadata": {
        "id": "VHk_s97tqBkJ"
      },
      "source": [
        "#data['Discount'] = data['Discount'].astype(int)"
      ],
      "execution_count": 445,
      "outputs": []
    },
    {
      "cell_type": "markdown",
      "metadata": {
        "id": "9LzOv3i3v8d6"
      },
      "source": [
        "성별 간 데이터 분포의 차이는 거의 없음을 확인할 수 있다."
      ]
    },
    {
      "cell_type": "code",
      "metadata": {
        "id": "-0jL4ed_v0Iu",
        "outputId": "f37af954-2526-4209-ec8b-57c9300937da",
        "colab": {
          "base_uri": "https://localhost:8080/",
          "height": 609
        }
      },
      "source": [
        "sns.set_style('darkgrid')\n",
        "\n",
        "f,axes= plt.subplots(2,2, figsize=(10,10))\n",
        "\n",
        "sns.countplot(x='Customer_care_calls',hue='Gender',data=data,palette='RdBu_r', ax=axes[0,0])\n",
        "sns.countplot(x='Customer_rating',hue='Gender',data=data,palette='RdBu_r', ax=axes[0,1])\n",
        "sns.countplot(x='Prior_purchases',hue='Gender',data=data,palette='RdBu_r', ax=axes[1,0])\n",
        "sns.countplot(x='Reached_on_time',hue='Gender',data=data,palette='RdBu_r', ax=axes[1,1])\n",
        "\n",
        "sns.set_style('whitegrid')"
      ],
      "execution_count": 446,
      "outputs": [
        {
          "output_type": "display_data",
          "data": {
            "image/png": "[encoded data removed]",
            "text/plain": [
              "<Figure size 720x720 with 4 Axes>"
            ]
          },
          "metadata": {
            "tags": []
          }
        }
      ]
    },
    {
      "cell_type": "markdown",
      "metadata": {
        "id": "93t1or27ClNE"
      },
      "source": [
        "LabelEncoder를 이용하여 문자를 0부터 시작하는 정수형 숫자로 바꿔주겠습니다."
      ]
    },
    {
      "cell_type": "code",
      "metadata": {
        "id": "hqvajcpa-oQO"
      },
      "source": [
        "# converting\n",
        "#data['Reached_on_time'] = data['Reached_on_time'].astype('category')\n",
        "#data_div['Reached.on.Time_Y.N'].replace(1,'Not_On_Time', inplace=True)\n",
        "#data_div['Reached.on.Time_Y.N'].replace(0,'On_Time', inplace=True)\n",
        "\n",
        "# separate features and target\n",
        "#label = data['Reached_on_time']\n",
        "#numericals = data.select_dtypes(include=['number'])\n",
        "#categoricals = data.drop(['Reached_on_time'], axis=1).select_dtypes(exclude=['number'])\n",
        "\n",
        "#print(\"\\nlabel column:\", label.name)\n",
        "#print(\"__________________________\\n\")\n",
        "#print(\"numerical columns:\\n\", numericals.columns)\n",
        "#print(\"__________________________\\n\")\n",
        "#print(\"categorical columns:\\n\", categoricals.columns)"
      ],
      "execution_count": 275,
      "outputs": []
    },
    {
      "cell_type": "code",
      "metadata": {
        "id": "IR5q1XHd_gw2",
        "colab": {
          "base_uri": "https://localhost:8080/"
        },
        "outputId": "2bb640ce-1579-46d2-bb15-910dcfafd12f"
      },
      "source": [
        "data.info()"
      ],
      "execution_count": 338,
      "outputs": [
        {
          "output_type": "stream",
          "text": [
            "<class 'pandas.core.frame.DataFrame'>\n",
            "RangeIndex: 10999 entries, 0 to 10998\n",
            "Data columns (total 11 columns):\n",
            " #   Column               Non-Null Count  Dtype \n",
            "---  ------               --------------  ----- \n",
            " 0   Warehouse_block      10999 non-null  object\n",
            " 1   Mode_of_Shipment     10999 non-null  object\n",
            " 2   Customer_care_calls  10999 non-null  int64 \n",
            " 3   Customer_rating      10999 non-null  int64 \n",
            " 4   Cost_of_the_Product  10999 non-null  int64 \n",
            " 5   Prior_purchases      10999 non-null  int64 \n",
            " 6   Product_importance   10999 non-null  object\n",
            " 7   Gender               10999 non-null  object\n",
            " 8   Discount_offered     10999 non-null  object\n",
            " 9   Weight_in_gms        10999 non-null  int64 \n",
            " 10  Reached_on_time      10999 non-null  int64 \n",
            "dtypes: int64(6), object(5)\n",
            "memory usage: 945.4+ KB\n"
          ],
          "name": "stdout"
        }
      ]
    },
    {
      "cell_type": "code",
      "metadata": {
        "id": "yRNgcz9VCm0k"
      },
      "source": [
        "#from sklearn.preprocessing import LabelEncoder\n",
        "\n",
        "#encoder = LabelEncoder()"
      ],
      "execution_count": 339,
      "outputs": []
    },
    {
      "cell_type": "code",
      "metadata": {
        "colab": {
          "base_uri": "https://localhost:8080/"
        },
        "id": "73s7akA7Cmxq",
        "outputId": "764547af-f435-4762-c28a-c75ee7d88b00"
      },
      "source": [
        "#objectcolumns = data.select_dtypes(include=[\"object\"])\n",
        "#print(objectcolumns.columns)"
      ],
      "execution_count": 340,
      "outputs": [
        {
          "output_type": "stream",
          "text": [
            "Index(['Warehouse_block', 'Mode_of_Shipment', 'Product_importance', 'Gender',\n",
            "       'Discount_offered'],\n",
            "      dtype='object')\n"
          ],
          "name": "stdout"
        }
      ]
    },
    {
      "cell_type": "code",
      "metadata": {
        "colab": {
          "base_uri": "https://localhost:8080/"
        },
        "id": "c4D-K9VlCmoR",
        "outputId": "46a6596e-bb23-46e5-f43d-ae57c0c51ae9"
      },
      "source": [
        "#for a in objectcolumns:\n",
        "#    data[a] = encoder.fit_transform(data[a])\n",
        "\n",
        "#data.info()"
      ],
      "execution_count": 341,
      "outputs": [
        {
          "output_type": "stream",
          "text": [
            "<class 'pandas.core.frame.DataFrame'>\n",
            "RangeIndex: 10999 entries, 0 to 10998\n",
            "Data columns (total 11 columns):\n",
            " #   Column               Non-Null Count  Dtype\n",
            "---  ------               --------------  -----\n",
            " 0   Warehouse_block      10999 non-null  int64\n",
            " 1   Mode_of_Shipment     10999 non-null  int64\n",
            " 2   Customer_care_calls  10999 non-null  int64\n",
            " 3   Customer_rating      10999 non-null  int64\n",
            " 4   Cost_of_the_Product  10999 non-null  int64\n",
            " 5   Prior_purchases      10999 non-null  int64\n",
            " 6   Product_importance   10999 non-null  int64\n",
            " 7   Gender               10999 non-null  int64\n",
            " 8   Discount_offered     10999 non-null  int64\n",
            " 9   Weight_in_gms        10999 non-null  int64\n",
            " 10  Reached_on_time      10999 non-null  int64\n",
            "dtypes: int64(11)\n",
            "memory usage: 945.4 KB\n"
          ],
          "name": "stdout"
        }
      ]
    },
    {
      "cell_type": "code",
      "metadata": {
        "id": "fc9GPsYA5uFG"
      },
      "source": [
        "data['Discount_offered'] = data['Discount_offered'].astype('category')\n",
        "data['Product_importance'] = data['Product_importance'].astype('category')\n",
        "data['Warehouse_block'] = data['Warehouse_block'].astype('category')\n",
        "data['Mode_of_Shipment'] = data['Mode_of_Shipment'].astype('category')\n",
        "data['Gender'] = data['Gender'].astype('category')"
      ],
      "execution_count": 447,
      "outputs": []
    },
    {
      "cell_type": "code",
      "metadata": {
        "colab": {
          "base_uri": "https://localhost:8080/"
        },
        "id": "CVicRQWvLh7p",
        "outputId": "2f47e452-ebec-4cb9-8890-8c61f0751561"
      },
      "source": [
        "data['Reached_on_time'].value_counts()"
      ],
      "execution_count": 448,
      "outputs": [
        {
          "output_type": "execute_result",
          "data": {
            "text/plain": [
              "1    6563\n",
              "0    4436\n",
              "Name: Reached_on_time, dtype: int64"
            ]
          },
          "metadata": {
            "tags": []
          },
          "execution_count": 448
        }
      ]
    },
    {
      "cell_type": "code",
      "metadata": {
        "colab": {
          "base_uri": "https://localhost:8080/",
          "height": 225
        },
        "id": "71ypMwGNLmC-",
        "outputId": "98f44dcc-884b-402d-dc9d-e6bc951fd013"
      },
      "source": [
        "# data의 feature 간 상관관계\n",
        "data.corr()"
      ],
      "execution_count": 449,
      "outputs": [
        {
          "output_type": "execute_result",
          "data": {
            "text/html": [
              "<div>\n",
              "<style scoped>\n",
              "    .dataframe tbody tr th:only-of-type {\n",
              "        vertical-align: middle;\n",
              "    }\n",
              "\n",
              "    .dataframe tbody tr th {\n",
              "        vertical-align: top;\n",
              "    }\n",
              "\n",
              "    .dataframe thead th {\n",
              "        text-align: right;\n",
              "    }\n",
              "</style>\n",
              "<table border=\"1\" class=\"dataframe\">\n",
              "  <thead>\n",
              "    <tr style=\"text-align: right;\">\n",
              "      <th></th>\n",
              "      <th>Customer_care_calls</th>\n",
              "      <th>Customer_rating</th>\n",
              "      <th>Cost_of_the_Product</th>\n",
              "      <th>Prior_purchases</th>\n",
              "      <th>Weight_in_gms</th>\n",
              "      <th>Reached_on_time</th>\n",
              "    </tr>\n",
              "  </thead>\n",
              "  <tbody>\n",
              "    <tr>\n",
              "      <th>Customer_care_calls</th>\n",
              "      <td>1.000000</td>\n",
              "      <td>0.012209</td>\n",
              "      <td>0.323182</td>\n",
              "      <td>0.180771</td>\n",
              "      <td>-0.276615</td>\n",
              "      <td>-0.067126</td>\n",
              "    </tr>\n",
              "    <tr>\n",
              "      <th>Customer_rating</th>\n",
              "      <td>0.012209</td>\n",
              "      <td>1.000000</td>\n",
              "      <td>0.009270</td>\n",
              "      <td>0.013179</td>\n",
              "      <td>-0.001897</td>\n",
              "      <td>0.013119</td>\n",
              "    </tr>\n",
              "    <tr>\n",
              "      <th>Cost_of_the_Product</th>\n",
              "      <td>0.323182</td>\n",
              "      <td>0.009270</td>\n",
              "      <td>1.000000</td>\n",
              "      <td>0.123676</td>\n",
              "      <td>-0.132604</td>\n",
              "      <td>-0.073587</td>\n",
              "    </tr>\n",
              "    <tr>\n",
              "      <th>Prior_purchases</th>\n",
              "      <td>0.180771</td>\n",
              "      <td>0.013179</td>\n",
              "      <td>0.123676</td>\n",
              "      <td>1.000000</td>\n",
              "      <td>-0.168213</td>\n",
              "      <td>-0.055515</td>\n",
              "    </tr>\n",
              "    <tr>\n",
              "      <th>Weight_in_gms</th>\n",
              "      <td>-0.276615</td>\n",
              "      <td>-0.001897</td>\n",
              "      <td>-0.132604</td>\n",
              "      <td>-0.168213</td>\n",
              "      <td>1.000000</td>\n",
              "      <td>-0.268793</td>\n",
              "    </tr>\n",
              "    <tr>\n",
              "      <th>Reached_on_time</th>\n",
              "      <td>-0.067126</td>\n",
              "      <td>0.013119</td>\n",
              "      <td>-0.073587</td>\n",
              "      <td>-0.055515</td>\n",
              "      <td>-0.268793</td>\n",
              "      <td>1.000000</td>\n",
              "    </tr>\n",
              "  </tbody>\n",
              "</table>\n",
              "</div>"
            ],
            "text/plain": [
              "                     Customer_care_calls  ...  Reached_on_time\n",
              "Customer_care_calls             1.000000  ...        -0.067126\n",
              "Customer_rating                 0.012209  ...         0.013119\n",
              "Cost_of_the_Product             0.323182  ...        -0.073587\n",
              "Prior_purchases                 0.180771  ...        -0.055515\n",
              "Weight_in_gms                  -0.276615  ...        -0.268793\n",
              "Reached_on_time                -0.067126  ...         1.000000\n",
              "\n",
              "[6 rows x 6 columns]"
            ]
          },
          "metadata": {
            "tags": []
          },
          "execution_count": 449
        }
      ]
    },
    {
      "cell_type": "code",
      "metadata": {
        "colab": {
          "base_uri": "https://localhost:8080/",
          "height": 506
        },
        "id": "t-D_tHCHLops",
        "outputId": "127d9d43-934c-4171-d2cb-3137c27b722f"
      },
      "source": [
        "plt.figure(figsize=(15,8))\n",
        "sns.heatmap(data = data.corr(), annot=True, \n",
        "fmt = '.5f', linewidths=.5, cmap='Blues')"
      ],
      "execution_count": 450,
      "outputs": [
        {
          "output_type": "execute_result",
          "data": {
            "text/plain": [
              "<matplotlib.axes._subplots.AxesSubplot at 0x7f3cfb0ec110>"
            ]
          },
          "metadata": {
            "tags": []
          },
          "execution_count": 450
        },
        {
          "output_type": "display_data",
          "data": {
            "image/png": "[encoded data removed]",
            "text/plain": [
              "<Figure size 1080x576 with 2 Axes>"
            ]
          },
          "metadata": {
            "tags": []
          }
        }
      ]
    },
    {
      "cell_type": "markdown",
      "metadata": {
        "id": "e2OPwN6zIN9i"
      },
      "source": [
        "데이터 셋을 나누겠습니다."
      ]
    },
    {
      "cell_type": "code",
      "metadata": {
        "id": "vMum1wxXMmWd"
      },
      "source": [
        "# On_time : 1\n",
        "# Not On_time : 0\n",
        "target = 'Reached_on_time'"
      ],
      "execution_count": 451,
      "outputs": []
    },
    {
      "cell_type": "code",
      "metadata": {
        "colab": {
          "base_uri": "https://localhost:8080/"
        },
        "id": "TubYXAWpIevK",
        "outputId": "2c4113b9-6ee2-441c-d42a-d77aa4415982"
      },
      "source": [
        "from sklearn.model_selection import train_test_split\n",
        "train, test = train_test_split(data, test_size=0.2, random_state=2)\n",
        "\n",
        "train.shape, test.shape"
      ],
      "execution_count": 452,
      "outputs": [
        {
          "output_type": "execute_result",
          "data": {
            "text/plain": [
              "((8799, 11), (2200, 11))"
            ]
          },
          "metadata": {
            "tags": []
          },
          "execution_count": 452
        }
      ]
    },
    {
      "cell_type": "code",
      "metadata": {
        "colab": {
          "base_uri": "https://localhost:8080/"
        },
        "id": "hKDutbecIob3",
        "outputId": "6c0895bd-1d70-4eec-908d-a7372955a580"
      },
      "source": [
        "# 80/20 비율로 학습/테스트 데이터를 분리합니다.\n",
        "train, val = train_test_split(train, train_size=0.80, test_size=0.20, \n",
        "                              stratify=train[target], random_state=2)\n",
        "\n",
        "train.shape, val.shape"
      ],
      "execution_count": 453,
      "outputs": [
        {
          "output_type": "execute_result",
          "data": {
            "text/plain": [
              "((7039, 11), (1760, 11))"
            ]
          },
          "metadata": {
            "tags": []
          },
          "execution_count": 453
        }
      ]
    },
    {
      "cell_type": "code",
      "metadata": {
        "id": "iO1Nw5z5MP-l"
      },
      "source": [
        "# 훈련, 검정 세트로 나누기!\n",
        "features = train.drop(columns=[target]).columns\n",
        "\n",
        "X_train = train[features]\n",
        "y_train = train[target]\n",
        "X_val = val[features]\n",
        "y_val = val[target]\n",
        "X_test = test[features]\n",
        "y_test = test[target]"
      ],
      "execution_count": 454,
      "outputs": []
    },
    {
      "cell_type": "markdown",
      "metadata": {
        "id": "kAS1J8PAMw5Z"
      },
      "source": [
        "이 문제는 분류 문제로, 로지스틱 회귀 분석을 시행할 수 있습니다."
      ]
    },
    {
      "cell_type": "code",
      "metadata": {
        "colab": {
          "base_uri": "https://localhost:8080/"
        },
        "id": "vzP2aHQzMg5Y",
        "outputId": "c62ca213-b5dc-4bf3-ca2e-a2167ad02f6f"
      },
      "source": [
        "# 타겟 데이터 범주의 비율을 확인합니다.\n",
        "y_train = train[target]\n",
        "y_train.value_counts(normalize=True)"
      ],
      "execution_count": 455,
      "outputs": [
        {
          "output_type": "execute_result",
          "data": {
            "text/plain": [
              "1    0.595681\n",
              "0    0.404319\n",
              "Name: Reached_on_time, dtype: float64"
            ]
          },
          "metadata": {
            "tags": []
          },
          "execution_count": 455
        }
      ]
    },
    {
      "cell_type": "code",
      "metadata": {
        "colab": {
          "base_uri": "https://localhost:8080/",
          "height": 280
        },
        "id": "0g96RW9RPCkk",
        "outputId": "24a8694f-83bd-4cb2-fdff-34be9b0fa06c"
      },
      "source": [
        "%matplotlib inline\n",
        "sns.countplot(x=y_train);"
      ],
      "execution_count": 456,
      "outputs": [
        {
          "output_type": "display_data",
          "data": {
            "image/png": "[encoded data removed]",
            "text/plain": [
              "<Figure size 432x288 with 1 Axes>"
            ]
          },
          "metadata": {
            "tags": [],
            "needs_background": "light"
          }
        }
      ]
    },
    {
      "cell_type": "markdown",
      "metadata": {
        "id": "8s_DPsErQW6d"
      },
      "source": [
        "(분류문제의 기준모델) 범주 1 (majority class)으로 모든 예측을 수행해 보겠습니다."
      ]
    },
    {
      "cell_type": "code",
      "metadata": {
        "id": "dkFTjz0cPEYM"
      },
      "source": [
        "# mode(): Return the highest frequency value in a Series.\n",
        "major = y_train.mode()[0]\n",
        "\n",
        "# 타겟 샘플 수 만큼 0이 담긴 리스트를 만듭니다. 기준모델로 예측\n",
        "y_pred = [major] * len(y_train)"
      ],
      "execution_count": 457,
      "outputs": []
    },
    {
      "cell_type": "markdown",
      "metadata": {
        "id": "ALPjCtcHQ5ts"
      },
      "source": [
        "분류에서는 회귀와 다른 평가지표(evaluation metrics)를 사용합니다.\n",
        "\n",
        "정확도(Accuracy) 는 분류문제에서 사용하는 평가지표입니다.\n",
        "\n",
        "이렇게 기준모델로 최다 비율 클래스를 사용할 경우 정확도를 구해 봅시다."
      ]
    },
    {
      "cell_type": "code",
      "metadata": {
        "colab": {
          "base_uri": "https://localhost:8080/"
        },
        "id": "5l8RV8ioQeHE",
        "outputId": "4f5c6214-b67d-452c-94d9-a97e6c73c57d"
      },
      "source": [
        "# 최다 클래스의 빈도가 정확도가 됩니다.\n",
        "from sklearn.metrics import accuracy_score\n",
        "print(\"training accuracy: \", accuracy_score(y_train, y_pred))"
      ],
      "execution_count": 458,
      "outputs": [
        {
          "output_type": "stream",
          "text": [
            "training accuracy:  0.595681204716579\n"
          ],
          "name": "stdout"
        }
      ]
    },
    {
      "cell_type": "code",
      "metadata": {
        "colab": {
          "base_uri": "https://localhost:8080/"
        },
        "id": "ODBwr-fbRGyQ",
        "outputId": "17af913c-b595-43a8-985f-ecdc9868aa74"
      },
      "source": [
        "# 검증세트 에서도 정확도를 확인해 볼 수 있습니다.\n",
        "y_val = val[target]\n",
        "y_pred = [major] * len(y_val)\n",
        "print(\"validation accuracy: \", accuracy_score(y_val, y_pred))"
      ],
      "execution_count": 459,
      "outputs": [
        {
          "output_type": "stream",
          "text": [
            "validation accuracy:  0.5960227272727273\n"
          ],
          "name": "stdout"
        }
      ]
    },
    {
      "cell_type": "markdown",
      "metadata": {
        "id": "ZiI5c0cASN1P"
      },
      "source": [
        "로지스틱회귀를 사용하면 타겟변수의 범주로 0과 1을 사용할 수 있으며 각 범주의 예측 확률값을 얻을 수 있습니다.\n",
        "\n",
        "그래서 결과적으로 관측치가 특정 클래스에 속할 확률값으로 계산이 됩니다. 분류문제에서는 확률값을 사용하여 분류를 하는데, 예를들어 확률값이 정해진 기준값 보다 크면 1 아니면 0 이라고 예측을 하게 됩니다."
      ]
    },
    {
      "cell_type": "markdown",
      "metadata": {
        "id": "SCD4f8KES78Z"
      },
      "source": [
        "## 로지스틱 회귀모델"
      ]
    },
    {
      "cell_type": "code",
      "metadata": {
        "colab": {
          "base_uri": "https://localhost:8080/"
        },
        "id": "LJLFdGpnEDo6",
        "outputId": "40a29426-7b9d-44f6-8e76-cbdf159c0da5"
      },
      "source": [
        "pip install --upgrade category_encoders"
      ],
      "execution_count": 460,
      "outputs": [
        {
          "output_type": "stream",
          "text": [
            "Requirement already up-to-date: category_encoders in /usr/local/lib/python3.7/dist-packages (2.2.2)\n",
            "Requirement already satisfied, skipping upgrade: scipy>=1.0.0 in /usr/local/lib/python3.7/dist-packages (from category_encoders) (1.4.1)\n",
            "Requirement already satisfied, skipping upgrade: statsmodels>=0.9.0 in /usr/local/lib/python3.7/dist-packages (from category_encoders) (0.10.2)\n",
            "Requirement already satisfied, skipping upgrade: numpy>=1.14.0 in /usr/local/lib/python3.7/dist-packages (from category_encoders) (1.19.5)\n",
            "Requirement already satisfied, skipping upgrade: patsy>=0.5.1 in /usr/local/lib/python3.7/dist-packages (from category_encoders) (0.5.1)\n",
            "Requirement already satisfied, skipping upgrade: pandas>=0.21.1 in /usr/local/lib/python3.7/dist-packages (from category_encoders) (1.1.5)\n",
            "Requirement already satisfied, skipping upgrade: scikit-learn>=0.20.0 in /usr/local/lib/python3.7/dist-packages (from category_encoders) (0.22.2.post1)\n",
            "Requirement already satisfied, skipping upgrade: six in /usr/local/lib/python3.7/dist-packages (from patsy>=0.5.1->category_encoders) (1.15.0)\n",
            "Requirement already satisfied, skipping upgrade: python-dateutil>=2.7.3 in /usr/local/lib/python3.7/dist-packages (from pandas>=0.21.1->category_encoders) (2.8.1)\n",
            "Requirement already satisfied, skipping upgrade: pytz>=2017.2 in /usr/local/lib/python3.7/dist-packages (from pandas>=0.21.1->category_encoders) (2018.9)\n",
            "Requirement already satisfied, skipping upgrade: joblib>=0.11 in /usr/local/lib/python3.7/dist-packages (from scikit-learn>=0.20.0->category_encoders) (1.0.1)\n"
          ],
          "name": "stdout"
        }
      ]
    },
    {
      "cell_type": "markdown",
      "metadata": {
        "id": "nxbGvJnGuNLZ"
      },
      "source": [
        "- 카테고리 데이터 처리를 위해 OneHotEncoder\n",
        "- 결측치(missing value) 처리를 위한 SimpleImputer\n",
        "- 특성들의 척도를 맞추기 위해 표준정규분포로 표준화하는(평균=0, 표준편차=1) StandardScaler"
      ]
    },
    {
      "cell_type": "code",
      "metadata": {
        "id": "-tTUa_Gmonyf",
        "colab": {
          "base_uri": "https://localhost:8080/"
        },
        "outputId": "7c4e4df3-b6df-4edc-ea1d-4ce3fa0d7945"
      },
      "source": [
        "from category_encoders import OneHotEncoder\n",
        "from sklearn.impute import SimpleImputer\n",
        "from sklearn.preprocessing import StandardScaler\n",
        "from sklearn.linear_model import LogisticRegression\n",
        "from sklearn.pipeline import make_pipeline\n",
        "\n",
        "enc = OneHotEncoder()\n",
        "imp_mean = SimpleImputer()\n",
        "scaler = StandardScaler()\n",
        "model_lr = LogisticRegression(n_jobs=-1)\n",
        "\n",
        "X_train_encoded = enc.fit_transform(X_train)\n",
        "X_train_imputed = imp_mean.fit_transform(X_train_encoded)\n",
        "X_train_scaled = scaler.fit_transform(X_train_imputed)\n",
        "model_lr.fit(X_train_scaled, y_train)\n",
        "\n",
        "X_val_encoded = enc.transform(X_val)\n",
        "X_val_imputed = imp_mean.transform(X_val_encoded)\n",
        "X_val_scaled = scaler.transform(X_val_imputed)\n",
        "\n",
        "# score method: Return the mean accuracy on the given test data and labels\n",
        "print('검증세트 정확도', model_lr.score(X_val_scaled, y_val))\n",
        "\n",
        "X_test_encoded = enc.transform(X_test)\n",
        "X_test_imputed = imp_mean.transform(X_test_encoded)\n",
        "X_test_scaled = scaler.transform(X_test_imputed)\n",
        "\n",
        "y_pred_lr = model_lr.predict(X_test_scaled)"
      ],
      "execution_count": 461,
      "outputs": [
        {
          "output_type": "stream",
          "text": [
            "/usr/local/lib/python3.7/dist-packages/category_encoders/utils.py:21: FutureWarning: is_categorical is deprecated and will be removed in a future version.  Use is_categorical_dtype instead\n",
            "  elif pd.api.types.is_categorical(cols):\n"
          ],
          "name": "stderr"
        },
        {
          "output_type": "stream",
          "text": [
            "검증세트 정확도 0.6647727272727273\n"
          ],
          "name": "stdout"
        }
      ]
    },
    {
      "cell_type": "code",
      "metadata": {
        "id": "Ehtgwh1OrPpY",
        "colab": {
          "base_uri": "https://localhost:8080/"
        },
        "outputId": "b416e52e-a11a-4697-ca86-7fafe8369ea6"
      },
      "source": [
        "print(\"test accuracy :\", accuracy_score(y_pred_lr, y_test))"
      ],
      "execution_count": 462,
      "outputs": [
        {
          "output_type": "stream",
          "text": [
            "test accuracy : 0.6463636363636364\n"
          ],
          "name": "stdout"
        }
      ]
    },
    {
      "cell_type": "markdown",
      "metadata": {
        "id": "sPC-qwXetpUe"
      },
      "source": [
        "모든 범주를 0으로 분류하는 기준모델보다 정확도가 높게 나왔습니다. 어느정도 학습이 잘 이루어진 것으로 보여집니다. 예측 결과를 보면 0과 1로 예측 한 것을 확인할 수 있습니다."
      ]
    },
    {
      "cell_type": "code",
      "metadata": {
        "id": "mthIskhrtrqR",
        "colab": {
          "base_uri": "https://localhost:8080/"
        },
        "outputId": "75b299d8-f214-4352-97fc-9fbec87ddf69"
      },
      "source": [
        "pred = model_lr.predict(X_val_scaled)\n",
        "pred"
      ],
      "execution_count": 463,
      "outputs": [
        {
          "output_type": "execute_result",
          "data": {
            "text/plain": [
              "array([1, 0, 1, ..., 0, 0, 1])"
            ]
          },
          "metadata": {
            "tags": []
          },
          "execution_count": 463
        }
      ]
    },
    {
      "cell_type": "code",
      "metadata": {
        "id": "OnOACBrwt0DG",
        "colab": {
          "base_uri": "https://localhost:8080/"
        },
        "outputId": "2eee7924-fb28-4da3-9c52-8b7c1ca2568d"
      },
      "source": [
        "print(features)\n",
        "\n",
        "print(model_lr.coef_)\n",
        "# 수정사항 : 소숫점자리 5번째까지 표시할 수 있도록"
      ],
      "execution_count": 464,
      "outputs": [
        {
          "output_type": "stream",
          "text": [
            "Index(['Warehouse_block', 'Mode_of_Shipment', 'Customer_care_calls',\n",
            "       'Customer_rating', 'Cost_of_the_Product', 'Prior_purchases',\n",
            "       'Product_importance', 'Gender', 'Discount_offered', 'Weight_in_gms'],\n",
            "      dtype='object')\n",
            "[[ 0.00846169 -0.00495767 -0.02651563  0.01037931  0.01034736  0.01617364\n",
            "  -0.00827062 -0.01229882 -0.10211651  0.04141382 -0.06743283 -0.0873922\n",
            "  -0.00558049 -0.02207181  0.04986924  0.00791783 -0.00791783 -1.64696129\n",
            "   1.26976412  0.892666   -0.32478709]]\n"
          ],
          "name": "stdout"
        }
      ]
    },
    {
      "cell_type": "markdown",
      "metadata": {
        "id": "19_2gqpAt5NO"
      },
      "source": [
        "계수가 양수인 경우 정시에 도착할 가능성을 높이고 음수인 경우 정시에 도착할 가능성을 낮추는 것으로 해석할 수 있습니다."
      ]
    },
    {
      "cell_type": "markdown",
      "metadata": {
        "id": "gpHslJdfh_1Q"
      },
      "source": [
        "평균은 0, 표준편차는 1로 표준화 되었습니다."
      ]
    },
    {
      "cell_type": "code",
      "metadata": {
        "colab": {
          "base_uri": "https://localhost:8080/"
        },
        "id": "BY5L6qafdVmY",
        "outputId": "45da46fc-1c44-4f24-b52a-40bae030ecaf"
      },
      "source": [
        "X_train_scaled.T[0].mean(), X_train_scaled.T[0].std()"
      ],
      "execution_count": 465,
      "outputs": [
        {
          "output_type": "execute_result",
          "data": {
            "text/plain": [
              "(-4.037748178775964e-17, 1.0)"
            ]
          },
          "metadata": {
            "tags": []
          },
          "execution_count": 465
        }
      ]
    },
    {
      "cell_type": "code",
      "metadata": {
        "id": "oskKIBt3uy_Q",
        "colab": {
          "base_uri": "https://localhost:8080/"
        },
        "outputId": "768821cf-6ee5-48a3-8e2d-77459c7aed77"
      },
      "source": [
        "# 파이프라인으로 코드를 훨씬 간결하게 구축하였습니다.\n",
        "pipe_lr = make_pipeline(\n",
        "    OneHotEncoder(), \n",
        "    SimpleImputer(), \n",
        "    StandardScaler(), \n",
        "    LogisticRegression(n_jobs=-1)\n",
        ")\n",
        "pipe_lr.fit(X_train, y_train)\n",
        "\n",
        "print('검증세트 정확도', pipe_lr.score(X_val, y_val))\n",
        "\n",
        "y_pred_lr2 = pipe_lr.predict(X_test)"
      ],
      "execution_count": 466,
      "outputs": [
        {
          "output_type": "stream",
          "text": [
            "/usr/local/lib/python3.7/dist-packages/category_encoders/utils.py:21: FutureWarning: is_categorical is deprecated and will be removed in a future version.  Use is_categorical_dtype instead\n",
            "  elif pd.api.types.is_categorical(cols):\n"
          ],
          "name": "stderr"
        },
        {
          "output_type": "stream",
          "text": [
            "검증세트 정확도 0.6647727272727273\n"
          ],
          "name": "stdout"
        }
      ]
    },
    {
      "cell_type": "code",
      "metadata": {
        "id": "djrXfL4dvCgt",
        "colab": {
          "base_uri": "https://localhost:8080/"
        },
        "outputId": "9585d3f1-a5c6-41a0-d596-7f8ce6e1f053"
      },
      "source": [
        "pipe_lr.named_steps"
      ],
      "execution_count": 467,
      "outputs": [
        {
          "output_type": "execute_result",
          "data": {
            "text/plain": [
              "{'logisticregression': LogisticRegression(C=1.0, class_weight=None, dual=False, fit_intercept=True,\n",
              "                    intercept_scaling=1, l1_ratio=None, max_iter=100,\n",
              "                    multi_class='auto', n_jobs=-1, penalty='l2',\n",
              "                    random_state=None, solver='lbfgs', tol=0.0001, verbose=0,\n",
              "                    warm_start=False),\n",
              " 'onehotencoder': OneHotEncoder(cols=['Warehouse_block', 'Mode_of_Shipment', 'Product_importance',\n",
              "                     'Gender', 'Discount_offered'],\n",
              "               drop_invariant=False, handle_missing='value',\n",
              "               handle_unknown='value', return_df=True, use_cat_names=False,\n",
              "               verbose=0),\n",
              " 'simpleimputer': SimpleImputer(add_indicator=False, copy=True, fill_value=None,\n",
              "               missing_values=nan, strategy='mean', verbose=0),\n",
              " 'standardscaler': StandardScaler(copy=True, with_mean=True, with_std=True)}"
            ]
          },
          "metadata": {
            "tags": []
          },
          "execution_count": 467
        }
      ]
    },
    {
      "cell_type": "code",
      "metadata": {
        "id": "MsDxaCO9vIFu",
        "colab": {
          "base_uri": "https://localhost:8080/",
          "height": 592
        },
        "outputId": "d875cca9-b53b-4d88-fd9d-1be23dc6b123"
      },
      "source": [
        "import matplotlib.pyplot as plt\n",
        "\n",
        "model_lr = pipe_lr.named_steps['logisticregression']\n",
        "enc = pipe_lr.named_steps['onehotencoder']\n",
        "encoded_columns = enc.transform(X_val).columns\n",
        "coefficients = pd.Series(model_lr.coef_[0], encoded_columns)\n",
        "plt.figure(figsize=(10,10))\n",
        "coefficients.sort_values().plot.barh();"
      ],
      "execution_count": 468,
      "outputs": [
        {
          "output_type": "display_data",
          "data": {
            "image/png": "[encoded data removed]",
            "text/plain": [
              "<Figure size 720x720 with 1 Axes>"
            ]
          },
          "metadata": {
            "tags": [],
            "needs_background": "light"
          }
        }
      ]
    },
    {
      "cell_type": "markdown",
      "metadata": {
        "id": "csfGTmUsQhro"
      },
      "source": [
        "그냥 원핫인코딩이 아닌, 순서형 인코딩으로 학습시켜 보겠습니다."
      ]
    },
    {
      "cell_type": "code",
      "metadata": {
        "id": "OIPufYHYwvkx",
        "colab": {
          "base_uri": "https://localhost:8080/"
        },
        "outputId": "fceb9661-c8a5-4ee8-f9b4-db41908ea4b1"
      },
      "source": [
        "from category_encoders import OrdinalEncoder\n",
        "\n",
        "pipe_lr_ord = make_pipeline(\n",
        "    OrdinalEncoder(), \n",
        "    SimpleImputer(),  \n",
        "    LogisticRegression(n_jobs=-1)\n",
        ")\n",
        "pipe_lr_ord.fit(X_train, y_train)\n",
        "\n",
        "print('검증세트 정확도', pipe_lr_ord.score(X_val, y_val))"
      ],
      "execution_count": 469,
      "outputs": [
        {
          "output_type": "stream",
          "text": [
            "검증세트 정확도 0.6494318181818182\n"
          ],
          "name": "stdout"
        }
      ]
    },
    {
      "cell_type": "code",
      "metadata": {
        "colab": {
          "base_uri": "https://localhost:8080/"
        },
        "id": "1jYDAXOXWHAO",
        "outputId": "4180df74-be6e-4466-cefc-c32eb9e62b81"
      },
      "source": [
        "print('테스트세트 정확도', pipe_lr_ord.score(X_test, y_test))"
      ],
      "execution_count": 470,
      "outputs": [
        {
          "output_type": "stream",
          "text": [
            "테스트세트 정확도 0.6354545454545455\n"
          ],
          "name": "stdout"
        }
      ]
    },
    {
      "cell_type": "markdown",
      "metadata": {
        "id": "Vy6hgD6Vxtuy"
      },
      "source": [
        "## DesicionTreeClassifier 를 사용해 결정트리를 구현"
      ]
    },
    {
      "cell_type": "markdown",
      "metadata": {
        "id": "c7Q7ZrDyxw2c"
      },
      "source": [
        "파이프라인을 사용하면 위에서 본 코드에서 단지 분류기만 바꾸어 주면 됩니다! 그리고 결정트리에서는 StandardScaler는 도움이 되지 않기 때문에 제외하겠습니다."
      ]
    },
    {
      "cell_type": "code",
      "metadata": {
        "id": "65RzUBrCx2Nm",
        "colab": {
          "base_uri": "https://localhost:8080/"
        },
        "outputId": "647e78a4-a0aa-49a1-9bb0-d41550a58fef"
      },
      "source": [
        "from sklearn.tree import DecisionTreeClassifier\n",
        "\n",
        "pipe_dt = make_pipeline(\n",
        "    OneHotEncoder(use_cat_names=True), \n",
        "    SimpleImputer(), \n",
        "    DecisionTreeClassifier(random_state=2, criterion='entropy')\n",
        ")\n",
        "\n",
        "pipe_dt.fit(X_train, y_train)\n",
        "print('훈련 정확도: ', pipe_dt.score(X_train, y_train))\n",
        "print('검증 정확도: ', pipe_dt.score(X_val, y_val))"
      ],
      "execution_count": 471,
      "outputs": [
        {
          "output_type": "stream",
          "text": [
            "/usr/local/lib/python3.7/dist-packages/category_encoders/utils.py:21: FutureWarning: is_categorical is deprecated and will be removed in a future version.  Use is_categorical_dtype instead\n",
            "  elif pd.api.types.is_categorical(cols):\n"
          ],
          "name": "stderr"
        },
        {
          "output_type": "stream",
          "text": [
            "훈련 정확도:  1.0\n",
            "검증 정확도:  0.6357954545454545\n"
          ],
          "name": "stdout"
        }
      ]
    },
    {
      "cell_type": "code",
      "metadata": {
        "id": "hzeFxkvXx90H",
        "colab": {
          "base_uri": "https://localhost:8080/"
        },
        "outputId": "1419c0df-33bc-42dd-ab5e-a40530d1a866"
      },
      "source": [
        "y_val.value_counts(normalize=True)"
      ],
      "execution_count": 472,
      "outputs": [
        {
          "output_type": "execute_result",
          "data": {
            "text/plain": [
              "1    0.596023\n",
              "0    0.403977\n",
              "Name: Reached_on_time, dtype: float64"
            ]
          },
          "metadata": {
            "tags": []
          },
          "execution_count": 472
        }
      ]
    },
    {
      "cell_type": "markdown",
      "metadata": {
        "id": "RTuCD_YOyEVj"
      },
      "source": [
        "학습데이터는 99% 이상 맞추면서 검증세트의 정확도는 다수범주(0)의 비율과 비슷하게 나오는 것을 확인할 수 있습니다.\n",
        "확실한 과적합임을 확인할 수 있습니다. 대부분 1로 예측한 것 같습니다. 다수 범주로 예측하는 모델이 기준모델이라고 보면, 기준모델과 동일한 성능이 나오므로 학습이 잘 되었다고 판단할 수 없겠습니다."
      ]
    },
    {
      "cell_type": "code",
      "metadata": {
        "id": "T_itW0zHyQyf",
        "colab": {
          "base_uri": "https://localhost:8080/",
          "height": 713
        },
        "outputId": "370a5901-f7a7-42d7-df34-11233115c112"
      },
      "source": [
        "# graphviz 설치방법: conda install -c conda-forge python-graphviz\n",
        "# depth 제한을 3으로 두고 결정트리를 그려보았습니다.\n",
        "import graphviz\n",
        "from sklearn.tree import export_graphviz\n",
        "\n",
        "model_dt = pipe_dt.named_steps['decisiontreeclassifier']\n",
        "enc = pipe_dt.named_steps['onehotencoder']\n",
        "encoded_columns = enc.transform(X_val).columns\n",
        "\n",
        "dot_data = export_graphviz(model_dt\n",
        "                          , max_depth=3\n",
        "                          , feature_names=encoded_columns\n",
        "                          , class_names=['no', 'yes']\n",
        "                          , filled=True\n",
        "                          , proportion=True)\n",
        "\n",
        "\n",
        "display(graphviz.Source(dot_data))"
      ],
      "execution_count": 473,
      "outputs": [
        {
          "output_type": "display_data",
          "data": {
            "text/plain": [
              "<graphviz.files.Source at 0x7f3cf9faefd0>"
            ],
            "image/svg+xml": "<?xml version=\"1.0\" encoding=\"UTF-8\" standalone=\"no\"?>\n<!DOCTYPE svg PUBLIC \"-//W3C//DTD SVG 1.1//EN\"\n \"http://www.w3.org/Graphics/SVG/1.1/DTD/svg11.dtd\">\n<!-- Generated by graphviz version 2.40.1 (20161225.0304)\n -->\n<!-- Title: Tree Pages: 1 -->\n<svg width=\"726pt\" height=\"520pt\"\n viewBox=\"0.00 0.00 726.00 520.00\" xmlns=\"http://www.w3.org/2000/svg\" xmlns:xlink=\"http://www.w3.org/1999/xlink\">\n<g id=\"graph0\" class=\"graph\" transform=\"scale(1 1) rotate(0) translate(4 516)\">\n<title>Tree</title>\n<polygon fill=\"#ffffff\" stroke=\"transparent\" points=\"-4,4 -4,-516 722,-516 722,4 -4,4\"/>\n<!-- 0 -->\n<g id=\"node1\" class=\"node\">\n<title>0</title>\n<polygon fill=\"#bfe0f7\" stroke=\"#000000\" points=\"402,-512 201,-512 201,-429 402,-429 402,-512\"/>\n<text text-anchor=\"middle\" x=\"301.5\" y=\"-496.8\" font-family=\"Times,serif\" font-size=\"14.00\" fill=\"#000000\">Discount_offered_LESS &lt;= 0.5</text>\n<text text-anchor=\"middle\" x=\"301.5\" y=\"-481.8\" font-family=\"Times,serif\" font-size=\"14.00\" fill=\"#000000\">entropy = 0.973</text>\n<text text-anchor=\"middle\" x=\"301.5\" y=\"-466.8\" font-family=\"Times,serif\" font-size=\"14.00\" fill=\"#000000\">samples = 100.0%</text>\n<text text-anchor=\"middle\" x=\"301.5\" y=\"-451.8\" font-family=\"Times,serif\" font-size=\"14.00\" fill=\"#000000\">value = [0.404, 0.596]</text>\n<text text-anchor=\"middle\" x=\"301.5\" y=\"-436.8\" font-family=\"Times,serif\" font-size=\"14.00\" fill=\"#000000\">class = yes</text>\n</g>\n<!-- 1 -->\n<g id=\"node2\" class=\"node\">\n<title>1</title>\n<polygon fill=\"#399de5\" stroke=\"#000000\" points=\"279,-385.5 162,-385.5 162,-317.5 279,-317.5 279,-385.5\"/>\n<text text-anchor=\"middle\" x=\"220.5\" y=\"-370.3\" font-family=\"Times,serif\" font-size=\"14.00\" fill=\"#000000\">entropy = 0.0</text>\n<text text-anchor=\"middle\" x=\"220.5\" y=\"-355.3\" font-family=\"Times,serif\" font-size=\"14.00\" fill=\"#000000\">samples = 22.5%</text>\n<text text-anchor=\"middle\" x=\"220.5\" y=\"-340.3\" font-family=\"Times,serif\" font-size=\"14.00\" fill=\"#000000\">value = [0.0, 1.0]</text>\n<text text-anchor=\"middle\" x=\"220.5\" y=\"-325.3\" font-family=\"Times,serif\" font-size=\"14.00\" fill=\"#000000\">class = yes</text>\n</g>\n<!-- 0&#45;&gt;1 -->\n<g id=\"edge1\" class=\"edge\">\n<title>0&#45;&gt;1</title>\n<path fill=\"none\" stroke=\"#000000\" d=\"M273.1701,-428.8796C265.5357,-417.6636 257.2652,-405.5131 249.5901,-394.2372\"/>\n<polygon fill=\"#000000\" stroke=\"#000000\" points=\"252.3775,-392.1122 243.8572,-385.8149 246.5908,-396.0511 252.3775,-392.1122\"/>\n<text text-anchor=\"middle\" x=\"239.1907\" y=\"-406.6755\" font-family=\"Times,serif\" font-size=\"14.00\" fill=\"#000000\">True</text>\n</g>\n<!-- 2 -->\n<g id=\"node3\" class=\"node\">\n<title>2</title>\n<polygon fill=\"#fdf5ef\" stroke=\"#000000\" points=\"470,-393 297,-393 297,-310 470,-310 470,-393\"/>\n<text text-anchor=\"middle\" x=\"383.5\" y=\"-377.8\" font-family=\"Times,serif\" font-size=\"14.00\" fill=\"#000000\">Weight_in_gms &lt;= 4014.5</text>\n<text text-anchor=\"middle\" x=\"383.5\" y=\"-362.8\" font-family=\"Times,serif\" font-size=\"14.00\" fill=\"#000000\">entropy = 0.999</text>\n<text text-anchor=\"middle\" x=\"383.5\" y=\"-347.8\" font-family=\"Times,serif\" font-size=\"14.00\" fill=\"#000000\">samples = 77.5%</text>\n<text text-anchor=\"middle\" x=\"383.5\" y=\"-332.8\" font-family=\"Times,serif\" font-size=\"14.00\" fill=\"#000000\">value = [0.522, 0.478]</text>\n<text text-anchor=\"middle\" x=\"383.5\" y=\"-317.8\" font-family=\"Times,serif\" font-size=\"14.00\" fill=\"#000000\">class = no</text>\n</g>\n<!-- 0&#45;&gt;2 -->\n<g id=\"edge2\" class=\"edge\">\n<title>0&#45;&gt;2</title>\n<path fill=\"none\" stroke=\"#000000\" d=\"M330.1796,-428.8796C336.2615,-420.0534 342.7422,-410.6485 349.0141,-401.5466\"/>\n<polygon fill=\"#000000\" stroke=\"#000000\" points=\"351.9059,-403.5184 354.698,-393.2981 346.1418,-399.5465 351.9059,-403.5184\"/>\n<text text-anchor=\"middle\" x=\"359.2239\" y=\"-414.185\" font-family=\"Times,serif\" font-size=\"14.00\" fill=\"#000000\">False</text>\n</g>\n<!-- 3 -->\n<g id=\"node4\" class=\"node\">\n<title>3</title>\n<polygon fill=\"#bfdff7\" stroke=\"#000000\" points=\"357,-274 206,-274 206,-191 357,-191 357,-274\"/>\n<text text-anchor=\"middle\" x=\"281.5\" y=\"-258.8\" font-family=\"Times,serif\" font-size=\"14.00\" fill=\"#000000\">Prior_purchases &lt;= 3.5</text>\n<text text-anchor=\"middle\" x=\"281.5\" y=\"-243.8\" font-family=\"Times,serif\" font-size=\"14.00\" fill=\"#000000\">entropy = 0.973</text>\n<text text-anchor=\"middle\" x=\"281.5\" y=\"-228.8\" font-family=\"Times,serif\" font-size=\"14.00\" fill=\"#000000\">samples = 23.3%</text>\n<text text-anchor=\"middle\" x=\"281.5\" y=\"-213.8\" font-family=\"Times,serif\" font-size=\"14.00\" fill=\"#000000\">value = [0.403, 0.597]</text>\n<text text-anchor=\"middle\" x=\"281.5\" y=\"-198.8\" font-family=\"Times,serif\" font-size=\"14.00\" fill=\"#000000\">class = yes</text>\n</g>\n<!-- 2&#45;&gt;3 -->\n<g id=\"edge3\" class=\"edge\">\n<title>2&#45;&gt;3</title>\n<path fill=\"none\" stroke=\"#000000\" d=\"M347.8253,-309.8796C340.1057,-300.8733 331.8695,-291.2644 323.9197,-281.9897\"/>\n<polygon fill=\"#000000\" stroke=\"#000000\" points=\"326.4923,-279.6129 317.3269,-274.2981 321.1775,-284.1684 326.4923,-279.6129\"/>\n</g>\n<!-- 840 -->\n<g id=\"node11\" class=\"node\">\n<title>840</title>\n<polygon fill=\"#f8dfcd\" stroke=\"#000000\" points=\"571,-274 398,-274 398,-191 571,-191 571,-274\"/>\n<text text-anchor=\"middle\" x=\"484.5\" y=\"-258.8\" font-family=\"Times,serif\" font-size=\"14.00\" fill=\"#000000\">Weight_in_gms &lt;= 5998.5</text>\n<text text-anchor=\"middle\" x=\"484.5\" y=\"-243.8\" font-family=\"Times,serif\" font-size=\"14.00\" fill=\"#000000\">entropy = 0.985</text>\n<text text-anchor=\"middle\" x=\"484.5\" y=\"-228.8\" font-family=\"Times,serif\" font-size=\"14.00\" fill=\"#000000\">samples = 54.2%</text>\n<text text-anchor=\"middle\" x=\"484.5\" y=\"-213.8\" font-family=\"Times,serif\" font-size=\"14.00\" fill=\"#000000\">value = [0.573, 0.427]</text>\n<text text-anchor=\"middle\" x=\"484.5\" y=\"-198.8\" font-family=\"Times,serif\" font-size=\"14.00\" fill=\"#000000\">class = no</text>\n</g>\n<!-- 2&#45;&gt;840 -->\n<g id=\"edge10\" class=\"edge\">\n<title>2&#45;&gt;840</title>\n<path fill=\"none\" stroke=\"#000000\" d=\"M418.8249,-309.8796C426.4689,-300.8733 434.6243,-291.2644 442.4961,-281.9897\"/>\n<polygon fill=\"#000000\" stroke=\"#000000\" points=\"445.2218,-284.1871 449.0243,-274.2981 439.8849,-279.6574 445.2218,-284.1871\"/>\n</g>\n<!-- 4 -->\n<g id=\"node5\" class=\"node\">\n<title>4</title>\n<polygon fill=\"#4ca7e8\" stroke=\"#000000\" points=\"177,-155 0,-155 0,-72 177,-72 177,-155\"/>\n<text text-anchor=\"middle\" x=\"88.5\" y=\"-139.8\" font-family=\"Times,serif\" font-size=\"14.00\" fill=\"#000000\">Customer_care_calls &lt;= 5.5</text>\n<text text-anchor=\"middle\" x=\"88.5\" y=\"-124.8\" font-family=\"Times,serif\" font-size=\"14.00\" fill=\"#000000\">entropy = 0.433</text>\n<text text-anchor=\"middle\" x=\"88.5\" y=\"-109.8\" font-family=\"Times,serif\" font-size=\"14.00\" fill=\"#000000\">samples = 5.1%</text>\n<text text-anchor=\"middle\" x=\"88.5\" y=\"-94.8\" font-family=\"Times,serif\" font-size=\"14.00\" fill=\"#000000\">value = [0.089, 0.911]</text>\n<text text-anchor=\"middle\" x=\"88.5\" y=\"-79.8\" font-family=\"Times,serif\" font-size=\"14.00\" fill=\"#000000\">class = yes</text>\n</g>\n<!-- 3&#45;&gt;4 -->\n<g id=\"edge4\" class=\"edge\">\n<title>3&#45;&gt;4</title>\n<path fill=\"none\" stroke=\"#000000\" d=\"M213.998,-190.8796C198.1308,-181.0962 181.1106,-170.6019 164.8844,-160.5971\"/>\n<polygon fill=\"#000000\" stroke=\"#000000\" points=\"166.3129,-157.3661 155.9639,-155.0969 162.639,-163.3245 166.3129,-157.3661\"/>\n</g>\n<!-- 61 -->\n<g id=\"node8\" class=\"node\">\n<title>61</title>\n<polygon fill=\"#f8fcfe\" stroke=\"#000000\" points=\"368,-155 195,-155 195,-72 368,-72 368,-155\"/>\n<text text-anchor=\"middle\" x=\"281.5\" y=\"-139.8\" font-family=\"Times,serif\" font-size=\"14.00\" fill=\"#000000\">Weight_in_gms &lt;= 1990.5</text>\n<text text-anchor=\"middle\" x=\"281.5\" y=\"-124.8\" font-family=\"Times,serif\" font-size=\"14.00\" fill=\"#000000\">entropy = 1.0</text>\n<text text-anchor=\"middle\" x=\"281.5\" y=\"-109.8\" font-family=\"Times,serif\" font-size=\"14.00\" fill=\"#000000\">samples = 18.2%</text>\n<text text-anchor=\"middle\" x=\"281.5\" y=\"-94.8\" font-family=\"Times,serif\" font-size=\"14.00\" fill=\"#000000\">value = [0.491, 0.509]</text>\n<text text-anchor=\"middle\" x=\"281.5\" y=\"-79.8\" font-family=\"Times,serif\" font-size=\"14.00\" fill=\"#000000\">class = yes</text>\n</g>\n<!-- 3&#45;&gt;61 -->\n<g id=\"edge7\" class=\"edge\">\n<title>3&#45;&gt;61</title>\n<path fill=\"none\" stroke=\"#000000\" d=\"M281.5,-190.8796C281.5,-182.6838 281.5,-173.9891 281.5,-165.5013\"/>\n<polygon fill=\"#000000\" stroke=\"#000000\" points=\"285.0001,-165.298 281.5,-155.2981 278.0001,-165.2981 285.0001,-165.298\"/>\n</g>\n<!-- 5 -->\n<g id=\"node6\" class=\"node\">\n<title>5</title>\n<polygon fill=\"#c0c0c0\" stroke=\"#000000\" points=\"92.5,-36 38.5,-36 38.5,0 92.5,0 92.5,-36\"/>\n<text text-anchor=\"middle\" x=\"65.5\" y=\"-14.3\" font-family=\"Times,serif\" font-size=\"14.00\" fill=\"#000000\">(...)</text>\n</g>\n<!-- 4&#45;&gt;5 -->\n<g id=\"edge5\" class=\"edge\">\n<title>4&#45;&gt;5</title>\n<path fill=\"none\" stroke=\"#000000\" d=\"M78.4788,-71.8901C76.3913,-63.2227 74.2378,-54.2808 72.2994,-46.2325\"/>\n<polygon fill=\"#000000\" stroke=\"#000000\" points=\"75.6431,-45.1676 69.8989,-36.2651 68.8377,-46.8067 75.6431,-45.1676\"/>\n</g>\n<!-- 56 -->\n<g id=\"node7\" class=\"node\">\n<title>56</title>\n<polygon fill=\"#c0c0c0\" stroke=\"#000000\" points=\"164.5,-36 110.5,-36 110.5,0 164.5,0 164.5,-36\"/>\n<text text-anchor=\"middle\" x=\"137.5\" y=\"-14.3\" font-family=\"Times,serif\" font-size=\"14.00\" fill=\"#000000\">(...)</text>\n</g>\n<!-- 4&#45;&gt;56 -->\n<g id=\"edge6\" class=\"edge\">\n<title>4&#45;&gt;56</title>\n<path fill=\"none\" stroke=\"#000000\" d=\"M109.8496,-71.8901C114.4466,-62.9305 119.1942,-53.6777 123.4302,-45.4217\"/>\n<polygon fill=\"#000000\" stroke=\"#000000\" points=\"126.6773,-46.7601 128.1284,-36.2651 120.4492,-43.5645 126.6773,-46.7601\"/>\n</g>\n<!-- 62 -->\n<g id=\"node9\" class=\"node\">\n<title>62</title>\n<polygon fill=\"#c0c0c0\" stroke=\"#000000\" points=\"260.5,-36 206.5,-36 206.5,0 260.5,0 260.5,-36\"/>\n<text text-anchor=\"middle\" x=\"233.5\" y=\"-14.3\" font-family=\"Times,serif\" font-size=\"14.00\" fill=\"#000000\">(...)</text>\n</g>\n<!-- 61&#45;&gt;62 -->\n<g id=\"edge8\" class=\"edge\">\n<title>61&#45;&gt;62</title>\n<path fill=\"none\" stroke=\"#000000\" d=\"M260.5861,-71.8901C256.0829,-62.9305 251.4322,-53.6777 247.2826,-45.4217\"/>\n<polygon fill=\"#000000\" stroke=\"#000000\" points=\"250.2985,-43.6282 242.6804,-36.2651 244.044,-46.7718 250.2985,-43.6282\"/>\n</g>\n<!-- 827 -->\n<g id=\"node10\" class=\"node\">\n<title>827</title>\n<polygon fill=\"#c0c0c0\" stroke=\"#000000\" points=\"332.5,-36 278.5,-36 278.5,0 332.5,0 332.5,-36\"/>\n<text text-anchor=\"middle\" x=\"305.5\" y=\"-14.3\" font-family=\"Times,serif\" font-size=\"14.00\" fill=\"#000000\">(...)</text>\n</g>\n<!-- 61&#45;&gt;827 -->\n<g id=\"edge9\" class=\"edge\">\n<title>61&#45;&gt;827</title>\n<path fill=\"none\" stroke=\"#000000\" d=\"M291.9569,-71.8901C294.1351,-63.2227 296.3823,-54.2808 298.4049,-46.2325\"/>\n<polygon fill=\"#000000\" stroke=\"#000000\" points=\"301.8669,-46.8166 300.9098,-36.2651 295.078,-45.1105 301.8669,-46.8166\"/>\n</g>\n<!-- 841 -->\n<g id=\"node12\" class=\"node\">\n<title>841</title>\n<polygon fill=\"#f8dfcc\" stroke=\"#000000\" points=\"583,-155 386,-155 386,-72 583,-72 583,-155\"/>\n<text text-anchor=\"middle\" x=\"484.5\" y=\"-139.8\" font-family=\"Times,serif\" font-size=\"14.00\" fill=\"#000000\">Cost_of_the_Product &lt;= 214.5</text>\n<text text-anchor=\"middle\" x=\"484.5\" y=\"-124.8\" font-family=\"Times,serif\" font-size=\"14.00\" fill=\"#000000\">entropy = 0.984</text>\n<text text-anchor=\"middle\" x=\"484.5\" y=\"-109.8\" font-family=\"Times,serif\" font-size=\"14.00\" fill=\"#000000\">samples = 54.1%</text>\n<text text-anchor=\"middle\" x=\"484.5\" y=\"-94.8\" font-family=\"Times,serif\" font-size=\"14.00\" fill=\"#000000\">value = [0.573, 0.427]</text>\n<text text-anchor=\"middle\" x=\"484.5\" y=\"-79.8\" font-family=\"Times,serif\" font-size=\"14.00\" fill=\"#000000\">class = no</text>\n</g>\n<!-- 840&#45;&gt;841 -->\n<g id=\"edge11\" class=\"edge\">\n<title>840&#45;&gt;841</title>\n<path fill=\"none\" stroke=\"#000000\" d=\"M484.5,-190.8796C484.5,-182.6838 484.5,-173.9891 484.5,-165.5013\"/>\n<polygon fill=\"#000000\" stroke=\"#000000\" points=\"488.0001,-165.298 484.5,-155.2981 481.0001,-165.2981 488.0001,-165.298\"/>\n</g>\n<!-- 3198 -->\n<g id=\"node15\" class=\"node\">\n<title>3198</title>\n<polygon fill=\"#399de5\" stroke=\"#000000\" points=\"718,-147.5 601,-147.5 601,-79.5 718,-79.5 718,-147.5\"/>\n<text text-anchor=\"middle\" x=\"659.5\" y=\"-132.3\" font-family=\"Times,serif\" font-size=\"14.00\" fill=\"#000000\">entropy = 0.0</text>\n<text text-anchor=\"middle\" x=\"659.5\" y=\"-117.3\" font-family=\"Times,serif\" font-size=\"14.00\" fill=\"#000000\">samples = 0.1%</text>\n<text text-anchor=\"middle\" x=\"659.5\" y=\"-102.3\" font-family=\"Times,serif\" font-size=\"14.00\" fill=\"#000000\">value = [0.0, 1.0]</text>\n<text text-anchor=\"middle\" x=\"659.5\" y=\"-87.3\" font-family=\"Times,serif\" font-size=\"14.00\" fill=\"#000000\">class = yes</text>\n</g>\n<!-- 840&#45;&gt;3198 -->\n<g id=\"edge14\" class=\"edge\">\n<title>840&#45;&gt;3198</title>\n<path fill=\"none\" stroke=\"#000000\" d=\"M545.7065,-190.8796C563.579,-178.7263 583.0649,-165.4759 600.7798,-153.4297\"/>\n<polygon fill=\"#000000\" stroke=\"#000000\" points=\"603.0179,-156.1404 609.3191,-147.623 599.0817,-150.3519 603.0179,-156.1404\"/>\n</g>\n<!-- 842 -->\n<g id=\"node13\" class=\"node\">\n<title>842</title>\n<polygon fill=\"#c0c0c0\" stroke=\"#000000\" points=\"475.5,-36 421.5,-36 421.5,0 475.5,0 475.5,-36\"/>\n<text text-anchor=\"middle\" x=\"448.5\" y=\"-14.3\" font-family=\"Times,serif\" font-size=\"14.00\" fill=\"#000000\">(...)</text>\n</g>\n<!-- 841&#45;&gt;842 -->\n<g id=\"edge12\" class=\"edge\">\n<title>841&#45;&gt;842</title>\n<path fill=\"none\" stroke=\"#000000\" d=\"M468.8146,-71.8901C465.4739,-63.0279 462.025,-53.8788 458.9386,-45.6913\"/>\n<polygon fill=\"#000000\" stroke=\"#000000\" points=\"462.1877,-44.3878 455.3853,-36.2651 455.6376,-46.8569 462.1877,-44.3878\"/>\n</g>\n<!-- 2169 -->\n<g id=\"node14\" class=\"node\">\n<title>2169</title>\n<polygon fill=\"#c0c0c0\" stroke=\"#000000\" points=\"547.5,-36 493.5,-36 493.5,0 547.5,0 547.5,-36\"/>\n<text text-anchor=\"middle\" x=\"520.5\" y=\"-14.3\" font-family=\"Times,serif\" font-size=\"14.00\" fill=\"#000000\">(...)</text>\n</g>\n<!-- 841&#45;&gt;2169 -->\n<g id=\"edge13\" class=\"edge\">\n<title>841&#45;&gt;2169</title>\n<path fill=\"none\" stroke=\"#000000\" d=\"M500.1854,-71.8901C503.5261,-63.0279 506.975,-53.8788 510.0614,-45.6913\"/>\n<polygon fill=\"#000000\" stroke=\"#000000\" points=\"513.3624,-46.8569 513.6147,-36.2651 506.8123,-44.3878 513.3624,-46.8569\"/>\n</g>\n</g>\n</svg>\n"
          },
          "metadata": {
            "tags": []
          }
        }
      ]
    },
    {
      "cell_type": "markdown",
      "metadata": {
        "id": "0ain0OPQzl9r"
      },
      "source": [
        "#### 과적합을 해결해 봅시다.\n",
        "복잡한 트리는 과적합 가능성을 높이기 때문에 복잡도를 낮추어 일반화를 유도합니다.\n",
        "\n",
        "다음은 트리의 복잡도를 줄이기 위해 자주 사용하는 하이퍼파라미터들입니다.\n",
        "- min_samples_split\n",
        "- min_samples_leaf\n",
        "- max_depth"
      ]
    },
    {
      "cell_type": "markdown",
      "metadata": {
        "id": "FnAI97l5zssD"
      },
      "source": [
        "min_samples_leaf를 사용하하면 말단 노드(external node)에 최소한 존재해야 하는 샘플들의 수를 정해줄 수 있습니다.\n",
        "\n",
        "과적합을 줄이는지 확인해 봅시다."
      ]
    },
    {
      "cell_type": "code",
      "metadata": {
        "id": "TlKZN5wcy1y1",
        "colab": {
          "base_uri": "https://localhost:8080/"
        },
        "outputId": "7a02398f-2c62-4e33-ed37-0455610092b2"
      },
      "source": [
        "pipe_dt_split = make_pipeline(\n",
        "    OneHotEncoder(use_cat_names=True), \n",
        "    SimpleImputer(), \n",
        "    DecisionTreeClassifier(min_samples_leaf=10, random_state=2)\n",
        ")\n",
        "\n",
        "pipe_dt_split.fit(X_train, y_train)\n",
        "print('훈련 정확도', pipe_dt_split.score(X_train, y_train))\n",
        "print('검증 정확도', pipe_dt_split.score(X_val, y_val))"
      ],
      "execution_count": 474,
      "outputs": [
        {
          "output_type": "stream",
          "text": [
            "/usr/local/lib/python3.7/dist-packages/category_encoders/utils.py:21: FutureWarning: is_categorical is deprecated and will be removed in a future version.  Use is_categorical_dtype instead\n",
            "  elif pd.api.types.is_categorical(cols):\n"
          ],
          "name": "stderr"
        },
        {
          "output_type": "stream",
          "text": [
            "훈련 정확도 0.7995453899701662\n",
            "검증 정확도 0.6426136363636363\n"
          ],
          "name": "stdout"
        }
      ]
    },
    {
      "cell_type": "markdown",
      "metadata": {
        "id": "tUBCTl5rz4Fk"
      },
      "source": [
        "max_depth를 제한해봅시다."
      ]
    },
    {
      "cell_type": "code",
      "metadata": {
        "id": "zNosqnKmz6Xz",
        "colab": {
          "base_uri": "https://localhost:8080/"
        },
        "outputId": "8f433333-1843-468c-e16d-dd4a4ac9ca6e"
      },
      "source": [
        "pipe_dt_depth = make_pipeline(\n",
        "    OneHotEncoder(use_cat_names=True), \n",
        "    SimpleImputer(), \n",
        "    DecisionTreeClassifier(max_depth=6, random_state=2)\n",
        ")\n",
        "\n",
        "pipe_dt_depth.fit(X_train, y_train)\n",
        "print('훈련 정확도', pipe_dt_depth.score(X_train, y_train))\n",
        "print('검증 정확도', pipe_dt_depth.score(X_val, y_val))"
      ],
      "execution_count": 475,
      "outputs": [
        {
          "output_type": "stream",
          "text": [
            "훈련 정확도 0.6917175735189658\n",
            "검증 정확도 0.6823863636363636\n"
          ],
          "name": "stdout"
        },
        {
          "output_type": "stream",
          "text": [
            "/usr/local/lib/python3.7/dist-packages/category_encoders/utils.py:21: FutureWarning: is_categorical is deprecated and will be removed in a future version.  Use is_categorical_dtype instead\n",
            "  elif pd.api.types.is_categorical(cols):\n"
          ],
          "name": "stderr"
        }
      ]
    },
    {
      "cell_type": "markdown",
      "metadata": {
        "id": "Ozc0u3cU3gjZ"
      },
      "source": [
        "이번에는 결정트리에서 확인 가능한 특성중요도(feature importance)에 대해 알아보겠습니다.\n",
        "\n",
        "\n",
        "선형모델에서는 특성과 타겟의 관계를 확인하기 위해 회귀 계수(coefficients)를 살펴보았습니다. 하지만 결정트리에서는 대신 특성중요도를 확인할 수 있습니다. 회귀계수와 달리 특성중요도는 항상 양수값을 가집니다. 이 값을 통해 특성이 얼마나 일찍 그리고 자주 분기에 사용되는지 결정됩니다."
      ]
    },
    {
      "cell_type": "code",
      "metadata": {
        "id": "yHymlQV-0UOn",
        "colab": {
          "base_uri": "https://localhost:8080/",
          "height": 320
        },
        "outputId": "c110f1b7-86b6-4511-8dd8-90069a6768f8"
      },
      "source": [
        "model_dt_depth = pipe_dt_depth.named_steps['decisiontreeclassifier']\n",
        "\n",
        "importances = pd.Series(model_dt_depth.feature_importances_, encoded_columns)\n",
        "plt.figure(figsize=(5,5))\n",
        "importances.sort_values().plot.barh();"
      ],
      "execution_count": 476,
      "outputs": [
        {
          "output_type": "display_data",
          "data": {
            "image/png": "[encoded data removed]",
            "text/plain": [
              "<Figure size 360x360 with 1 Axes>"
            ]
          },
          "metadata": {
            "tags": [],
            "needs_background": "light"
          }
        }
      ]
    },
    {
      "cell_type": "markdown",
      "metadata": {
        "id": "t58EK37YKTAr"
      },
      "source": [
        "## 랜덤포레스트 적용"
      ]
    },
    {
      "cell_type": "markdown",
      "metadata": {
        "id": "mTZkqVJzRrMg"
      },
      "source": [
        "분류문제일 경우 다수결로 가장 많은 모델들이 선택한 범주로 예측합니다."
      ]
    },
    {
      "cell_type": "markdown",
      "metadata": {
        "id": "wwxUASv1XjUo"
      },
      "source": [
        "랜덤포레스트는 앙상블(Ensemble) 방법입니다.\n",
        "- 앙상블 방법은 한 종류의 데이터로 여러 머신러닝 학습모델(weak base learner, 기본모델)을 만들어 그 모델들의 예측결과를 다수결이나 평균을 내어 예측하는 방법을 말합니다. 이론적으로 기본모델 몇가지 조건을 충족하는 여러 종류의 모델을 사용할 수 있습니다.\n",
        "\n",
        "- 랜덤포레스트는 결정트리를 기본모델로 사용하는 앙상블 방법이라 할 수 있습니다.\n",
        "\n",
        "- 결정트리들은 독립적으로 만들어지며 각각 랜덤으로 예측하는 성능보다 좋을 경우 랜덤포레스트는 결정트리보다 성능이 좋습니다."
      ]
    },
    {
      "cell_type": "markdown",
      "metadata": {
        "id": "xlp9ky9WYJHJ"
      },
      "source": [
        "부트스트랩(Bootstrap) 샘플링\n",
        "\n",
        "앙상블에 사용하는 작은 모델들은 부트스트래핑(bootstraping)이라는 샘플링과정으로 얻은 부트스트랩세트를 사용해 학습을 합니다. 즉 원본 데이터에서 샘플링을 하는데 복원추출을 한다는 것인데 복원추출은 샘플을 뽑아 값을 기록하고 제자리에 돌려놓는 것을 말합니다.\n",
        "\n",
        "이렇게 샘플링을 특정한 수 만큼 반복하면 하나의 부트스트랩세트가 완성됩니다. 복원추출이기 때문에 부트스트랩세트에는 같은 샘플이 반복될 수 있습니다."
      ]
    },
    {
      "cell_type": "markdown",
      "metadata": {
        "id": "d-FXo_qkYNCQ"
      },
      "source": [
        "랜덤포레스트를 적용해보겠습니다.\n",
        "(원핫인코더)"
      ]
    },
    {
      "cell_type": "code",
      "metadata": {
        "id": "vog0o3sXedXE",
        "colab": {
          "base_uri": "https://localhost:8080/"
        },
        "outputId": "9d385e01-5d74-4ee4-a519-ea08c7715e73"
      },
      "source": [
        "from sklearn.ensemble import RandomForestClassifier\n",
        "from sklearn.impute import SimpleImputer \n",
        "from sklearn.pipeline import make_pipeline\n",
        "\n",
        "pipe_rf = make_pipeline(\n",
        "    OneHotEncoder(use_cat_names=True), \n",
        "    SimpleImputer(), \n",
        "    RandomForestClassifier(n_jobs=-1, random_state=10, oob_score=True)\n",
        ")\n",
        "\n",
        "pipe_rf.fit(X_train, y_train)\n",
        "print('검증 정확도: ', pipe_rf.score(X_val, y_val))"
      ],
      "execution_count": 477,
      "outputs": [
        {
          "output_type": "stream",
          "text": [
            "/usr/local/lib/python3.7/dist-packages/category_encoders/utils.py:21: FutureWarning: is_categorical is deprecated and will be removed in a future version.  Use is_categorical_dtype instead\n",
            "  elif pd.api.types.is_categorical(cols):\n"
          ],
          "name": "stderr"
        },
        {
          "output_type": "stream",
          "text": [
            "검증 정확도:  0.6460227272727272\n"
          ],
          "name": "stdout"
        }
      ]
    },
    {
      "cell_type": "markdown",
      "metadata": {
        "id": "AGOAhn3gZG-g"
      },
      "source": [
        "순서형 인코딩으로 학습해 보았습니다."
      ]
    },
    {
      "cell_type": "code",
      "metadata": {
        "colab": {
          "base_uri": "https://localhost:8080/"
        },
        "id": "STf5cnaoKhyr",
        "outputId": "1685d547-be74-4168-c333-6eba130a4563"
      },
      "source": [
        "from category_encoders import OrdinalEncoder\n",
        "\n",
        "# ordinal encoding\n",
        "pipe_rf_ord = make_pipeline(\n",
        "    OrdinalEncoder(), \n",
        "    SimpleImputer(), \n",
        "    RandomForestClassifier(random_state=10, n_jobs=-1, oob_score=True)\n",
        ")\n",
        "\n",
        "pipe_rf_ord.fit(X_train, y_train)\n",
        "print('검증 정확도', pipe_rf_ord.score(X_val, y_val))"
      ],
      "execution_count": 503,
      "outputs": [
        {
          "output_type": "stream",
          "text": [
            "검증 정확도 0.665340909090909\n"
          ],
          "name": "stdout"
        }
      ]
    },
    {
      "cell_type": "markdown",
      "metadata": {
        "id": "fQH3OJRpZajw"
      },
      "source": [
        "#### 랜텀포레스트 특성 중요도 비교 (onehot vs ordinal)?\n",
        "\n",
        "랜덤포레스트에서는 학습 후에 특성들의 중요도 정보(Gini importance)를 기본으로 제공합니다. 중요도는 노드들의 지니불순도(Gini impurity)를 가지고 계산하는데\n",
        "\n",
        "노드가 중요할 수록 불순도가 크게 감소한다는 사실을 이용합니다.\n",
        "\n",
        "노드는 한 특성의 값을 기준으로 분리가 되기 때문에 불순도를 크게 감소하는데 많이 사용된 특성이 중요도가 올라갈 것입니다."
      ]
    },
    {
      "cell_type": "code",
      "metadata": {
        "colab": {
          "base_uri": "https://localhost:8080/",
          "height": 383
        },
        "id": "Rt_A1O3qR7NP",
        "outputId": "285eea59-d0aa-4f78-93ec-e7b88c20a6a8"
      },
      "source": [
        "import matplotlib.pyplot as plt\n",
        "\n",
        "# 특성 중요도(onehot)\n",
        "rf = pipe_rf.named_steps['randomforestclassifier']\n",
        "colnames = pipe_rf.named_steps['onehotencoder'].get_feature_names()\n",
        "importances = pd.Series(rf.feature_importances_, colnames)\n",
        "\n",
        "n = 10\n",
        "plt.figure(figsize=(10,n/4))\n",
        "plt.title(f'Top {n} features with onehotencoder')\n",
        "importances.sort_values()[-n:].plot.barh();\n",
        "\n",
        "\n",
        "# 특성 중요도(ordinal)\n",
        "rf_ord = pipe_rf_ord.named_steps['randomforestclassifier']\n",
        "importances_ord = pd.Series(rf_ord.feature_importances_, X_train.columns)\n",
        "\n",
        "plt.figure(figsize=(10,n/4))\n",
        "plt.title(f'Top {n} features with ordinalencoder')\n",
        "importances_ord.sort_values()[-n:].plot.barh();"
      ],
      "execution_count": 479,
      "outputs": [
        {
          "output_type": "display_data",
          "data": {
            "image/png": "[encoded data removed]",
            "text/plain": [
              "<Figure size 720x180 with 1 Axes>"
            ]
          },
          "metadata": {
            "tags": [],
            "needs_background": "light"
          }
        },
        {
          "output_type": "display_data",
          "data": {
            "image/png": "[encoded data removed]",
            "text/plain": [
              "<Figure size 720x180 with 1 Axes>"
            ]
          },
          "metadata": {
            "tags": [],
            "needs_background": "light"
          }
        }
      ]
    },
    {
      "cell_type": "code",
      "metadata": {
        "colab": {
          "base_uri": "https://localhost:8080/"
        },
        "id": "5gEzNkeTTyAC",
        "outputId": "6cf89148-5bb7-4dba-bdaf-ec3b5d34c096"
      },
      "source": [
        "# F1 score 계산해보기\n",
        "from sklearn.metrics import f1_score\n",
        "from sklearn.tree import DecisionTreeClassifier\n",
        "\n",
        "pipe = make_pipeline(\n",
        "    OrdinalEncoder(), \n",
        "    SimpleImputer(), \n",
        "    DecisionTreeClassifier(max_depth=6,random_state=2, criterion='entropy')\n",
        ")\n",
        "\n",
        "pipe.fit(X_train, y_train)\n",
        "\n",
        "y_train_pred = pipe.predict(X_train)\n",
        "y_val_pred = pipe.predict(X_val)\n",
        "\n",
        "print('f1 score_train: ', f1_score(y_train, y_train_pred))\n",
        "print('f1 score_val: ', f1_score(y_val, y_val_pred))"
      ],
      "execution_count": 480,
      "outputs": [
        {
          "output_type": "stream",
          "text": [
            "f1 score_train:  0.6687022900763359\n",
            "f1 score_val:  0.6568265682656826\n"
          ],
          "name": "stdout"
        }
      ]
    },
    {
      "cell_type": "markdown",
      "metadata": {
        "id": "WOh9BBcVDtNT"
      },
      "source": [
        "## 분류 모델의 성능 평가 지표를 보여주는 Confusion matrix 에 관해 살펴봅시다."
      ]
    },
    {
      "cell_type": "code",
      "metadata": {
        "id": "Ksbx1T-tT6QL",
        "colab": {
          "base_uri": "https://localhost:8080/",
          "height": 297
        },
        "outputId": "87766e0e-8e62-45af-da3f-c6b708eaeab6"
      },
      "source": [
        "# 랜덤포레스트 순서형\n",
        "from sklearn.metrics import plot_confusion_matrix\n",
        "import matplotlib.pyplot as plt\n",
        "\n",
        "fig, ax = plt.subplots()\n",
        "pcm = plot_confusion_matrix(pipe_rf_ord, X_val, y_val,\n",
        "                            cmap=plt.cm.Blues,\n",
        "                            ax=ax);\n",
        "plt.title(f'Confusion matrix, n = {len(y_val)}', fontsize=15)\n",
        "plt.show()"
      ],
      "execution_count": 481,
      "outputs": [
        {
          "output_type": "display_data",
          "data": {
            "image/png": "[encoded data removed]",
            "text/plain": [
              "<Figure size 432x288 with 2 Axes>"
            ]
          },
          "metadata": {
            "tags": [],
            "needs_background": "light"
          }
        }
      ]
    },
    {
      "cell_type": "code",
      "metadata": {
        "id": "BxN3NY_9D4pA",
        "colab": {
          "base_uri": "https://localhost:8080/"
        },
        "outputId": "072cfb4f-e09b-4292-998b-db796226c3e5"
      },
      "source": [
        "cm = pcm.confusion_matrix\n",
        "cm"
      ],
      "execution_count": 482,
      "outputs": [
        {
          "output_type": "execute_result",
          "data": {
            "text/plain": [
              "array([[511, 200],\n",
              "       [389, 660]])"
            ]
          },
          "metadata": {
            "tags": []
          },
          "execution_count": 482
        }
      ]
    },
    {
      "cell_type": "markdown",
      "metadata": {
        "id": "U4PbII7uIbOu"
      },
      "source": [
        "True Positive(TP) 정시에 도착함을 잘 예측한 경우"
      ]
    },
    {
      "cell_type": "code",
      "metadata": {
        "id": "R4SvLykuD7l3",
        "colab": {
          "base_uri": "https://localhost:8080/"
        },
        "outputId": "5b1c9c94-bd3b-4689-f4d7-843a82ec8d14"
      },
      "source": [
        "cm[1][1]"
      ],
      "execution_count": 495,
      "outputs": [
        {
          "output_type": "execute_result",
          "data": {
            "text/plain": [
              "660"
            ]
          },
          "metadata": {
            "tags": []
          },
          "execution_count": 495
        }
      ]
    },
    {
      "cell_type": "markdown",
      "metadata": {
        "id": "CU5aZ7cwIuTf"
      },
      "source": [
        "정확하게 맞춘 예측은 모두 몇 가지인가요? (TP + TN)"
      ]
    },
    {
      "cell_type": "code",
      "metadata": {
        "id": "xf81eubeD-ib",
        "colab": {
          "base_uri": "https://localhost:8080/"
        },
        "outputId": "7d1a7158-75f2-4c77-e10c-4352bf57f6b5"
      },
      "source": [
        "import numpy as np\n",
        "correct_predictions = np.diag(cm).sum()\n",
        "correct_predictions"
      ],
      "execution_count": 496,
      "outputs": [
        {
          "output_type": "execute_result",
          "data": {
            "text/plain": [
              "1171"
            ]
          },
          "metadata": {
            "tags": []
          },
          "execution_count": 496
        }
      ]
    },
    {
      "cell_type": "markdown",
      "metadata": {
        "id": "mLfgZDZJIx6z"
      },
      "source": [
        "총 예측한 수는 어떻게 되나요?"
      ]
    },
    {
      "cell_type": "code",
      "metadata": {
        "id": "54svf1lTEETv",
        "colab": {
          "base_uri": "https://localhost:8080/"
        },
        "outputId": "ad85bc30-384b-462a-caca-5db393684add"
      },
      "source": [
        "total_predictions = cm.sum()\n",
        "total_predictions"
      ],
      "execution_count": 497,
      "outputs": [
        {
          "output_type": "execute_result",
          "data": {
            "text/plain": [
              "1760"
            ]
          },
          "metadata": {
            "tags": []
          },
          "execution_count": 497
        }
      ]
    },
    {
      "cell_type": "markdown",
      "metadata": {
        "id": "9ow9TKK1I0-c"
      },
      "source": [
        "\n",
        "분류 정확도(classification accuracy)를 계산해 보세요"
      ]
    },
    {
      "cell_type": "code",
      "metadata": {
        "id": "TDIlIcdYEIzx",
        "colab": {
          "base_uri": "https://localhost:8080/"
        },
        "outputId": "03be72b4-bb86-4a8b-b26f-405d382d4916"
      },
      "source": [
        "correct_predictions/total_predictions"
      ],
      "execution_count": 486,
      "outputs": [
        {
          "output_type": "execute_result",
          "data": {
            "text/plain": [
              "0.665340909090909"
            ]
          },
          "metadata": {
            "tags": []
          },
          "execution_count": 486
        }
      ]
    },
    {
      "cell_type": "code",
      "metadata": {
        "id": "iEobqTn9ELVv",
        "colab": {
          "base_uri": "https://localhost:8080/"
        },
        "outputId": "b57cf6f2-4cd7-4e85-afbc-3a9f6d6b1f2d"
      },
      "source": [
        "#위와 같은 결과를 낸다.\n",
        "y_val_pred = pipe_rf_ord.predict(X_val)\n",
        "print('검증 정확도: ', accuracy_score(y_val, y_val_pred))"
      ],
      "execution_count": 498,
      "outputs": [
        {
          "output_type": "stream",
          "text": [
            "검증 정확도:  0.665340909090909\n"
          ],
          "name": "stdout"
        }
      ]
    },
    {
      "cell_type": "markdown",
      "metadata": {
        "id": "ErQLCYFSI6oE"
      },
      "source": [
        "분류기의 정확한 성능을 판단하기 위해서는 정확도 외에 다른 평가지표를 같이 사용해야 합니다.\n",
        "\n",
        "\n",
        "특히 정밀도(precision), 재현율(recall) 을 살펴보아야 합니다."
      ]
    },
    {
      "cell_type": "markdown",
      "metadata": {
        "id": "nuloAmQxJAGR"
      },
      "source": [
        "정확도(Accuracy)는 전체 범주를 모두 바르게 맞춘 경우를 전체 수로 나눈 값입니다: $\\large \\frac{TP + TN}{Total}$\n",
        "\n",
        "정밀도(Precision)는 Positive로 예측한 경우 중 올바르게 Positive를 맞춘 비율입니다: $\\large \\frac{TP}{TP + FP}$\n",
        "\n",
        "재현율(Recall, Sensitivity)은 실제 Positive인 것 중 올바르게 Positive를 맞춘 것의 비율 입니다: $\\large \\frac{TP}{TP + FN}$\n",
        "\n",
        "F1점수(F1 score)는 정밀도와 재현율의 조화평균(harmonic mean)입니다: $ 2\\cdot\\large\\frac{precision\\cdot recall}{precision + recall}$\n"
      ]
    },
    {
      "cell_type": "code",
      "metadata": {
        "id": "Knw1UptvEOCY",
        "colab": {
          "base_uri": "https://localhost:8080/"
        },
        "outputId": "45c26ae2-53e2-4641-efc0-42064fb4fd5c"
      },
      "source": [
        "from sklearn.metrics import classification_report\n",
        "print(classification_report(y_val, y_val_pred))"
      ],
      "execution_count": 488,
      "outputs": [
        {
          "output_type": "stream",
          "text": [
            "              precision    recall  f1-score   support\n",
            "\n",
            "           0       0.57      0.72      0.63       711\n",
            "           1       0.77      0.63      0.69      1049\n",
            "\n",
            "    accuracy                           0.67      1760\n",
            "   macro avg       0.67      0.67      0.66      1760\n",
            "weighted avg       0.69      0.67      0.67      1760\n",
            "\n"
          ],
          "name": "stdout"
        }
      ]
    },
    {
      "cell_type": "code",
      "metadata": {
        "id": "rw2ypzRgARlP",
        "outputId": "74f5de27-c05c-482b-b2c9-cb448833d0c1",
        "colab": {
          "base_uri": "https://localhost:8080/"
        }
      },
      "source": [
        "# AUC 점수는 높을수록 좋습니다!\n",
        "from sklearn.metrics import roc_auc_score\n",
        "\n",
        "y_pred_proba = pipe_rf_ord.predict_proba(X_val)[:, -1]\n",
        "print('AUC score: ', roc_auc_score(y_val, y_pred_proba))"
      ],
      "execution_count": 501,
      "outputs": [
        {
          "output_type": "stream",
          "text": [
            "AUC score:  0.7429632936867072\n"
          ],
          "name": "stdout"
        }
      ]
    },
    {
      "cell_type": "code",
      "metadata": {
        "id": "4LHq2JVKAYTb",
        "outputId": "2ca608e8-e397-455e-f4d0-7f7a9450d792",
        "colab": {
          "base_uri": "https://localhost:8080/",
          "height": 313
        }
      },
      "source": [
        "from sklearn.metrics import roc_curve\n",
        "import matplotlib.pyplot as plt\n",
        "\n",
        "fpr, tpr, thresholds = roc_curve(y_val, y_pred_proba)\n",
        "\n",
        "plt.scatter(fpr, tpr, color='blue')\n",
        "plt.plot(fpr, tpr, color='green')\n",
        "plt.title('ROC curve')\n",
        "plt.xlabel('FPR')\n",
        "plt.ylabel('TPR')"
      ],
      "execution_count": 500,
      "outputs": [
        {
          "output_type": "execute_result",
          "data": {
            "text/plain": [
              "Text(0, 0.5, 'TPR')"
            ]
          },
          "metadata": {
            "tags": []
          },
          "execution_count": 500
        },
        {
          "output_type": "display_data",
          "data": {
            "image/png": "[encoded data removed]",
            "text/plain": [
              "<Figure size 432x288 with 1 Axes>"
            ]
          },
          "metadata": {
            "tags": [],
            "needs_background": "light"
          }
        }
      ]
    },
    {
      "cell_type": "markdown",
      "metadata": {
        "id": "6Qb18NjMEgr6"
      },
      "source": [
        "## 모델 해석과 특성 선택을 위한 순열 중요도(Permutation Importances) 계산"
      ]
    },
    {
      "cell_type": "markdown",
      "metadata": {
        "id": "io7kDxvlFE-g"
      },
      "source": [
        "1. Feature Importances(Mean decrease impurity, MDI)\n",
        "\n",
        "sklearn 트리 기반 분류기에서 디폴트로 사용되는 특성 중요도는 속도는 빠르지만 결과를 주의해서 봐야 합니다. 각각 특성을 모든 트리에 대해 평균불순도감소(mean decrease impurity)를 계산한 값입니다.\n",
        "\n",
        "Warning: impurity-based feature importances can be misleading for high cardinality features (many unique values)."
      ]
    },
    {
      "cell_type": "code",
      "metadata": {
        "id": "y1QJUY1FFKYt",
        "outputId": "64ae1693-d84e-4153-b74b-70f6e2e04f64",
        "colab": {
          "base_uri": "https://localhost:8080/",
          "height": 607
        }
      },
      "source": [
        "# 특성 중요도\n",
        "rf = pipe_rf_ord.named_steps['randomforestclassifier']\n",
        "importances = pd.Series(rf.feature_importances_, X_train.columns)\n",
        "\n",
        "%matplotlib inline\n",
        "import matplotlib.pyplot as plt\n",
        "\n",
        "n = 20\n",
        "plt.figure(figsize=(10,n/2))\n",
        "plt.title(f'Top {n} features')\n",
        "importances.sort_values()[-n:].plot.barh();"
      ],
      "execution_count": 504,
      "outputs": [
        {
          "output_type": "display_data",
          "data": {
            "image/png": "[encoded data removed]",
            "text/plain": [
              "<Figure size 720x720 with 1 Axes>"
            ]
          },
          "metadata": {
            "tags": [],
            "needs_background": "light"
          }
        }
      ]
    },
    {
      "cell_type": "markdown",
      "metadata": {
        "id": "c7k_8yP8Ft3s"
      },
      "source": [
        "2. Drop-Column Importance\n",
        "\n",
        "이론적으로 가장 좋아 보이는 방법이지만, 매 특성을 drop한 후 fit을 다시 해야 하기 때문에 매우 느리다는 단점이 있습니다.\n",
        "\n",
        "특성이 n개 존재할 때 n + 1 번 학습이 필요합니다."
      ]
    },
    {
      "cell_type": "markdown",
      "metadata": {
        "id": "ew8rB_olFn1I"
      },
      "source": [
        "3. 순열중요도, (Permutation Importance, Mean Decrease Accuracy,MDA)\n",
        "\n",
        "순열 중요도는 기본 특성 중요도와 Drop-column 중요도 중간에 위치하는 특징을 가진다고 볼 수 있습니다.\n",
        "\n",
        "중요도 측정은 관심있는 특성에만 무작위로 노이즈를 주고 예측을 하였을 때 성능 평가지표(정확도, F1, $R^2$ 등)가 얼마나 감소하는지를 측정합니다.\n",
        "\n",
        "Drop-column 중요도를 계산하기 위해 재학습을 해야 했다면, 순열중요도는 검증데이터에서 각 특성을 제거하지 않고 특성값에 무작위로 노이즈를 주어 기존 정보를 제거하여 특성이 기존에 하던 역할을 하지 못하게 하고 성능을 측정합니다. 이때 노이즈를 주는 가장 간단한 방법이 그 특성값들을 샘플들 내에서 섞는 것(shuffle, permutation) 입니다."
      ]
    },
    {
      "cell_type": "code",
      "metadata": {
        "id": "o-gTrZNmGpcl"
      },
      "source": [
        "from sklearn.pipeline import Pipeline\n",
        "# encoder, imputer를 preprocessing으로 묶었습니다. 후에 eli5 permutation 계산에 사용합니다\n",
        "pipe_rf_ord_line = Pipeline([\n",
        "    ('preprocessing', make_pipeline(OrdinalEncoder(), SimpleImputer())),\n",
        "    ('rf', RandomForestClassifier(n_jobs=-1, random_state=10, oob_score=True)) \n",
        "])"
      ],
      "execution_count": 506,
      "outputs": []
    },
    {
      "cell_type": "code",
      "metadata": {
        "id": "lRU7oADdHN6u",
        "outputId": "a9317fdd-fdab-4869-b127-72f4786d813b",
        "colab": {
          "base_uri": "https://localhost:8080/"
        }
      },
      "source": [
        "# pipeline 생성을 확인합니다.\n",
        "pipe_rf_ord_line.named_steps"
      ],
      "execution_count": 507,
      "outputs": [
        {
          "output_type": "execute_result",
          "data": {
            "text/plain": [
              "{'preprocessing': Pipeline(memory=None,\n",
              "          steps=[('ordinalencoder',\n",
              "                  OrdinalEncoder(cols=None, drop_invariant=False,\n",
              "                                 handle_missing='value', handle_unknown='value',\n",
              "                                 mapping=None, return_df=True, verbose=0)),\n",
              "                 ('simpleimputer',\n",
              "                  SimpleImputer(add_indicator=False, copy=True, fill_value=None,\n",
              "                                missing_values=nan, strategy='mean',\n",
              "                                verbose=0))],\n",
              "          verbose=False),\n",
              " 'rf': RandomForestClassifier(bootstrap=True, ccp_alpha=0.0, class_weight=None,\n",
              "                        criterion='gini', max_depth=None, max_features='auto',\n",
              "                        max_leaf_nodes=None, max_samples=None,\n",
              "                        min_impurity_decrease=0.0, min_impurity_split=None,\n",
              "                        min_samples_leaf=1, min_samples_split=2,\n",
              "                        min_weight_fraction_leaf=0.0, n_estimators=100,\n",
              "                        n_jobs=-1, oob_score=True, random_state=10, verbose=0,\n",
              "                        warm_start=False)}"
            ]
          },
          "metadata": {
            "tags": []
          },
          "execution_count": 507
        }
      ]
    },
    {
      "cell_type": "code",
      "metadata": {
        "id": "R8c9yB9-HQzF",
        "outputId": "a2239a53-0219-4857-fcea-4668ed23b6d3",
        "colab": {
          "base_uri": "https://localhost:8080/"
        }
      },
      "source": [
        "pipe_rf_ord_line.fit(X_train, y_train)\n",
        "print('검증 정확도: ', pipe_rf_ord_line.score(X_val, y_val))"
      ],
      "execution_count": 508,
      "outputs": [
        {
          "output_type": "stream",
          "text": [
            "검증 정확도:  0.665340909090909\n"
          ],
          "name": "stdout"
        }
      ]
    },
    {
      "cell_type": "code",
      "metadata": {
        "id": "mDRw_JLWHq2g",
        "outputId": "0f7d1db2-b50a-4c37-a383-7aac9b1ed734",
        "colab": {
          "base_uri": "https://localhost:8080/"
        }
      },
      "source": [
        "pip install eli5"
      ],
      "execution_count": 510,
      "outputs": [
        {
          "output_type": "stream",
          "text": [
            "Collecting eli5\n",
            "\u001b[?25l  Downloading https://files.pythonhosted.org/packages/d1/54/04cab6e1c0ae535bec93f795d8403fdf6caf66fa5a6512263202dbb14ea6/eli5-0.11.0-py2.py3-none-any.whl (106kB)\n",
            "\r\u001b[K     |███                             | 10kB 16.1MB/s eta 0:00:01\r\u001b[K     |██████▏                         | 20kB 21.8MB/s eta 0:00:01\r\u001b[K     |█████████▎                      | 30kB 10.4MB/s eta 0:00:01\r\u001b[K     |████████████▍                   | 40kB 8.2MB/s eta 0:00:01\r\u001b[K     |███████████████▌                | 51kB 4.5MB/s eta 0:00:01\r\u001b[K     |██████████████████▌             | 61kB 4.9MB/s eta 0:00:01\r\u001b[K     |█████████████████████▋          | 71kB 5.0MB/s eta 0:00:01\r\u001b[K     |████████████████████████▊       | 81kB 4.9MB/s eta 0:00:01\r\u001b[K     |███████████████████████████▉    | 92kB 5.4MB/s eta 0:00:01\r\u001b[K     |███████████████████████████████ | 102kB 5.7MB/s eta 0:00:01\r\u001b[K     |████████████████████████████████| 112kB 5.7MB/s \n",
            "\u001b[?25hRequirement already satisfied: six in /usr/local/lib/python3.7/dist-packages (from eli5) (1.15.0)\n",
            "Requirement already satisfied: graphviz in /usr/local/lib/python3.7/dist-packages (from eli5) (0.10.1)\n",
            "Requirement already satisfied: attrs>16.0.0 in /usr/local/lib/python3.7/dist-packages (from eli5) (20.3.0)\n",
            "Requirement already satisfied: jinja2 in /usr/local/lib/python3.7/dist-packages (from eli5) (2.11.3)\n",
            "Requirement already satisfied: scikit-learn>=0.20 in /usr/local/lib/python3.7/dist-packages (from eli5) (0.22.2.post1)\n",
            "Requirement already satisfied: numpy>=1.9.0 in /usr/local/lib/python3.7/dist-packages (from eli5) (1.19.5)\n",
            "Requirement already satisfied: tabulate>=0.7.7 in /usr/local/lib/python3.7/dist-packages (from eli5) (0.8.9)\n",
            "Requirement already satisfied: scipy in /usr/local/lib/python3.7/dist-packages (from eli5) (1.4.1)\n",
            "Requirement already satisfied: MarkupSafe>=0.23 in /usr/local/lib/python3.7/dist-packages (from jinja2->eli5) (1.1.1)\n",
            "Requirement already satisfied: joblib>=0.11 in /usr/local/lib/python3.7/dist-packages (from scikit-learn>=0.20->eli5) (1.0.1)\n",
            "Installing collected packages: eli5\n",
            "Successfully installed eli5-0.11.0\n"
          ],
          "name": "stdout"
        }
      ]
    },
    {
      "cell_type": "code",
      "metadata": {
        "id": "M2o1xj_DHbM6"
      },
      "source": [
        "import warnings\n",
        "warnings.simplefilter(action='ignore', category=FutureWarning)\n",
        "\n",
        "import eli5\n",
        "from eli5.sklearn import PermutationImportance\n",
        "\n",
        "# permuter 정의\n",
        "permuter = PermutationImportance(\n",
        "    pipe_rf_ord_line.named_steps['rf'], # model\n",
        "    scoring='accuracy', # metric\n",
        "    n_iter=5, # 다른 random seed를 사용하여 5번 반복\n",
        "    random_state=2\n",
        ")\n",
        "\n",
        "# permuter 계산은 preprocessing 된 X_val을 사용합니다.\n",
        "X_val_transformed = pipe_rf_ord_line.named_steps['preprocessing'].transform(X_val)\n",
        "\n",
        "# 실제로 fit 의미보다는 스코어를 다시 계산하는 작업입니다\n",
        "permuter.fit(X_val_transformed, y_val);"
      ],
      "execution_count": 511,
      "outputs": []
    },
    {
      "cell_type": "code",
      "metadata": {
        "id": "SeMglll2HvtI",
        "outputId": "b59ebfed-86a8-4cfc-d54a-00699aff173f",
        "colab": {
          "base_uri": "https://localhost:8080/"
        }
      },
      "source": [
        "feature_names = X_val.columns.tolist()\n",
        "pd.Series(permuter.feature_importances_, feature_names).sort_values()"
      ],
      "execution_count": 512,
      "outputs": [
        {
          "output_type": "execute_result",
          "data": {
            "text/plain": [
              "Product_importance    -0.006250\n",
              "Warehouse_block        0.002727\n",
              "Mode_of_Shipment       0.003864\n",
              "Customer_care_calls    0.006591\n",
              "Gender                 0.009432\n",
              "Cost_of_the_Product    0.013750\n",
              "Customer_rating        0.014773\n",
              "Discount_offered       0.018182\n",
              "Prior_purchases        0.018409\n",
              "Weight_in_gms          0.048523\n",
              "dtype: float64"
            ]
          },
          "metadata": {
            "tags": []
          },
          "execution_count": 512
        }
      ]
    },
    {
      "cell_type": "code",
      "metadata": {
        "id": "PaDHsx1dHzQu",
        "outputId": "650b52cf-9bcb-4737-daba-f336e55d0805",
        "colab": {
          "base_uri": "https://localhost:8080/",
          "height": 202
        }
      },
      "source": [
        "# 특성별 score 확인\n",
        "eli5.show_weights(\n",
        "    permuter, \n",
        "    top=None, # top n 지정 가능, None 일 경우 모든 특성 \n",
        "    feature_names=feature_names # list 형식으로 넣어야 합니다\n",
        ")"
      ],
      "execution_count": 513,
      "outputs": [
        {
          "output_type": "execute_result",
          "data": {
            "text/html": [
              "\n",
              "    <style>\n",
              "    table.eli5-weights tr:hover {\n",
              "        filter: brightness(85%);\n",
              "    }\n",
              "</style>\n",
              "\n",
              "\n",
              "\n",
              "    \n",
              "\n",
              "    \n",
              "\n",
              "    \n",
              "\n",
              "    \n",
              "\n",
              "    \n",
              "\n",
              "    \n",
              "\n",
              "\n",
              "    \n",
              "\n",
              "    \n",
              "\n",
              "    \n",
              "\n",
              "    \n",
              "\n",
              "    \n",
              "\n",
              "    \n",
              "\n",
              "\n",
              "    \n",
              "\n",
              "    \n",
              "\n",
              "    \n",
              "\n",
              "    \n",
              "\n",
              "    \n",
              "        <table class=\"eli5-weights eli5-feature-importances\" style=\"border-collapse: collapse; border: none; margin-top: 0em; table-layout: auto;\">\n",
              "    <thead>\n",
              "    <tr style=\"border: none;\">\n",
              "        <th style=\"padding: 0 1em 0 0.5em; text-align: right; border: none;\">Weight</th>\n",
              "        <th style=\"padding: 0 0.5em 0 0.5em; text-align: left; border: none;\">Feature</th>\n",
              "    </tr>\n",
              "    </thead>\n",
              "    <tbody>\n",
              "    \n",
              "        <tr style=\"background-color: hsl(120, 100.00%, 80.00%); border: none;\">\n",
              "            <td style=\"padding: 0 1em 0 0.5em; text-align: right; border: none;\">\n",
              "                0.0485\n",
              "                \n",
              "                    &plusmn; 0.0091\n",
              "                \n",
              "            </td>\n",
              "            <td style=\"padding: 0 0.5em 0 0.5em; text-align: left; border: none;\">\n",
              "                Weight_in_gms\n",
              "            </td>\n",
              "        </tr>\n",
              "    \n",
              "        <tr style=\"background-color: hsl(120, 100.00%, 89.85%); border: none;\">\n",
              "            <td style=\"padding: 0 1em 0 0.5em; text-align: right; border: none;\">\n",
              "                0.0184\n",
              "                \n",
              "                    &plusmn; 0.0101\n",
              "                \n",
              "            </td>\n",
              "            <td style=\"padding: 0 0.5em 0 0.5em; text-align: left; border: none;\">\n",
              "                Prior_purchases\n",
              "            </td>\n",
              "        </tr>\n",
              "    \n",
              "        <tr style=\"background-color: hsl(120, 100.00%, 89.94%); border: none;\">\n",
              "            <td style=\"padding: 0 1em 0 0.5em; text-align: right; border: none;\">\n",
              "                0.0182\n",
              "                \n",
              "                    &plusmn; 0.0110\n",
              "                \n",
              "            </td>\n",
              "            <td style=\"padding: 0 0.5em 0 0.5em; text-align: left; border: none;\">\n",
              "                Discount_offered\n",
              "            </td>\n",
              "        </tr>\n",
              "    \n",
              "        <tr style=\"background-color: hsl(120, 100.00%, 91.30%); border: none;\">\n",
              "            <td style=\"padding: 0 1em 0 0.5em; text-align: right; border: none;\">\n",
              "                0.0148\n",
              "                \n",
              "                    &plusmn; 0.0084\n",
              "                \n",
              "            </td>\n",
              "            <td style=\"padding: 0 0.5em 0 0.5em; text-align: left; border: none;\">\n",
              "                Customer_rating\n",
              "            </td>\n",
              "        </tr>\n",
              "    \n",
              "        <tr style=\"background-color: hsl(120, 100.00%, 91.73%); border: none;\">\n",
              "            <td style=\"padding: 0 1em 0 0.5em; text-align: right; border: none;\">\n",
              "                0.0137\n",
              "                \n",
              "                    &plusmn; 0.0193\n",
              "                \n",
              "            </td>\n",
              "            <td style=\"padding: 0 0.5em 0 0.5em; text-align: left; border: none;\">\n",
              "                Cost_of_the_Product\n",
              "            </td>\n",
              "        </tr>\n",
              "    \n",
              "        <tr style=\"background-color: hsl(120, 100.00%, 93.65%); border: none;\">\n",
              "            <td style=\"padding: 0 1em 0 0.5em; text-align: right; border: none;\">\n",
              "                0.0094\n",
              "                \n",
              "                    &plusmn; 0.0027\n",
              "                \n",
              "            </td>\n",
              "            <td style=\"padding: 0 0.5em 0 0.5em; text-align: left; border: none;\">\n",
              "                Gender\n",
              "            </td>\n",
              "        </tr>\n",
              "    \n",
              "        <tr style=\"background-color: hsl(120, 100.00%, 95.06%); border: none;\">\n",
              "            <td style=\"padding: 0 1em 0 0.5em; text-align: right; border: none;\">\n",
              "                0.0066\n",
              "                \n",
              "                    &plusmn; 0.0110\n",
              "                \n",
              "            </td>\n",
              "            <td style=\"padding: 0 0.5em 0 0.5em; text-align: left; border: none;\">\n",
              "                Customer_care_calls\n",
              "            </td>\n",
              "        </tr>\n",
              "    \n",
              "        <tr style=\"background-color: hsl(120, 100.00%, 96.60%); border: none;\">\n",
              "            <td style=\"padding: 0 1em 0 0.5em; text-align: right; border: none;\">\n",
              "                0.0039\n",
              "                \n",
              "                    &plusmn; 0.0056\n",
              "                \n",
              "            </td>\n",
              "            <td style=\"padding: 0 0.5em 0 0.5em; text-align: left; border: none;\">\n",
              "                Mode_of_Shipment\n",
              "            </td>\n",
              "        </tr>\n",
              "    \n",
              "        <tr style=\"background-color: hsl(120, 100.00%, 97.33%); border: none;\">\n",
              "            <td style=\"padding: 0 1em 0 0.5em; text-align: right; border: none;\">\n",
              "                0.0027\n",
              "                \n",
              "                    &plusmn; 0.0086\n",
              "                \n",
              "            </td>\n",
              "            <td style=\"padding: 0 0.5em 0 0.5em; text-align: left; border: none;\">\n",
              "                Warehouse_block\n",
              "            </td>\n",
              "        </tr>\n",
              "    \n",
              "        <tr style=\"background-color: hsl(0, 100.00%, 95.24%); border: none;\">\n",
              "            <td style=\"padding: 0 1em 0 0.5em; text-align: right; border: none;\">\n",
              "                -0.0063\n",
              "                \n",
              "                    &plusmn; 0.0057\n",
              "                \n",
              "            </td>\n",
              "            <td style=\"padding: 0 0.5em 0 0.5em; text-align: left; border: none;\">\n",
              "                Product_importance\n",
              "            </td>\n",
              "        </tr>\n",
              "    \n",
              "    \n",
              "    </tbody>\n",
              "</table>\n",
              "    \n",
              "\n",
              "    \n",
              "\n",
              "\n",
              "    \n",
              "\n",
              "    \n",
              "\n",
              "    \n",
              "\n",
              "    \n",
              "\n",
              "    \n",
              "\n",
              "    \n",
              "\n",
              "\n",
              "\n"
            ],
            "text/plain": [
              "<IPython.core.display.HTML object>"
            ]
          },
          "metadata": {
            "tags": []
          },
          "execution_count": 513
        }
      ]
    },
    {
      "cell_type": "markdown",
      "metadata": {
        "id": "JIo-B-l6IHuJ"
      },
      "source": [
        "중요도를 이용하여 특성을 선택(Feature selection)해 봅시다.\n",
        "\n",
        "중요도가 -인 특성을 제외해도 성능은 거의 영향이 없으며, 모델학습 속도는 개선됩니다."
      ]
    },
    {
      "cell_type": "code",
      "metadata": {
        "id": "YN7PN5E9IM_x",
        "outputId": "801cc4b1-5dde-4d87-a5cb-20ff50f77b5c",
        "colab": {
          "base_uri": "https://localhost:8080/"
        }
      },
      "source": [
        "print('특성 삭제 전:', X_train.shape, X_val.shape)"
      ],
      "execution_count": 514,
      "outputs": [
        {
          "output_type": "stream",
          "text": [
            "특성 삭제 전: (7039, 10) (1760, 10)\n"
          ],
          "name": "stdout"
        }
      ]
    },
    {
      "cell_type": "code",
      "metadata": {
        "id": "ApBbyP_6IN5L"
      },
      "source": [
        "minimum_importance = 0.001\n",
        "mask = permuter.feature_importances_ > minimum_importance\n",
        "features = X_train.columns[mask]\n",
        "X_train_selected = X_train[features]\n",
        "X_val_selected = X_val[features]"
      ],
      "execution_count": 515,
      "outputs": []
    },
    {
      "cell_type": "code",
      "metadata": {
        "id": "QwIujWF_IRqW",
        "outputId": "d746312f-b5d3-47e8-d608-5bdd5df87019",
        "colab": {
          "base_uri": "https://localhost:8080/"
        }
      },
      "source": [
        "print('특성 삭제 후:', X_train_selected.shape, X_val_selected.shape)"
      ],
      "execution_count": 516,
      "outputs": [
        {
          "output_type": "stream",
          "text": [
            "특성 삭제 후: (7039, 9) (1760, 9)\n"
          ],
          "name": "stdout"
        }
      ]
    },
    {
      "cell_type": "code",
      "metadata": {
        "id": "5AZBqgPsIZtv",
        "outputId": "b6a78d7f-f31f-41d3-85d8-ac642570f13a",
        "colab": {
          "base_uri": "https://localhost:8080/"
        }
      },
      "source": [
        "# pipeline 다시 정의\n",
        "pipe = Pipeline([\n",
        "    ('preprocessing', make_pipeline(OrdinalEncoder(), SimpleImputer())),\n",
        "    ('rf', RandomForestClassifier(n_jobs=-1, random_state=10, oob_score=True)) \n",
        "], verbose=1)\n",
        "\n",
        "pipe.fit(X_train_selected, y_train);"
      ],
      "execution_count": 517,
      "outputs": [
        {
          "output_type": "stream",
          "text": [
            "[Pipeline] ..... (step 1 of 2) Processing preprocessing, total=   0.1s\n",
            "[Pipeline] ................ (step 2 of 2) Processing rf, total=   1.0s\n"
          ],
          "name": "stdout"
        }
      ]
    },
    {
      "cell_type": "code",
      "metadata": {
        "id": "u9Ruj0FdIlQY",
        "outputId": "adf6b1c5-a469-44d1-f481-c095bf549c2a",
        "colab": {
          "base_uri": "https://localhost:8080/"
        }
      },
      "source": [
        "print('검증 정확도: ', pipe.score(X_val_selected, y_val))"
      ],
      "execution_count": 518,
      "outputs": [
        {
          "output_type": "stream",
          "text": [
            "검증 정확도:  0.6704545454545454\n"
          ],
          "name": "stdout"
        }
      ]
    },
    {
      "cell_type": "code",
      "metadata": {
        "id": "VvCDNTCGJts7",
        "outputId": "b333a8e4-959b-4243-d1b8-36bfd7115b5c",
        "colab": {
          "base_uri": "https://localhost:8080/"
        }
      },
      "source": [
        "# 순열 중요도의 평균 감소값과 그 표준편차의 차가 양수인 특징들을 확인할 수 있습니다.\n",
        "permuter.feature_importances_ - permuter.feature_importances_std_ > 0"
      ],
      "execution_count": 519,
      "outputs": [
        {
          "output_type": "execute_result",
          "data": {
            "text/plain": [
              "array([False,  True,  True,  True,  True,  True, False,  True,  True,\n",
              "        True])"
            ]
          },
          "metadata": {
            "tags": []
          },
          "execution_count": 519
        }
      ]
    },
    {
      "cell_type": "markdown",
      "metadata": {
        "id": "Hze0WeOzJ1cd"
      },
      "source": [
        "## Boosting(xgboost for gradient boosting)"
      ]
    },
    {
      "cell_type": "markdown",
      "metadata": {
        "id": "cZsB99rSJ4C9"
      },
      "source": [
        "분류문제를 풀기 위해서는 트리 앙상블 모델을 많이 사용합니다.\n",
        "\n",
        "- 트리 앙상블은 랜덤포레스트나 그래디언트 부스팅 모델을 이야기 하며 여러 문제에서 좋은 성능을 보이는 것을 확인하였습니다.\n",
        "- 트리모델은 non-linear, non-monotonic 관계, 특성간 상호작용이 존재하는 데이터 학습에 적용하기 좋습니다.\n",
        "- 한 트리를 깊게 학습시키면 과적합을 일으키기 쉽기 때문에. 배깅(Bagging, 랜덤포레스트)이나 부스팅(Boosting) 앙상블 모델을 사용해 과적합을 피합니다.\n",
        "- 랜덤포레스트의 장점은 하이퍼파라미터에 상대적으로 덜 민감한 것인데, 그래디언트 부스팅의 경우 하이퍼파라미터 셋팅에 따라 랜덤포레스트 보다 더 좋은 예측 성능을 보여줄 수도 있습니다."
      ]
    },
    {
      "cell_type": "markdown",
      "metadata": {
        "id": "MK4XtzPmJ31L"
      },
      "source": [
        "##### 부스팅과 배깅의 차이점은?\n",
        "랜덤포레스트나 그래디언트 부스팅은 모두 트리 앙상블 모델이지만 트리를 만드는 방법에 차이가 있습니다.\n",
        "\n",
        "가장 큰 차이는, 랜덤포레스트의 경우 각 트리를 독립적으로 만들지만 부스팅은 만들어지는 트리가 이전에 만들어진 트리에 영향을 받는다는 것입니다.\n",
        "\n",
        "부스팅 알고리즘 중 AdaBoost는 각 트리(약한 학습기들, weak learners)가 만들어질 때 잘못 분류되는 관측치에 가중치를 줍니다.\n",
        "\n",
        "그리고 다음 트리가 만들어질 때 이전에 잘못 분류된 관측치가 더 많이 샘플링되게 하여 그 관측치를 분류하는데 더 초점을 맞춥니다."
      ]
    },
    {
      "cell_type": "code",
      "metadata": {
        "id": "P11WoroCJ3Kz",
        "outputId": "f1d2494c-903f-4c2a-8cd0-eeb61813805b",
        "colab": {
          "base_uri": "https://localhost:8080/"
        }
      },
      "source": [
        "from category_encoders import OrdinalEncoder\n",
        "from sklearn.metrics import r2_score\n",
        "from xgboost import XGBRegressor\n",
        "\n",
        "encoder = OrdinalEncoder()\n",
        "X_train_encoded = encoder.fit_transform(X_train) # 학습데이터\n",
        "X_val_encoded = encoder.transform(X_val) # 검증데이터\n",
        "\n",
        "boosting = XGBRegressor(\n",
        "    n_estimators=1000,\n",
        "    objective='reg:squarederror', # default\n",
        "    learning_rate=0.2,\n",
        "    n_jobs=-1\n",
        ")\n",
        "\n",
        "eval_set = [(X_train_encoded, y_train), \n",
        "            (X_val_encoded, y_val)]\n",
        "\n",
        "boosting.fit(X_train_encoded, y_train, \n",
        "          eval_set=eval_set,\n",
        "          early_stopping_rounds=50\n",
        "         )"
      ],
      "execution_count": 524,
      "outputs": [
        {
          "output_type": "stream",
          "text": [
            "[0]\tvalidation_0-rmse:0.474928\tvalidation_1-rmse:0.475008\n",
            "Multiple eval metrics have been passed: 'validation_1-rmse' will be used for early stopping.\n",
            "\n",
            "Will train until validation_1-rmse hasn't improved in 50 rounds.\n",
            "[1]\tvalidation_0-rmse:0.457947\tvalidation_1-rmse:0.458475\n",
            "[2]\tvalidation_0-rmse:0.4469\tvalidation_1-rmse:0.447205\n",
            "[3]\tvalidation_0-rmse:0.438947\tvalidation_1-rmse:0.439389\n",
            "[4]\tvalidation_0-rmse:0.433679\tvalidation_1-rmse:0.434339\n",
            "[5]\tvalidation_0-rmse:0.430042\tvalidation_1-rmse:0.430596\n",
            "[6]\tvalidation_0-rmse:0.427804\tvalidation_1-rmse:0.428256\n",
            "[7]\tvalidation_0-rmse:0.425955\tvalidation_1-rmse:0.426543\n",
            "[8]\tvalidation_0-rmse:0.424748\tvalidation_1-rmse:0.42548\n",
            "[9]\tvalidation_0-rmse:0.423886\tvalidation_1-rmse:0.42476\n",
            "[10]\tvalidation_0-rmse:0.423307\tvalidation_1-rmse:0.424716\n",
            "[11]\tvalidation_0-rmse:0.422361\tvalidation_1-rmse:0.423946\n",
            "[12]\tvalidation_0-rmse:0.421667\tvalidation_1-rmse:0.42339\n",
            "[13]\tvalidation_0-rmse:0.421233\tvalidation_1-rmse:0.423171\n",
            "[14]\tvalidation_0-rmse:0.42088\tvalidation_1-rmse:0.423338\n",
            "[15]\tvalidation_0-rmse:0.420513\tvalidation_1-rmse:0.42338\n",
            "[16]\tvalidation_0-rmse:0.420031\tvalidation_1-rmse:0.42329\n",
            "[17]\tvalidation_0-rmse:0.41974\tvalidation_1-rmse:0.423514\n",
            "[18]\tvalidation_0-rmse:0.419363\tvalidation_1-rmse:0.423745\n",
            "[19]\tvalidation_0-rmse:0.419103\tvalidation_1-rmse:0.423864\n",
            "[20]\tvalidation_0-rmse:0.418929\tvalidation_1-rmse:0.424019\n",
            "[21]\tvalidation_0-rmse:0.418582\tvalidation_1-rmse:0.424002\n",
            "[22]\tvalidation_0-rmse:0.418224\tvalidation_1-rmse:0.423959\n",
            "[23]\tvalidation_0-rmse:0.417739\tvalidation_1-rmse:0.424051\n",
            "[24]\tvalidation_0-rmse:0.417569\tvalidation_1-rmse:0.424249\n",
            "[25]\tvalidation_0-rmse:0.417271\tvalidation_1-rmse:0.424424\n",
            "[26]\tvalidation_0-rmse:0.416938\tvalidation_1-rmse:0.424551\n",
            "[27]\tvalidation_0-rmse:0.41652\tvalidation_1-rmse:0.424612\n",
            "[28]\tvalidation_0-rmse:0.41629\tvalidation_1-rmse:0.424562\n",
            "[29]\tvalidation_0-rmse:0.415987\tvalidation_1-rmse:0.424755\n",
            "[30]\tvalidation_0-rmse:0.415703\tvalidation_1-rmse:0.424756\n",
            "[31]\tvalidation_0-rmse:0.415363\tvalidation_1-rmse:0.424705\n",
            "[32]\tvalidation_0-rmse:0.415185\tvalidation_1-rmse:0.424819\n",
            "[33]\tvalidation_0-rmse:0.414943\tvalidation_1-rmse:0.424856\n",
            "[34]\tvalidation_0-rmse:0.414621\tvalidation_1-rmse:0.424976\n",
            "[35]\tvalidation_0-rmse:0.414215\tvalidation_1-rmse:0.425037\n",
            "[36]\tvalidation_0-rmse:0.413846\tvalidation_1-rmse:0.425111\n",
            "[37]\tvalidation_0-rmse:0.41356\tvalidation_1-rmse:0.425035\n",
            "[38]\tvalidation_0-rmse:0.413223\tvalidation_1-rmse:0.425312\n",
            "[39]\tvalidation_0-rmse:0.4129\tvalidation_1-rmse:0.425343\n",
            "[40]\tvalidation_0-rmse:0.412677\tvalidation_1-rmse:0.425327\n",
            "[41]\tvalidation_0-rmse:0.412505\tvalidation_1-rmse:0.425478\n",
            "[42]\tvalidation_0-rmse:0.412268\tvalidation_1-rmse:0.425576\n",
            "[43]\tvalidation_0-rmse:0.411989\tvalidation_1-rmse:0.425911\n",
            "[44]\tvalidation_0-rmse:0.411855\tvalidation_1-rmse:0.426082\n",
            "[45]\tvalidation_0-rmse:0.411687\tvalidation_1-rmse:0.426094\n",
            "[46]\tvalidation_0-rmse:0.411395\tvalidation_1-rmse:0.42655\n",
            "[47]\tvalidation_0-rmse:0.41117\tvalidation_1-rmse:0.426431\n",
            "[48]\tvalidation_0-rmse:0.410906\tvalidation_1-rmse:0.42639\n",
            "[49]\tvalidation_0-rmse:0.410731\tvalidation_1-rmse:0.426298\n",
            "[50]\tvalidation_0-rmse:0.410496\tvalidation_1-rmse:0.426171\n",
            "[51]\tvalidation_0-rmse:0.410237\tvalidation_1-rmse:0.426219\n",
            "[52]\tvalidation_0-rmse:0.410043\tvalidation_1-rmse:0.426405\n",
            "[53]\tvalidation_0-rmse:0.409833\tvalidation_1-rmse:0.426552\n",
            "[54]\tvalidation_0-rmse:0.409568\tvalidation_1-rmse:0.426619\n",
            "[55]\tvalidation_0-rmse:0.409317\tvalidation_1-rmse:0.42674\n",
            "[56]\tvalidation_0-rmse:0.408882\tvalidation_1-rmse:0.42681\n",
            "[57]\tvalidation_0-rmse:0.408626\tvalidation_1-rmse:0.426853\n",
            "[58]\tvalidation_0-rmse:0.408341\tvalidation_1-rmse:0.426956\n",
            "[59]\tvalidation_0-rmse:0.408028\tvalidation_1-rmse:0.42725\n",
            "[60]\tvalidation_0-rmse:0.407757\tvalidation_1-rmse:0.427351\n",
            "[61]\tvalidation_0-rmse:0.407579\tvalidation_1-rmse:0.427506\n",
            "[62]\tvalidation_0-rmse:0.407314\tvalidation_1-rmse:0.427515\n",
            "[63]\tvalidation_0-rmse:0.407228\tvalidation_1-rmse:0.427657\n",
            "Stopping. Best iteration:\n",
            "[13]\tvalidation_0-rmse:0.421233\tvalidation_1-rmse:0.423171\n",
            "\n"
          ],
          "name": "stdout"
        },
        {
          "output_type": "execute_result",
          "data": {
            "text/plain": [
              "XGBRegressor(base_score=0.5, booster='gbtree', colsample_bylevel=1,\n",
              "             colsample_bynode=1, colsample_bytree=1, gamma=0,\n",
              "             importance_type='gain', learning_rate=0.2, max_delta_step=0,\n",
              "             max_depth=3, min_child_weight=1, missing=None, n_estimators=1000,\n",
              "             n_jobs=-1, nthread=None, objective='reg:squarederror',\n",
              "             random_state=0, reg_alpha=0, reg_lambda=1, scale_pos_weight=1,\n",
              "             seed=None, silent=None, subsample=1, verbosity=1)"
            ]
          },
          "metadata": {
            "tags": []
          },
          "execution_count": 524
        }
      ]
    },
    {
      "cell_type": "code",
      "metadata": {
        "id": "GRZyoDF4Q-VQ",
        "outputId": "35c44448-6a14-4b84-b963-a45553473e76",
        "colab": {
          "base_uri": "https://localhost:8080/"
        }
      },
      "source": [
        "y_pred = boosting.predict(X_val_encoded)\n",
        "print('R^2', r2_score(y_val, y_pred))"
      ],
      "execution_count": 525,
      "outputs": [
        {
          "output_type": "stream",
          "text": [
            "R^2 0.25627511167220185\n"
          ],
          "name": "stdout"
        }
      ]
    },
    {
      "cell_type": "markdown",
      "metadata": {
        "id": "pWFGFPFdU3zc"
      },
      "source": [
        "그래디언트 부스팅 결과를 해석하려면??\n",
        "\n",
        "선형모델은 회귀계수(coefficients)를 이용해 변수와 타겟 관계를 해석할 수 있지만 트리모델은 할 수 없습니다.\n",
        "\n",
        "대신 부분의존그림(Partial dependence plots)을 사용하여 개별 특성과 타겟간의 관계를 볼 수 있습니다."
      ]
    },
    {
      "cell_type": "code",
      "metadata": {
        "id": "tj3CnSrgI-0Z",
        "colab": {
          "base_uri": "https://localhost:8080/"
        },
        "outputId": "a6ce7184-6668-495d-d302-f5cb7082875c"
      },
      "source": [
        "from category_encoders import TargetEncoder\n",
        "from sklearn.model_selection import cross_val_score\n",
        "from sklearn.ensemble import RandomForestRegressor\n",
        "\n",
        "pipe = make_pipeline(\n",
        "    # TargetEncoder: 범주형 변수 인코더로, 타겟값을 특성의 범주별로 평균내어 그 값으로 인코딩\n",
        "    TargetEncoder(min_samples_leaf=1, smoothing=1), \n",
        "    SimpleImputer(strategy='median'), \n",
        "    RandomForestRegressor(max_depth = 10, n_jobs=-1, random_state=2)\n",
        ")\n",
        "\n",
        "k = 3\n",
        "\n",
        "scores = cross_val_score(pipe, X_train, y_train, cv=k, \n",
        "                         scoring='neg_mean_absolute_error')\n",
        "\n",
        "print(f'MAE for {k} folds:', -scores)"
      ],
      "execution_count": 489,
      "outputs": [
        {
          "output_type": "stream",
          "text": [
            "/usr/local/lib/python3.7/dist-packages/category_encoders/utils.py:21: FutureWarning: is_categorical is deprecated and will be removed in a future version.  Use is_categorical_dtype instead\n",
            "  elif pd.api.types.is_categorical(cols):\n",
            "/usr/local/lib/python3.7/dist-packages/category_encoders/utils.py:21: FutureWarning: is_categorical is deprecated and will be removed in a future version.  Use is_categorical_dtype instead\n",
            "  elif pd.api.types.is_categorical(cols):\n",
            "/usr/local/lib/python3.7/dist-packages/category_encoders/utils.py:21: FutureWarning: is_categorical is deprecated and will be removed in a future version.  Use is_categorical_dtype instead\n",
            "  elif pd.api.types.is_categorical(cols):\n"
          ],
          "name": "stderr"
        },
        {
          "output_type": "stream",
          "text": [
            "MAE for 3 folds: [0.35801056 0.35577974 0.35820559]\n"
          ],
          "name": "stdout"
        }
      ]
    },
    {
      "cell_type": "code",
      "metadata": {
        "id": "Zgm9LEJjNLv1",
        "colab": {
          "base_uri": "https://localhost:8080/"
        },
        "outputId": "3c8e3075-9e06-4d23-e459-21d160d6d0bd"
      },
      "source": [
        "-scores.mean()"
      ],
      "execution_count": 490,
      "outputs": [
        {
          "output_type": "execute_result",
          "data": {
            "text/plain": [
              "0.357331963590473"
            ]
          },
          "metadata": {
            "tags": []
          },
          "execution_count": 490
        }
      ]
    },
    {
      "cell_type": "code",
      "metadata": {
        "id": "nGLI2XCHNW5m",
        "colab": {
          "base_uri": "https://localhost:8080/",
          "height": 404
        },
        "outputId": "34f943b2-c474-405b-e148-a302a7639897"
      },
      "source": [
        "import matplotlib.pyplot as plt\n",
        "from category_encoders import OrdinalEncoder\n",
        "from sklearn.model_selection import validation_curve\n",
        "from sklearn.tree import DecisionTreeRegressor\n",
        "\n",
        "pipe = make_pipeline(\n",
        "    OrdinalEncoder(), \n",
        "    SimpleImputer(), \n",
        "    DecisionTreeRegressor()\n",
        ")\n",
        "\n",
        "depth = range(1, 30, 2)\n",
        "ts, vs = validation_curve(\n",
        "    pipe, X_train, y_train\n",
        "    , param_name='decisiontreeregressor__max_depth'\n",
        "    , param_range=depth, scoring='neg_mean_absolute_error'\n",
        "    , cv=3\n",
        "    , n_jobs=-1\n",
        ")\n",
        "\n",
        "train_scores_mean = np.mean(-ts, axis=1)\n",
        "validation_scores_mean = np.mean(-vs, axis=1)\n",
        "\n",
        "fig, ax = plt.subplots()\n",
        "\n",
        "# 훈련세트 검증곡선\n",
        "ax.plot(depth, train_scores_mean, label='training error')\n",
        "\n",
        "# 검증세트 검증곡선\n",
        "ax.plot(depth, validation_scores_mean, label='validation error')\n",
        "\n",
        "# 이상적인 max_depth\n",
        "ax.vlines(5,0, train_scores_mean.max(), color='blue')\n",
        "\n",
        "# 그래프 셋팅\n",
        "ax.set(title='Validation Curve'\n",
        "      , xlabel='Model Complexity(max_depth)', ylabel='MAE')\n",
        "ax.legend()\n",
        "fig.dpi = 100"
      ],
      "execution_count": 491,
      "outputs": [
        {
          "output_type": "display_data",
          "data": {
            "image/png": "[encoded data removed]",
            "text/plain": [
              "<Figure size 600x400 with 1 Axes>"
            ]
          },
          "metadata": {
            "tags": [],
            "needs_background": "light"
          }
        }
      ]
    },
    {
      "cell_type": "code",
      "metadata": {
        "id": "e1MVcuJNNe7_",
        "colab": {
          "base_uri": "https://localhost:8080/"
        },
        "outputId": "efd34e8d-f977-4d32-80a7-10fcce423225"
      },
      "source": [
        "from sklearn.model_selection import RandomizedSearchCV\n",
        "from scipy.stats import randint, uniform\n",
        "\n",
        "pipe = make_pipeline(\n",
        "    TargetEncoder(), \n",
        "    SimpleImputer(), \n",
        "    RandomForestRegressor(random_state=2)\n",
        ")\n",
        "\n",
        "dists = {\n",
        "    'targetencoder__smoothing': [2.,20.,50.,60.,100.,500.,1000.], # int로 넣으면 error(bug)\n",
        "    'targetencoder__min_samples_leaf': randint(1, 10),     \n",
        "    'simpleimputer__strategy': ['mean', 'median'], \n",
        "    'randomforestregressor__n_estimators': randint(50, 500), \n",
        "    'randomforestregressor__max_depth': [5, 10, 15, 20, None], \n",
        "    'randomforestregressor__max_features': uniform(0, 1) # max_features\n",
        "}\n",
        "\n",
        "clf = RandomizedSearchCV(\n",
        "    pipe, \n",
        "    param_distributions=dists, \n",
        "    n_iter=50, \n",
        "    cv=3, \n",
        "    scoring='neg_mean_absolute_error',  \n",
        "    verbose=1,\n",
        "    n_jobs=-1\n",
        ")\n",
        "\n",
        "clf.fit(X_train, y_train);"
      ],
      "execution_count": 492,
      "outputs": [
        {
          "output_type": "stream",
          "text": [
            "Fitting 3 folds for each of 50 candidates, totalling 150 fits\n"
          ],
          "name": "stdout"
        },
        {
          "output_type": "stream",
          "text": [
            "[Parallel(n_jobs=-1)]: Using backend LokyBackend with 2 concurrent workers.\n",
            "[Parallel(n_jobs=-1)]: Done  46 tasks      | elapsed:   55.1s\n",
            "[Parallel(n_jobs=-1)]: Done 150 out of 150 | elapsed:  3.7min finished\n",
            "/usr/local/lib/python3.7/dist-packages/category_encoders/utils.py:21: FutureWarning: is_categorical is deprecated and will be removed in a future version.  Use is_categorical_dtype instead\n",
            "  elif pd.api.types.is_categorical(cols):\n"
          ],
          "name": "stderr"
        }
      ]
    },
    {
      "cell_type": "code",
      "metadata": {
        "id": "_HF_kYV9NoJ-"
      },
      "source": [
        "# 만들어진 모델에서 가장 성능이 좋은 모델을 불러옵니다.\n",
        "pipe = clf.best_estimator_"
      ],
      "execution_count": 493,
      "outputs": []
    },
    {
      "cell_type": "code",
      "metadata": {
        "id": "1_n2-cuMOkmp",
        "colab": {
          "base_uri": "https://localhost:8080/"
        },
        "outputId": "1fd42b4f-0cb7-4e1e-c9d1-fb5ce3985f3a"
      },
      "source": [
        "from sklearn.metrics import mean_absolute_error\n",
        "\n",
        "y_pred = pipe.predict(X_test)\n",
        "mae = mean_absolute_error(y_test, y_pred)\n",
        "print(f'테스트세트 MAE: ${mae}')"
      ],
      "execution_count": 494,
      "outputs": [
        {
          "output_type": "stream",
          "text": [
            "테스트세트 MAE: $0.35513240200166807\n"
          ],
          "name": "stdout"
        }
      ]
    },
    {
      "cell_type": "code",
      "metadata": {
        "id": "Wc16ChuWQfDE"
      },
      "source": [
        ""
      ],
      "execution_count": 494,
      "outputs": []
    }
  ]
}